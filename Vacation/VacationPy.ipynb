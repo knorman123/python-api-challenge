{
 "cells": [
  {
   "cell_type": "markdown",
   "metadata": {},
   "source": [
    "# VacationPy\n",
    "----\n",
    "\n",
    "#### Note\n",
    "* Keep an eye on your API usage. Use https://developers.google.com/maps/reporting/gmp-reporting as reference for how to monitor your usage and billing.\n",
    "\n",
    "* Instructions have been included for each segment. You do not have to follow them exactly, but they are included to help you think through the steps."
   ]
  },
  {
   "cell_type": "code",
   "execution_count": 10,
   "metadata": {},
   "outputs": [],
   "source": [
    "# Dependencies and Setup\n",
    "import matplotlib.pyplot as plt\n",
    "import pandas as pd\n",
    "import numpy as np\n",
    "import requests\n",
    "import gmaps\n",
    "import os\n",
    "\n",
    "# Import API key\n",
    "from api_keys import g_key"
   ]
  },
  {
   "cell_type": "markdown",
   "metadata": {},
   "source": [
    "### Store Part I results into DataFrame\n",
    "* Load the csv exported in Part I to a DataFrame"
   ]
  },
  {
   "cell_type": "code",
   "execution_count": 11,
   "metadata": {},
   "outputs": [
    {
     "output_type": "execute_result",
     "data": {
      "text/plain": [
       "               City      Lat       Lng  Max Temp  Humidity  Cloudiness  \\\n",
       "0          ramygala  55.5167   24.3000     50.00        87          75   \n",
       "1           ushuaia -54.8000  -68.3000     39.20        75          90   \n",
       "2      medicine hat  50.0501 -110.6683     59.00        41          75   \n",
       "3            ocampo  21.6500 -101.5000     63.32        40          29   \n",
       "4             avera  33.1940  -82.5271     71.60        68           1   \n",
       "..              ...      ...       ...       ...       ...         ...   \n",
       "547  victoria point -27.5833  153.3000     68.00        88          82   \n",
       "548           raahe  64.6833   24.4833     33.01       100          20   \n",
       "549          galdar  28.1470  -15.6502     63.00        82          20   \n",
       "550            gore -46.1028  168.9436     53.01        72          39   \n",
       "551         caramay  10.1815  119.2360     85.57        61          17   \n",
       "\n",
       "     Wind Speed Country        Date  \n",
       "0          5.75      LT  1619757685  \n",
       "1          5.75      AR  1619757685  \n",
       "2          9.22      CA  1619757605  \n",
       "3          7.63      MX  1619757686  \n",
       "4          9.22      US  1619757609  \n",
       "..          ...     ...         ...  \n",
       "547        1.99      AU  1619757934  \n",
       "548        6.91      FI  1619757935  \n",
       "549        2.30      ES  1619757935  \n",
       "550       10.00      NZ  1619757935  \n",
       "551        9.37      PH  1619757936  \n",
       "\n",
       "[552 rows x 9 columns]"
      ],
      "text/html": "<div>\n<style scoped>\n    .dataframe tbody tr th:only-of-type {\n        vertical-align: middle;\n    }\n\n    .dataframe tbody tr th {\n        vertical-align: top;\n    }\n\n    .dataframe thead th {\n        text-align: right;\n    }\n</style>\n<table border=\"1\" class=\"dataframe\">\n  <thead>\n    <tr style=\"text-align: right;\">\n      <th></th>\n      <th>City</th>\n      <th>Lat</th>\n      <th>Lng</th>\n      <th>Max Temp</th>\n      <th>Humidity</th>\n      <th>Cloudiness</th>\n      <th>Wind Speed</th>\n      <th>Country</th>\n      <th>Date</th>\n    </tr>\n  </thead>\n  <tbody>\n    <tr>\n      <th>0</th>\n      <td>ramygala</td>\n      <td>55.5167</td>\n      <td>24.3000</td>\n      <td>50.00</td>\n      <td>87</td>\n      <td>75</td>\n      <td>5.75</td>\n      <td>LT</td>\n      <td>1619757685</td>\n    </tr>\n    <tr>\n      <th>1</th>\n      <td>ushuaia</td>\n      <td>-54.8000</td>\n      <td>-68.3000</td>\n      <td>39.20</td>\n      <td>75</td>\n      <td>90</td>\n      <td>5.75</td>\n      <td>AR</td>\n      <td>1619757685</td>\n    </tr>\n    <tr>\n      <th>2</th>\n      <td>medicine hat</td>\n      <td>50.0501</td>\n      <td>-110.6683</td>\n      <td>59.00</td>\n      <td>41</td>\n      <td>75</td>\n      <td>9.22</td>\n      <td>CA</td>\n      <td>1619757605</td>\n    </tr>\n    <tr>\n      <th>3</th>\n      <td>ocampo</td>\n      <td>21.6500</td>\n      <td>-101.5000</td>\n      <td>63.32</td>\n      <td>40</td>\n      <td>29</td>\n      <td>7.63</td>\n      <td>MX</td>\n      <td>1619757686</td>\n    </tr>\n    <tr>\n      <th>4</th>\n      <td>avera</td>\n      <td>33.1940</td>\n      <td>-82.5271</td>\n      <td>71.60</td>\n      <td>68</td>\n      <td>1</td>\n      <td>9.22</td>\n      <td>US</td>\n      <td>1619757609</td>\n    </tr>\n    <tr>\n      <th>...</th>\n      <td>...</td>\n      <td>...</td>\n      <td>...</td>\n      <td>...</td>\n      <td>...</td>\n      <td>...</td>\n      <td>...</td>\n      <td>...</td>\n      <td>...</td>\n    </tr>\n    <tr>\n      <th>547</th>\n      <td>victoria point</td>\n      <td>-27.5833</td>\n      <td>153.3000</td>\n      <td>68.00</td>\n      <td>88</td>\n      <td>82</td>\n      <td>1.99</td>\n      <td>AU</td>\n      <td>1619757934</td>\n    </tr>\n    <tr>\n      <th>548</th>\n      <td>raahe</td>\n      <td>64.6833</td>\n      <td>24.4833</td>\n      <td>33.01</td>\n      <td>100</td>\n      <td>20</td>\n      <td>6.91</td>\n      <td>FI</td>\n      <td>1619757935</td>\n    </tr>\n    <tr>\n      <th>549</th>\n      <td>galdar</td>\n      <td>28.1470</td>\n      <td>-15.6502</td>\n      <td>63.00</td>\n      <td>82</td>\n      <td>20</td>\n      <td>2.30</td>\n      <td>ES</td>\n      <td>1619757935</td>\n    </tr>\n    <tr>\n      <th>550</th>\n      <td>gore</td>\n      <td>-46.1028</td>\n      <td>168.9436</td>\n      <td>53.01</td>\n      <td>72</td>\n      <td>39</td>\n      <td>10.00</td>\n      <td>NZ</td>\n      <td>1619757935</td>\n    </tr>\n    <tr>\n      <th>551</th>\n      <td>caramay</td>\n      <td>10.1815</td>\n      <td>119.2360</td>\n      <td>85.57</td>\n      <td>61</td>\n      <td>17</td>\n      <td>9.37</td>\n      <td>PH</td>\n      <td>1619757936</td>\n    </tr>\n  </tbody>\n</table>\n<p>552 rows × 9 columns</p>\n</div>"
     },
     "metadata": {},
     "execution_count": 11
    }
   ],
   "source": [
    "\n",
    "city_weather_df = pd.read_csv('../Weather/City_Weather_Data.csv')\n",
    "city_weather_df"
   ]
  },
  {
   "cell_type": "markdown",
   "metadata": {},
   "source": [
    "### Humidity Heatmap\n",
    "* Configure gmaps.\n",
    "* Use the Lat and Lng as locations and Humidity as the weight.\n",
    "* Add Heatmap layer to map."
   ]
  },
  {
   "cell_type": "code",
   "execution_count": 20,
   "metadata": {},
   "outputs": [
    {
     "output_type": "display_data",
     "data": {
      "text/plain": "Figure(layout=FigureLayout(height='420px'))",
      "application/vnd.jupyter.widget-view+json": {
       "version_major": 2,
       "version_minor": 0,
       "model_id": "0ed51748b3d247d2a3c80cd5d3fb6e99"
      }
     },
     "metadata": {}
    }
   ],
   "source": [
    "# Get lat and lng of cities\n",
    "cities = [(city_weather_df.iloc[i, 1], city_weather_df.iloc[i, 2]) for i in city_weather_df.index]\n",
    "gmaps.configure(api_key=g_key)\n",
    "fig = gmaps.figure(map_type='ROADMAP', zoom_level=2, center=(0,0))\n",
    "heatmap = gmaps.heatmap_layer(cities, weights=city_weather_df['Humidity'])\n",
    "fig.add_layer(heatmap)\n",
    "fig"
   ]
  },
  {
   "cell_type": "code",
   "execution_count": null,
   "metadata": {},
   "outputs": [],
   "source": []
  },
  {
   "cell_type": "markdown",
   "metadata": {},
   "source": [
    "### Create new DataFrame fitting weather criteria\n",
    "* Narrow down the cities to fit weather conditions.\n",
    "* Drop any rows will null values."
   ]
  },
  {
   "cell_type": "code",
   "execution_count": 29,
   "metadata": {},
   "outputs": [
    {
     "output_type": "execute_result",
     "data": {
      "text/plain": [
       "              City      Lat       Lng  Max Temp  Humidity  Cloudiness  \\\n",
       "0           atuona  -9.8000 -139.0333     79.34        70           8   \n",
       "1         flinders -34.5833  150.8552     72.00        72           9   \n",
       "2           maxixe -23.8597   35.3472     66.20        94          20   \n",
       "3      morgan city  29.6994  -91.2068     75.20       100           1   \n",
       "4           hobart -42.8794  147.3294     68.00        55          20   \n",
       "5         beroroha -21.6667   45.1667     76.86        63           0   \n",
       "6        thinadhoo   0.5333   72.9333     83.50        70          20   \n",
       "7     komsomolskiy  40.4272   71.7189     84.20        18           3   \n",
       "8     saint george  37.1041 -113.5841     75.20        17           1   \n",
       "9         monrovia   6.3005  -10.7969     77.00        94          20   \n",
       "10          shache  38.4167   77.2406     81.93         8           0   \n",
       "11          pishin  30.5803   66.9961     77.50        19          24   \n",
       "12             ati  13.2154   18.3353     78.55         9          16   \n",
       "13          ituacu -13.8133  -41.2967     67.28        93          16   \n",
       "14     bahia honda  22.9036  -83.1592     75.40        84           2   \n",
       "15  port macquarie -31.4333  152.9167     72.00        66           6   \n",
       "16         miramar  25.9873  -80.2323     79.00        78           1   \n",
       "17    san clemente  33.4270 -117.6120     66.00        58           0   \n",
       "18      mahibadhoo   3.7833   72.9667     83.32        69           7   \n",
       "19          bonoua   5.2741   -3.5950     80.60        94          20   \n",
       "\n",
       "    Wind Speed Country  \n",
       "0         4.52      PF  \n",
       "1         3.00      AU  \n",
       "2         3.98      MZ  \n",
       "3         4.61      US  \n",
       "4         3.44      AU  \n",
       "5         4.79      MG  \n",
       "6         4.45      MV  \n",
       "7         4.61      UZ  \n",
       "8         4.27      US  \n",
       "9         3.85      LR  \n",
       "10        2.53      CN  \n",
       "11        0.63      PK  \n",
       "12        4.70      TD  \n",
       "13        2.10      BR  \n",
       "14        2.93      CU  \n",
       "15        3.00      AU  \n",
       "16        4.61      US  \n",
       "17        2.30      US  \n",
       "18        3.58      MV  \n",
       "19        1.14      CI  "
      ],
      "text/html": "<div>\n<style scoped>\n    .dataframe tbody tr th:only-of-type {\n        vertical-align: middle;\n    }\n\n    .dataframe tbody tr th {\n        vertical-align: top;\n    }\n\n    .dataframe thead th {\n        text-align: right;\n    }\n</style>\n<table border=\"1\" class=\"dataframe\">\n  <thead>\n    <tr style=\"text-align: right;\">\n      <th></th>\n      <th>City</th>\n      <th>Lat</th>\n      <th>Lng</th>\n      <th>Max Temp</th>\n      <th>Humidity</th>\n      <th>Cloudiness</th>\n      <th>Wind Speed</th>\n      <th>Country</th>\n    </tr>\n  </thead>\n  <tbody>\n    <tr>\n      <th>0</th>\n      <td>atuona</td>\n      <td>-9.8000</td>\n      <td>-139.0333</td>\n      <td>79.34</td>\n      <td>70</td>\n      <td>8</td>\n      <td>4.52</td>\n      <td>PF</td>\n    </tr>\n    <tr>\n      <th>1</th>\n      <td>flinders</td>\n      <td>-34.5833</td>\n      <td>150.8552</td>\n      <td>72.00</td>\n      <td>72</td>\n      <td>9</td>\n      <td>3.00</td>\n      <td>AU</td>\n    </tr>\n    <tr>\n      <th>2</th>\n      <td>maxixe</td>\n      <td>-23.8597</td>\n      <td>35.3472</td>\n      <td>66.20</td>\n      <td>94</td>\n      <td>20</td>\n      <td>3.98</td>\n      <td>MZ</td>\n    </tr>\n    <tr>\n      <th>3</th>\n      <td>morgan city</td>\n      <td>29.6994</td>\n      <td>-91.2068</td>\n      <td>75.20</td>\n      <td>100</td>\n      <td>1</td>\n      <td>4.61</td>\n      <td>US</td>\n    </tr>\n    <tr>\n      <th>4</th>\n      <td>hobart</td>\n      <td>-42.8794</td>\n      <td>147.3294</td>\n      <td>68.00</td>\n      <td>55</td>\n      <td>20</td>\n      <td>3.44</td>\n      <td>AU</td>\n    </tr>\n    <tr>\n      <th>5</th>\n      <td>beroroha</td>\n      <td>-21.6667</td>\n      <td>45.1667</td>\n      <td>76.86</td>\n      <td>63</td>\n      <td>0</td>\n      <td>4.79</td>\n      <td>MG</td>\n    </tr>\n    <tr>\n      <th>6</th>\n      <td>thinadhoo</td>\n      <td>0.5333</td>\n      <td>72.9333</td>\n      <td>83.50</td>\n      <td>70</td>\n      <td>20</td>\n      <td>4.45</td>\n      <td>MV</td>\n    </tr>\n    <tr>\n      <th>7</th>\n      <td>komsomolskiy</td>\n      <td>40.4272</td>\n      <td>71.7189</td>\n      <td>84.20</td>\n      <td>18</td>\n      <td>3</td>\n      <td>4.61</td>\n      <td>UZ</td>\n    </tr>\n    <tr>\n      <th>8</th>\n      <td>saint george</td>\n      <td>37.1041</td>\n      <td>-113.5841</td>\n      <td>75.20</td>\n      <td>17</td>\n      <td>1</td>\n      <td>4.27</td>\n      <td>US</td>\n    </tr>\n    <tr>\n      <th>9</th>\n      <td>monrovia</td>\n      <td>6.3005</td>\n      <td>-10.7969</td>\n      <td>77.00</td>\n      <td>94</td>\n      <td>20</td>\n      <td>3.85</td>\n      <td>LR</td>\n    </tr>\n    <tr>\n      <th>10</th>\n      <td>shache</td>\n      <td>38.4167</td>\n      <td>77.2406</td>\n      <td>81.93</td>\n      <td>8</td>\n      <td>0</td>\n      <td>2.53</td>\n      <td>CN</td>\n    </tr>\n    <tr>\n      <th>11</th>\n      <td>pishin</td>\n      <td>30.5803</td>\n      <td>66.9961</td>\n      <td>77.50</td>\n      <td>19</td>\n      <td>24</td>\n      <td>0.63</td>\n      <td>PK</td>\n    </tr>\n    <tr>\n      <th>12</th>\n      <td>ati</td>\n      <td>13.2154</td>\n      <td>18.3353</td>\n      <td>78.55</td>\n      <td>9</td>\n      <td>16</td>\n      <td>4.70</td>\n      <td>TD</td>\n    </tr>\n    <tr>\n      <th>13</th>\n      <td>ituacu</td>\n      <td>-13.8133</td>\n      <td>-41.2967</td>\n      <td>67.28</td>\n      <td>93</td>\n      <td>16</td>\n      <td>2.10</td>\n      <td>BR</td>\n    </tr>\n    <tr>\n      <th>14</th>\n      <td>bahia honda</td>\n      <td>22.9036</td>\n      <td>-83.1592</td>\n      <td>75.40</td>\n      <td>84</td>\n      <td>2</td>\n      <td>2.93</td>\n      <td>CU</td>\n    </tr>\n    <tr>\n      <th>15</th>\n      <td>port macquarie</td>\n      <td>-31.4333</td>\n      <td>152.9167</td>\n      <td>72.00</td>\n      <td>66</td>\n      <td>6</td>\n      <td>3.00</td>\n      <td>AU</td>\n    </tr>\n    <tr>\n      <th>16</th>\n      <td>miramar</td>\n      <td>25.9873</td>\n      <td>-80.2323</td>\n      <td>79.00</td>\n      <td>78</td>\n      <td>1</td>\n      <td>4.61</td>\n      <td>US</td>\n    </tr>\n    <tr>\n      <th>17</th>\n      <td>san clemente</td>\n      <td>33.4270</td>\n      <td>-117.6120</td>\n      <td>66.00</td>\n      <td>58</td>\n      <td>0</td>\n      <td>2.30</td>\n      <td>US</td>\n    </tr>\n    <tr>\n      <th>18</th>\n      <td>mahibadhoo</td>\n      <td>3.7833</td>\n      <td>72.9667</td>\n      <td>83.32</td>\n      <td>69</td>\n      <td>7</td>\n      <td>3.58</td>\n      <td>MV</td>\n    </tr>\n    <tr>\n      <th>19</th>\n      <td>bonoua</td>\n      <td>5.2741</td>\n      <td>-3.5950</td>\n      <td>80.60</td>\n      <td>94</td>\n      <td>20</td>\n      <td>1.14</td>\n      <td>CI</td>\n    </tr>\n  </tbody>\n</table>\n</div>"
     },
     "metadata": {},
     "execution_count": 29
    }
   ],
   "source": [
    "ideal_weather =[]\n",
    "\n",
    "for i in city_weather_df.index:\n",
    "    if (city_weather_df.iloc[i, 3] > 65 and city_weather_df.iloc[i, 3] < 85) and (city_weather_df.iloc[i, 5] <= 25 and city_weather_df.iloc[i, 6] <= 5):\n",
    "        ideal_weather.append(\n",
    "            {'City': city_weather_df.iloc[i,0],\n",
    "             'Lat': city_weather_df.iloc[i,1],\n",
    "             'Lng': city_weather_df.iloc[i,2],\n",
    "             'Max Temp': city_weather_df.iloc[i,3],\n",
    "             'Humidity': city_weather_df.iloc[i,4],\n",
    "             'Cloudiness': city_weather_df.iloc[i,5],\n",
    "             'Wind Speed': city_weather_df.iloc[i,6],\n",
    "             'Country': city_weather_df.iloc[i,7]\n",
    "             })\n",
    "ideal_weather_df = pd.DataFrame(ideal_weather)\n",
    "ideal_weather_df"
   ]
  },
  {
   "cell_type": "markdown",
   "metadata": {},
   "source": [
    "### Hotel Map\n",
    "* Store into variable named `hotel_df`.\n",
    "* Add a \"Hotel Name\" column to the DataFrame.\n",
    "* Set parameters to search for hotels with 5000 meters.\n",
    "* Hit the Google Places API for each city's coordinates.\n",
    "* Store the first Hotel result into the DataFrame.\n",
    "* Plot markers on top of the heatmap."
   ]
  },
  {
   "cell_type": "code",
   "execution_count": null,
   "metadata": {},
   "outputs": [],
   "source": [
    "hotel_df = ideal_weather_df\n",
    "hotel_df['Hotel Name'] = ''\n",
    "\n",
    "params = {'key': g_key}\n",
    "\n",
    "# Use for loop to go through cities and get lat/lng for each one and make requests\n",
    "for index, row in hotel_df.itterows():\n",
    "    url = 'https://maps.googleapis.com/maps/api/geocode/json'\n",
    "    city = row['City']\n",
    "    params['address'] = f'{city}'\n",
    "    response = requests.get(url, params=params)\n",
    "    ideal_places = response.json()\n",
    "    # Set locations of hotels\n",
    "    hotel_df.loc[index, 'Lat'] = ideal_places['results'][0]['geometry']['location']['lat']\n",
    "    hotel_df.loc[index, 'Lng'] = ideal_places['results'][0]['geometry']['location']['lng']\n",
    "\n",
    "# Set up url\n",
    "\n"
   ]
  },
  {
   "cell_type": "code",
   "execution_count": null,
   "metadata": {},
   "outputs": [],
   "source": []
  },
  {
   "cell_type": "code",
   "execution_count": null,
   "metadata": {},
   "outputs": [],
   "source": [
    "# NOTE: Do not change any of the code in this cell\n",
    "\n",
    "# Using the template add the hotel marks to the heatmap\n",
    "info_box_template = \"\"\"\n",
    "<dl>\n",
    "<dt>Name</dt><dd>{Hotel Name}</dd>\n",
    "<dt>City</dt><dd>{City}</dd>\n",
    "<dt>Country</dt><dd>{Country}</dd>\n",
    "</dl>\n",
    "\"\"\"\n",
    "# Store the DataFrame Row\n",
    "# NOTE: be sure to update with your DataFrame name\n",
    "hotel_info = [info_box_template.format(**row) for index, row in hotel_df.iterrows()]\n",
    "locations = hotel_df[[\"Lat\", \"Lng\"]]"
   ]
  },
  {
   "cell_type": "code",
   "execution_count": null,
   "metadata": {},
   "outputs": [],
   "source": [
    "# Add marker layer ontop of heat map\n",
    "\n",
    "\n",
    "# Display figure\n"
   ]
  },
  {
   "cell_type": "code",
   "execution_count": null,
   "metadata": {},
   "outputs": [],
   "source": []
  }
 ],
 "metadata": {
  "kernelspec": {
   "name": "python3",
   "display_name": "Python 3.7.9 64-bit ('PythonData': conda)",
   "metadata": {
    "interpreter": {
     "hash": "09b9fd081e3d0d3e582ec8770b3e1541d577f0aa57c748b8ddd47553873ffc88"
    }
   }
  },
  "language_info": {
   "codemirror_mode": {
    "name": "ipython",
    "version": 3
   },
   "file_extension": ".py",
   "mimetype": "text/x-python",
   "name": "python",
   "nbconvert_exporter": "python",
   "pygments_lexer": "ipython3",
   "version": "3.7.9-final"
  },
  "latex_envs": {
   "LaTeX_envs_menu_present": true,
   "autoclose": false,
   "autocomplete": true,
   "bibliofile": "biblio.bib",
   "cite_by": "apalike",
   "current_citInitial": 1,
   "eqLabelWithNumbers": true,
   "eqNumInitial": 1,
   "hotkeys": {
    "equation": "Ctrl-E",
    "itemize": "Ctrl-I"
   },
   "labels_anchors": false,
   "latex_user_defs": false,
   "report_style_numbering": false,
   "user_envs_cfg": false
  }
 },
 "nbformat": 4,
 "nbformat_minor": 4
}