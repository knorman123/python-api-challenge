{
 "cells": [
  {
   "cell_type": "markdown",
   "metadata": {},
   "source": [
    "# WeatherPy\n",
    "----\n",
    "\n",
    "#### Note\n",
    "* Instructions have been included for each segment. You do not have to follow them exactly, but they are included to help you think through the steps."
   ]
  },
  {
   "cell_type": "code",
   "execution_count": 12,
   "metadata": {
    "scrolled": true
   },
   "outputs": [],
   "source": [
    "# Dependencies and Setup\n",
    "import matplotlib.pyplot as plt\n",
    "import pandas as pd\n",
    "import numpy as np\n",
    "import requests\n",
    "import time\n",
    "from scipy.stats import linregress\n",
    "\n",
    "# Import API key\n",
    "from api_keys import weather_api_key\n",
    "\n",
    "# Incorporated citipy to determine city based on latitude and longitude\n",
    "from citipy import citipy\n",
    "\n",
    "# Output File (CSV)\n",
    "output_data_file = \"output_data/cities.csv\"\n",
    "\n",
    "# Range of latitudes and longitudes\n",
    "lat_range = (-90, 90)\n",
    "lng_range = (-180, 180)"
   ]
  },
  {
   "cell_type": "markdown",
   "metadata": {},
   "source": [
    "## Generate Cities List"
   ]
  },
  {
   "cell_type": "code",
   "execution_count": 14,
   "metadata": {},
   "outputs": [
    {
     "output_type": "stream",
     "name": "stdout",
     "text": [
      "['ramygala', 'ushuaia', 'medicine hat', 'ocampo', 'avera', 'tiksi', 'chokurdakh', 'karaul', 'qaanaaq', 'luderitz', 'roma', 'saint-pierre', 'georgetown', 'mataura', 'yellowknife', 'klaksvik', 'northam', 'longyearbyen', 'saint-philippe', 'fort abbas', 'portland', 'port alfred', 'chanal', 'general pico', 'kargasok', 'praia da vitoria', 'grindavik', 'banda aceh', 'omsukchan', 'jaisalmer', 'guerrero negro', 'nanortalik', 'salalah', 'golden', 'bac lieu', 'fort portal', 'albany', 'bredasdorp', 'mar del plata', 'kirakira', 'butaritari', 'atuona', 'avarua', 'hermanus', 'rocha', 'karacabey', 'cape town', 'flinders', 'arraial do cabo', 'ahipara', 'maxixe', 'rikitea', 'sur', 'morgan city', 'dikson', 'vanavara', 'punta arenas', 'hilo', 'carnarvon', 'nikolskoye', 'castro', 'nizhneyansk', 'tambo', 'busselton', 'bluff', 'norman wells', 'tsihombe', 'khatanga', 'kaset sombun', 'clearlake', 'mount isa', 'lorengau', 'spornoye', 'khowst', 'atasu', 'hobart', 'hithadhoo', 'bjornevatn', 'elbasan', 'vaini', 'belmonte', 'taoudenni', 'port elizabeth', 'wagar', 'taolanaro', 'coquimbo', 'yar-sale', 'sentyabrskiy', 'college', 'haibowan', 'illoqqortoormiut', 'coihaique', 'kodiak', 'cidreira', 'kailua', 'cururupu', 'tilichiki', 'bowen', 'meulaboh', 'beroroha', 'souillac', 'doume', 'marsaxlokk', 'vardo', 'dingle', 'tuatapere', 'nishihara', 'utiroa', 'khani', 'obra', 'marsala', 'faanui', 'east london', 'pisco', 'zunyi', 'basco', 'boca de parita', 'teya', 'ponta do sol', 'togur', 'aksay', 'zhigansk', 'tumannyy', 'belushya guba', 'keetmanshoop', 'sao joao da barra', 'manggar', 'yumen', 'samarai', 'tasiilaq', 'samusu', 'provideniya', 'makakilo city', 'lebu', 'hamilton', 'cabo san lucas', 'aykhal', 'shingu', 'kazalinsk', 'narasannapeta', 'lavrentiya', 'fort saint john', 'zhezkazgan', 'maanshan', 'jamestown', 'san patricio', 'kruisfontein', 'itoman', 'laguna', 'narsaq', 'richards bay', 'vetovo', 'omsk', 'necochea', 'thinadhoo', 'thompson', 'halifax', 'barra velha', 'barentsburg', 'nome', 'amderma', 'shenkursk', 'puerto ayora', 'komsomolskiy', 'creston', 'fairbanks', 'macaboboni', 'coruripe', 'saldanha', 'rawlins', 'fortuna', 'ubinskoye', 'mayo', 'port lincoln', 'bow island', 'vostok', 'sitka', 'osa', 'west helena', 'ribeira grande', 'okha', 'bengkulu', 'airai', 'torbay', 'san rafael del sur', 'buin', 'hohhot', 'olinda', 'yerbogachen', 'tiznit', 'saskylakh', 'ilulissat', 'saint george', 'wolmaranstad', 'bathsheba', 'gorele', 'new norfolk', 'mahebourg', 'santa maria', 'geraldton', 'kapaa', 'fort saint james', 'otukpo', 'poum', 'cheremshan', 'san jose', 'attawapiskat', 'comodoro rivadavia', 'broome', 'chimbote', 'beni mazar', 'huarmey', 'bethel', 'polovinnoye', 'belaya gora', 'barrow', 'los llanos de aridane', 'kimbe', 'palana', 'mount gambier', 'zaozerne', 'slantsy', 'bilibino', 'ribeiropolis', 'monrovia', 'berlevag', 'kudahuvadhoo', 'noumea', 'adrar', 'daru', 'alora', 'barra patuca', 'shache', 'orotukan', 'vaitupu', 'cayenne', 'palmer', 'armenis', 'jumla', 'kandrian', 'awjilah', 'qaqortoq', 'quatre cocos', 'hongjiang', 'paamiut', 'manowa', 'makat', 'victoria', 'kavieng', 'phichit', 'upernavik', 'tarko-sale', 'rawson', 'leningradskiy', 'pishin', 'ilam', 'cherskiy', 'ust-nera', 'hofn', 'ledyard', 'katsuura', 'kanye', 'katete', 'zhanaozen', 'magaria', 'tuktoyaktuk', 'halalo', 'zyryanka', 'barceloneta', 'deputatskiy', 'zavyalovo', 'luanda', 'hopkinsville', 'cazaje', 'ponta delgada', 'oksfjord', 'sereflikochisar', 'poya', 'niamey', 'lima', 'sinkat', 'meyungs', 'longfeng', 'sao filipe', 'pokosnoye', 'sicuani', 'ko samui', 'padang', 'hunza', 'balakhninskiy', 'mishan', 'husavik', 'bose', 'ajdabiya', 'omboue', 'beringovskiy', 'nelson bay', 'iskateley', 'vestmannaeyjar', 'terrace', 'ati', 'iqaluit', 'oussouye', 'aklavik', 'kloulklubed', 'petatlan', 'baykit', 'domodedovo', 'abha', 'lompoc', 'mittersill', 'boffa', 'falam', 'tura', 'beboto', 'chuy', 'dwarka', 'naryan-mar', 'margate', 'esperance', 'muriwai beach', 'saveh', 'constitucion', 'gorkovskoye', 'rantepao', 'henties bay', 'dalton', 'evanston', 'san nicolas', 'makambako', 'ituacu', 'hay river', 'alyangula', 'bahia honda', 'amga', 'wanning', 'nuuk', 'oranjemund', 'nichinan', 'aflu', 'grand river south east', 'faya', 'bichura', 'bergama', 'kahului', 'mujiayingzi', 'shakawe', 'porto nacional', 'kousseri', 'waitati', 'humboldt', 'vuktyl', 'tenenkou', 'ye', 'iwaki', 'ust-barguzin', 'goure', 'camacha', 'aban', 'umm jarr', 'ascension', 'raudeberg', 'stephenville', 'ashland', 'biltine', 'ust-maya', 'carroll', 'wick', 'lincoln', 'hasaki', 'denpasar', 'ichinohe', 'rochefort', 'opuwo', 'acapulco', 'ipixuna', 'egvekinot', 'willowmore', 'baft', 'sancraiu', 'nemuro', 'severo-kurilsk', 'jatai', 'hammerfest', 'talnakh', 'alofi', 'passo de camaragibe', 'panzhihua', 'codrington', 'toyooka', 'pitiquito', 'burnie', 'tarudant', 'aguimes', 'luoyang', 'konstancin-jeziorna', 'pau dos ferros', 'barawe', 'saint-francois', 'kushmurun', 'burkhala', 'awbari', 'warqla', 'najran', 'progreso', 'tuy hoa', 'namatanai', 'bambous virieux', 'wunsiedel', 'lolua', 'chunskiy', 'san andres', 'shieli', 'arlit', 'west odessa', 'namibe', 'pevek', 'romitan', 'sangar', 'tutoia', 'amapa', 'araouane', 'gao', 'paradwip', 'calahorra', 'santa barbara', 'jiexiu', 'ginir', 'saleaula', 'atherton', 'port macquarie', 'payo', 'gazion', 'paita', 'ndele', 'manado', 'maceio', 'nha trang', 'chiang klang', 'mwanza', 'brae', 'hare bay', 'marystown', 'kampot', 'tasbuget', 'kawalu', 'san cristobal', 'kaitangata', 'miramar', 'chifeng', 'itarema', 'santa cruz', 'pizarro', 'sanmenxia', 'kibara', 'walvis bay', 'aksarka', 'tamworth', 'hailar', 'sao paulo de olivenca', 'the valley', 'tucuman', 'taltal', 'touros', 'labuhan', 'yichang', 'varkkallai', 'russell', 'hambantota', 'treinta y tres', 'santa cruz del norte', 'lahti', 'san clemente', 'chukhloma', 'tadine', 'safaga', 'lakatoro', 'gari', 'xinyang', 'haines junction', 'mys shmidta', 'vaasa', 'kuantan', 'prince rupert', 'antalaha', 'high level', 'karkaralinsk', 'orlik', 'phalodi', 'jackson', 'surgut', 'mendi', 'baie-saint-paul', 'chala', 'port hardy', 'pontes e lacerda', 'mahibadhoo', 'grand gaube', 'mecca', 'bonoua', 'barbar', 'doha', 'samalaeulu', 'lagoa', 'hargeysa', 'sao felix do xingu', 'daura', 'clarence town', 'kieta', 'mutsamudu', 'plettenberg bay', 'grand centre', 'north bend', 'mana', 'sinnamary', 'erenhot', 'wulanhaote', 'valley city', 'lasa', 'karpathos', 'horsham', 'tuytepa', 'hami', 'lianzhou', 'puunsi', 'abu zabad', 'lumut', 'eldikan', 'crab hill', 'luancheng', 'muyezerskiy', 'kerki', 'hualmay', 'pontalina', 'washington', 'malatya', 'severnyy', 'uray', 'chom bung', 'aswan', 'taber', 'shibarghan', 'aleksandrov gay', 'luganville', 'muros', 'gondar', 'qasigiannguit', 'sepuka', 'barra do corda', 'mehamn', 'macomb', 'sarkand', 'olafsvik', 'maragogi', 'ouallam', 'half moon bay', 'rochelle', 'seoul', 'susner', 'bonthe', 'lixourion', 'abu samrah', 'monticello', 'ponta grossa', 'khorixas', 'marang', 'sobolevo', 'mahajanga', 'haslev', 'lebedyn', 'tigil', 'tambopata', 'merauke', 'sibolga', 'jiddah', 'gushikawa', 'svetlogorsk', 'kushiro', 'saint-augustin', 'fare', 'bambanglipuro', 'kumta', 'dores do indaia', 'genhe', 'bolungarvik', 'smithers', 'amarwara', 'umzimvubu', 'kagadi', 'tiverton', 'sochi', 'turayf', 'marawi', 'zhongshu', 'yulara', 'anadyr', 'alto araguaia', 'axim', 'tazovskiy', 'alpena', 'dasoguz', 'victoria point', 'raahe', 'galdar', 'gore', 'rungata', 'caramay']\n"
     ]
    }
   ],
   "source": [
    "# List for holding lat_lngs and cities\n",
    "lat_lngs = []\n",
    "cities = []\n",
    "\n",
    "# Create a set of random lat and lng combinations\n",
    "lats = np.random.uniform(lat_range[0], lat_range[1], size=1500)\n",
    "lngs = np.random.uniform(lng_range[0], lng_range[1], size=1500)\n",
    "lat_lngs = zip(lats, lngs)\n",
    "\n",
    "# Identify nearest city for each lat, lng combination\n",
    "for lat_lng in lat_lngs:\n",
    "    city = citipy.nearest_city(lat_lng[0], lat_lng[1]).city_name\n",
    "    \n",
    "    # If the city is unique, then add it to a our cities list\n",
    "    if city not in cities:\n",
    "        cities.append(city)\n",
    "\n",
    "# Print the city count to confirm sufficient count\n",
    "len(cities)\n",
    "print(cities)"
   ]
  },
  {
   "cell_type": "markdown",
   "metadata": {},
   "source": [
    "### Perform API Calls\n",
    "* Perform a weather check on each city using a series of successive API calls.\n",
    "* Include a print log of each city as it'sbeing processed (with the city number and city name).\n"
   ]
  },
  {
   "cell_type": "code",
   "execution_count": 26,
   "metadata": {
    "scrolled": true,
    "tags": [
     "outputPrepend"
    ]
   },
   "outputs": [
    {
     "output_type": "stream",
     "name": "stdout",
     "text": [
      "mnot\u001b[0m found. Skipping...\n",
      "Processing record 10 of Set 4 | nome\n",
      "Processing record 11 of Set 4 | amderma\n",
      "City \u001b[1mnot\u001b[0m found. Skipping...\n",
      "Processing record 12 of Set 4 | shenkursk\n",
      "Processing record 13 of Set 4 | puerto ayora\n",
      "Processing record 14 of Set 4 | komsomolskiy\n",
      "Processing record 15 of Set 4 | creston\n",
      "Processing record 16 of Set 4 | fairbanks\n",
      "Processing record 17 of Set 4 | macaboboni\n",
      "City \u001b[1mnot\u001b[0m found. Skipping...\n",
      "Processing record 18 of Set 4 | coruripe\n",
      "Processing record 19 of Set 4 | saldanha\n",
      "Processing record 20 of Set 4 | rawlins\n",
      "Processing record 21 of Set 4 | fortuna\n",
      "Processing record 22 of Set 4 | ubinskoye\n",
      "Processing record 23 of Set 4 | mayo\n",
      "Processing record 24 of Set 4 | port lincoln\n",
      "Processing record 25 of Set 4 | bow island\n",
      "Processing record 26 of Set 4 | vostok\n",
      "Processing record 27 of Set 4 | sitka\n",
      "Processing record 28 of Set 4 | osa\n",
      "Processing record 29 of Set 4 | west helena\n",
      "Processing record 30 of Set 4 | ribeira grande\n",
      "Processing record 31 of Set 4 | okha\n",
      "Processing record 32 of Set 4 | bengkulu\n",
      "Processing record 33 of Set 4 | airai\n",
      "Processing record 34 of Set 4 | torbay\n",
      "Processing record 35 of Set 4 | san rafael del sur\n",
      "Processing record 36 of Set 4 | buin\n",
      "Processing record 37 of Set 4 | hohhot\n",
      "Processing record 38 of Set 4 | olinda\n",
      "Processing record 39 of Set 4 | yerbogachen\n",
      "Processing record 40 of Set 4 | tiznit\n",
      "Processing record 41 of Set 4 | saskylakh\n",
      "Processing record 42 of Set 4 | ilulissat\n",
      "Processing record 43 of Set 4 | saint george\n",
      "Processing record 44 of Set 4 | wolmaranstad\n",
      "City \u001b[1mnot\u001b[0m found. Skipping...\n",
      "Processing record 45 of Set 4 | bathsheba\n",
      "Processing record 46 of Set 4 | gorele\n",
      "Processing record 47 of Set 4 | new norfolk\n",
      "Processing record 48 of Set 4 | mahebourg\n",
      "Processing record 49 of Set 4 | santa maria\n",
      "Processing record 50 of Set 4 | geraldton\n",
      "Processing record 1 of Set 5 | kapaa\n",
      "Processing record 2 of Set 5 | fort saint james\n",
      "Processing record 3 of Set 5 | otukpo\n",
      "Processing record 4 of Set 5 | poum\n",
      "Processing record 5 of Set 5 | cheremshan\n",
      "Processing record 6 of Set 5 | san jose\n",
      "Processing record 7 of Set 5 | attawapiskat\n",
      "City \u001b[1mnot\u001b[0m found. Skipping...\n",
      "Processing record 8 of Set 5 | comodoro rivadavia\n",
      "Processing record 9 of Set 5 | broome\n",
      "Processing record 10 of Set 5 | chimbote\n",
      "Processing record 11 of Set 5 | beni mazar\n",
      "Processing record 12 of Set 5 | huarmey\n",
      "Processing record 13 of Set 5 | bethel\n",
      "Processing record 14 of Set 5 | polovinnoye\n",
      "Processing record 15 of Set 5 | belaya gora\n",
      "Processing record 16 of Set 5 | barrow\n",
      "Processing record 17 of Set 5 | los llanos de aridane\n",
      "Processing record 18 of Set 5 | kimbe\n",
      "Processing record 19 of Set 5 | palana\n",
      "Processing record 20 of Set 5 | mount gambier\n",
      "Processing record 21 of Set 5 | zaozerne\n",
      "Processing record 22 of Set 5 | slantsy\n",
      "Processing record 23 of Set 5 | bilibino\n",
      "Processing record 24 of Set 5 | ribeiropolis\n",
      "Processing record 25 of Set 5 | monrovia\n",
      "Processing record 26 of Set 5 | berlevag\n",
      "Processing record 27 of Set 5 | kudahuvadhoo\n",
      "Processing record 28 of Set 5 | noumea\n",
      "Processing record 29 of Set 5 | adrar\n",
      "Processing record 30 of Set 5 | daru\n",
      "Processing record 31 of Set 5 | alora\n",
      "Processing record 32 of Set 5 | barra patuca\n",
      "Processing record 33 of Set 5 | shache\n",
      "Processing record 34 of Set 5 | orotukan\n",
      "Processing record 35 of Set 5 | vaitupu\n",
      "City \u001b[1mnot\u001b[0m found. Skipping...\n",
      "Processing record 36 of Set 5 | cayenne\n",
      "Processing record 37 of Set 5 | palmer\n",
      "Processing record 38 of Set 5 | armenis\n",
      "Processing record 39 of Set 5 | jumla\n",
      "Processing record 40 of Set 5 | kandrian\n",
      "Processing record 41 of Set 5 | awjilah\n",
      "Processing record 42 of Set 5 | qaqortoq\n",
      "Processing record 43 of Set 5 | quatre cocos\n",
      "Processing record 44 of Set 5 | hongjiang\n",
      "Processing record 45 of Set 5 | paamiut\n",
      "Processing record 46 of Set 5 | manowa\n",
      "Processing record 47 of Set 5 | makat\n",
      "Processing record 48 of Set 5 | victoria\n",
      "Processing record 49 of Set 5 | kavieng\n",
      "Processing record 50 of Set 5 | phichit\n",
      "Processing record 1 of Set 6 | upernavik\n",
      "Processing record 2 of Set 6 | tarko-sale\n",
      "Processing record 3 of Set 6 | rawson\n",
      "Processing record 4 of Set 6 | leningradskiy\n",
      "Processing record 5 of Set 6 | pishin\n",
      "Processing record 6 of Set 6 | ilam\n",
      "Processing record 7 of Set 6 | cherskiy\n",
      "Processing record 8 of Set 6 | ust-nera\n",
      "Processing record 9 of Set 6 | hofn\n",
      "Processing record 10 of Set 6 | ledyard\n",
      "Processing record 11 of Set 6 | katsuura\n",
      "Processing record 12 of Set 6 | kanye\n",
      "Processing record 13 of Set 6 | katete\n",
      "Processing record 14 of Set 6 | zhanaozen\n",
      "Processing record 15 of Set 6 | magaria\n",
      "Processing record 16 of Set 6 | tuktoyaktuk\n",
      "Processing record 17 of Set 6 | halalo\n",
      "City \u001b[1mnot\u001b[0m found. Skipping...\n",
      "Processing record 18 of Set 6 | zyryanka\n",
      "Processing record 19 of Set 6 | barceloneta\n",
      "Processing record 20 of Set 6 | deputatskiy\n",
      "Processing record 21 of Set 6 | zavyalovo\n",
      "Processing record 22 of Set 6 | luanda\n",
      "Processing record 23 of Set 6 | hopkinsville\n",
      "Processing record 24 of Set 6 | cazaje\n",
      "City \u001b[1mnot\u001b[0m found. Skipping...\n",
      "Processing record 25 of Set 6 | ponta delgada\n",
      "Processing record 26 of Set 6 | oksfjord\n",
      "Processing record 27 of Set 6 | sereflikochisar\n",
      "Processing record 28 of Set 6 | poya\n",
      "Processing record 29 of Set 6 | niamey\n",
      "Processing record 30 of Set 6 | lima\n",
      "Processing record 31 of Set 6 | sinkat\n",
      "City \u001b[1mnot\u001b[0m found. Skipping...\n",
      "Processing record 32 of Set 6 | meyungs\n",
      "City \u001b[1mnot\u001b[0m found. Skipping...\n",
      "Processing record 33 of Set 6 | longfeng\n",
      "Processing record 34 of Set 6 | sao filipe\n",
      "Processing record 35 of Set 6 | pokosnoye\n",
      "Processing record 36 of Set 6 | sicuani\n",
      "Processing record 37 of Set 6 | ko samui\n",
      "Processing record 38 of Set 6 | padang\n",
      "Processing record 39 of Set 6 | hunza\n",
      "City \u001b[1mnot\u001b[0m found. Skipping...\n",
      "Processing record 40 of Set 6 | balakhninskiy\n",
      "Processing record 41 of Set 6 | mishan\n",
      "Processing record 42 of Set 6 | husavik\n",
      "Processing record 43 of Set 6 | bose\n",
      "Processing record 44 of Set 6 | ajdabiya\n",
      "Processing record 45 of Set 6 | omboue\n",
      "Processing record 46 of Set 6 | beringovskiy\n",
      "Processing record 47 of Set 6 | nelson bay\n",
      "Processing record 48 of Set 6 | iskateley\n",
      "Processing record 49 of Set 6 | vestmannaeyjar\n",
      "Processing record 50 of Set 6 | terrace\n",
      "Processing record 1 of Set 7 | ati\n",
      "Processing record 2 of Set 7 | iqaluit\n",
      "Processing record 3 of Set 7 | oussouye\n",
      "Processing record 4 of Set 7 | aklavik\n",
      "Processing record 5 of Set 7 | kloulklubed\n",
      "Processing record 6 of Set 7 | petatlan\n",
      "Processing record 7 of Set 7 | baykit\n",
      "Processing record 8 of Set 7 | domodedovo\n",
      "Processing record 9 of Set 7 | abha\n",
      "Processing record 10 of Set 7 | lompoc\n",
      "Processing record 11 of Set 7 | mittersill\n",
      "Processing record 12 of Set 7 | boffa\n",
      "Processing record 13 of Set 7 | falam\n",
      "Processing record 14 of Set 7 | tura\n",
      "Processing record 15 of Set 7 | beboto\n",
      "Processing record 16 of Set 7 | chuy\n",
      "Processing record 17 of Set 7 | dwarka\n",
      "Processing record 18 of Set 7 | naryan-mar\n",
      "Processing record 19 of Set 7 | margate\n",
      "Processing record 20 of Set 7 | esperance\n",
      "Processing record 21 of Set 7 | muriwai beach\n",
      "Processing record 22 of Set 7 | saveh\n",
      "Processing record 23 of Set 7 | constitucion\n",
      "Processing record 24 of Set 7 | gorkovskoye\n",
      "City \u001b[1mnot\u001b[0m found. Skipping...\n",
      "Processing record 25 of Set 7 | rantepao\n",
      "Processing record 26 of Set 7 | henties bay\n",
      "Processing record 27 of Set 7 | dalton\n",
      "Processing record 28 of Set 7 | evanston\n",
      "Processing record 29 of Set 7 | san nicolas\n",
      "Processing record 30 of Set 7 | makambako\n",
      "Processing record 31 of Set 7 | ituacu\n",
      "Processing record 32 of Set 7 | hay river\n",
      "Processing record 33 of Set 7 | alyangula\n",
      "Processing record 34 of Set 7 | bahia honda\n",
      "Processing record 35 of Set 7 | amga\n",
      "Processing record 36 of Set 7 | wanning\n",
      "Processing record 37 of Set 7 | nuuk\n",
      "Processing record 38 of Set 7 | oranjemund\n",
      "Processing record 39 of Set 7 | nichinan\n",
      "Processing record 40 of Set 7 | aflu\n",
      "City \u001b[1mnot\u001b[0m found. Skipping...\n",
      "Processing record 41 of Set 7 | grand river south east\n",
      "City \u001b[1mnot\u001b[0m found. Skipping...\n",
      "Processing record 42 of Set 7 | faya\n",
      "Processing record 43 of Set 7 | bichura\n",
      "Processing record 44 of Set 7 | bergama\n",
      "Processing record 45 of Set 7 | kahului\n",
      "Processing record 46 of Set 7 | mujiayingzi\n",
      "Processing record 47 of Set 7 | shakawe\n",
      "Processing record 48 of Set 7 | porto nacional\n",
      "Processing record 49 of Set 7 | kousseri\n",
      "Processing record 50 of Set 7 | waitati\n",
      "Processing record 1 of Set 8 | humboldt\n",
      "Processing record 2 of Set 8 | vuktyl\n",
      "Processing record 3 of Set 8 | tenenkou\n",
      "Processing record 4 of Set 8 | ye\n",
      "City \u001b[1mnot\u001b[0m found. Skipping...\n",
      "Processing record 5 of Set 8 | iwaki\n",
      "Processing record 6 of Set 8 | ust-barguzin\n",
      "Processing record 7 of Set 8 | goure\n",
      "Processing record 8 of Set 8 | camacha\n",
      "Processing record 9 of Set 8 | aban\n",
      "Processing record 10 of Set 8 | umm jarr\n",
      "City \u001b[1mnot\u001b[0m found. Skipping...\n",
      "Processing record 11 of Set 8 | ascension\n",
      "Processing record 12 of Set 8 | raudeberg\n",
      "Processing record 13 of Set 8 | stephenville\n",
      "Processing record 14 of Set 8 | ashland\n",
      "Processing record 15 of Set 8 | biltine\n",
      "Processing record 16 of Set 8 | ust-maya\n",
      "Processing record 17 of Set 8 | carroll\n",
      "Processing record 18 of Set 8 | wick\n",
      "Processing record 19 of Set 8 | lincoln\n",
      "Processing record 20 of Set 8 | hasaki\n",
      "Processing record 21 of Set 8 | denpasar\n",
      "Processing record 22 of Set 8 | ichinohe\n",
      "Processing record 23 of Set 8 | rochefort\n",
      "Processing record 24 of Set 8 | opuwo\n",
      "Processing record 25 of Set 8 | acapulco\n",
      "Processing record 26 of Set 8 | ipixuna\n",
      "Processing record 27 of Set 8 | egvekinot\n",
      "Processing record 28 of Set 8 | willowmore\n",
      "Processing record 29 of Set 8 | baft\n",
      "Processing record 30 of Set 8 | sancraiu\n",
      "Processing record 31 of Set 8 | nemuro\n",
      "Processing record 32 of Set 8 | severo-kurilsk\n",
      "Processing record 33 of Set 8 | jatai\n",
      "Processing record 34 of Set 8 | hammerfest\n",
      "Processing record 35 of Set 8 | talnakh\n",
      "Processing record 36 of Set 8 | alofi\n",
      "Processing record 37 of Set 8 | passo de camaragibe\n",
      "Processing record 38 of Set 8 | panzhihua\n",
      "Processing record 39 of Set 8 | codrington\n",
      "Processing record 40 of Set 8 | toyooka\n",
      "Processing record 41 of Set 8 | pitiquito\n",
      "Processing record 42 of Set 8 | burnie\n",
      "Processing record 43 of Set 8 | tarudant\n",
      "City \u001b[1mnot\u001b[0m found. Skipping...\n",
      "Processing record 44 of Set 8 | aguimes\n",
      "Processing record 45 of Set 8 | luoyang\n",
      "Processing record 46 of Set 8 | konstancin-jeziorna\n",
      "Processing record 47 of Set 8 | pau dos ferros\n",
      "Processing record 48 of Set 8 | barawe\n",
      "City \u001b[1mnot\u001b[0m found. Skipping...\n",
      "Processing record 49 of Set 8 | saint-francois\n",
      "Processing record 50 of Set 8 | kushmurun\n",
      "Processing record 1 of Set 9 | burkhala\n",
      "City \u001b[1mnot\u001b[0m found. Skipping...\n",
      "Processing record 2 of Set 9 | awbari\n",
      "Processing record 3 of Set 9 | warqla\n",
      "City \u001b[1mnot\u001b[0m found. Skipping...\n",
      "Processing record 4 of Set 9 | najran\n",
      "Processing record 5 of Set 9 | progreso\n",
      "Processing record 6 of Set 9 | tuy hoa\n",
      "Processing record 7 of Set 9 | namatanai\n",
      "Processing record 8 of Set 9 | bambous virieux\n",
      "Processing record 9 of Set 9 | wunsiedel\n",
      "Processing record 10 of Set 9 | lolua\n",
      "City \u001b[1mnot\u001b[0m found. Skipping...\n",
      "Processing record 11 of Set 9 | chunskiy\n",
      "Processing record 12 of Set 9 | san andres\n",
      "Processing record 13 of Set 9 | shieli\n",
      "Processing record 14 of Set 9 | arlit\n",
      "Processing record 15 of Set 9 | west odessa\n",
      "Processing record 16 of Set 9 | namibe\n",
      "Processing record 17 of Set 9 | pevek\n",
      "Processing record 18 of Set 9 | romitan\n",
      "Processing record 19 of Set 9 | sangar\n",
      "Processing record 20 of Set 9 | tutoia\n",
      "Processing record 21 of Set 9 | amapa\n",
      "Processing record 22 of Set 9 | araouane\n",
      "Processing record 23 of Set 9 | gao\n",
      "Processing record 24 of Set 9 | paradwip\n",
      "City \u001b[1mnot\u001b[0m found. Skipping...\n",
      "Processing record 25 of Set 9 | calahorra\n",
      "Processing record 26 of Set 9 | santa barbara\n",
      "Processing record 27 of Set 9 | jiexiu\n",
      "Processing record 28 of Set 9 | ginir\n",
      "Processing record 29 of Set 9 | saleaula\n",
      "City \u001b[1mnot\u001b[0m found. Skipping...\n",
      "Processing record 30 of Set 9 | atherton\n",
      "Processing record 31 of Set 9 | port macquarie\n",
      "Processing record 32 of Set 9 | payo\n",
      "Processing record 33 of Set 9 | gazion\n",
      "City \u001b[1mnot\u001b[0m found. Skipping...\n",
      "Processing record 34 of Set 9 | paita\n",
      "Processing record 35 of Set 9 | ndele\n",
      "Processing record 36 of Set 9 | manado\n",
      "Processing record 37 of Set 9 | maceio\n",
      "Processing record 38 of Set 9 | nha trang\n",
      "Processing record 39 of Set 9 | chiang klang\n",
      "Processing record 40 of Set 9 | mwanza\n",
      "Processing record 41 of Set 9 | brae\n",
      "Processing record 42 of Set 9 | hare bay\n",
      "Processing record 43 of Set 9 | marystown\n",
      "Processing record 44 of Set 9 | kampot\n",
      "Processing record 45 of Set 9 | tasbuget\n",
      "City \u001b[1mnot\u001b[0m found. Skipping...\n",
      "Processing record 46 of Set 9 | kawalu\n",
      "Processing record 47 of Set 9 | san cristobal\n",
      "Processing record 48 of Set 9 | kaitangata\n",
      "Processing record 49 of Set 9 | miramar\n",
      "Processing record 50 of Set 9 | chifeng\n",
      "Processing record 1 of Set 10 | itarema\n",
      "Processing record 2 of Set 10 | santa cruz\n",
      "Processing record 3 of Set 10 | pizarro\n",
      "Processing record 4 of Set 10 | sanmenxia\n",
      "Processing record 5 of Set 10 | kibara\n",
      "Processing record 6 of Set 10 | walvis bay\n",
      "Processing record 7 of Set 10 | aksarka\n",
      "Processing record 8 of Set 10 | tamworth\n",
      "Processing record 9 of Set 10 | hailar\n",
      "Processing record 10 of Set 10 | sao paulo de olivenca\n",
      "Processing record 11 of Set 10 | the valley\n",
      "Processing record 12 of Set 10 | tucuman\n",
      "Processing record 13 of Set 10 | taltal\n",
      "Processing record 14 of Set 10 | touros\n",
      "Processing record 15 of Set 10 | labuhan\n",
      "Processing record 16 of Set 10 | yichang\n",
      "Processing record 17 of Set 10 | varkkallai\n",
      "Processing record 18 of Set 10 | russell\n",
      "Processing record 19 of Set 10 | hambantota\n",
      "Processing record 20 of Set 10 | treinta y tres\n",
      "Processing record 21 of Set 10 | santa cruz del norte\n",
      "Processing record 22 of Set 10 | lahti\n",
      "Processing record 23 of Set 10 | san clemente\n",
      "Processing record 24 of Set 10 | chukhloma\n",
      "Processing record 25 of Set 10 | tadine\n",
      "Processing record 26 of Set 10 | safaga\n",
      "Processing record 27 of Set 10 | lakatoro\n",
      "Processing record 28 of Set 10 | gari\n",
      "Processing record 29 of Set 10 | xinyang\n",
      "Processing record 30 of Set 10 | haines junction\n",
      "Processing record 31 of Set 10 | mys shmidta\n",
      "City \u001b[1mnot\u001b[0m found. Skipping...\n",
      "Processing record 32 of Set 10 | vaasa\n",
      "Processing record 33 of Set 10 | kuantan\n",
      "Processing record 34 of Set 10 | prince rupert\n",
      "Processing record 35 of Set 10 | antalaha\n",
      "Processing record 36 of Set 10 | high level\n",
      "Processing record 37 of Set 10 | karkaralinsk\n",
      "City \u001b[1mnot\u001b[0m found. Skipping...\n",
      "Processing record 38 of Set 10 | orlik\n",
      "Processing record 39 of Set 10 | phalodi\n",
      "Processing record 40 of Set 10 | jackson\n",
      "Processing record 41 of Set 10 | surgut\n",
      "Processing record 42 of Set 10 | mendi\n",
      "Processing record 43 of Set 10 | baie-saint-paul\n",
      "Processing record 44 of Set 10 | chala\n",
      "Processing record 45 of Set 10 | port hardy\n",
      "Processing record 46 of Set 10 | pontes e lacerda\n",
      "Processing record 47 of Set 10 | mahibadhoo\n",
      "Processing record 48 of Set 10 | grand gaube\n",
      "Processing record 49 of Set 10 | mecca\n",
      "Processing record 50 of Set 10 | bonoua\n",
      "Processing record 1 of Set 11 | barbar\n",
      "City \u001b[1mnot\u001b[0m found. Skipping...\n",
      "Processing record 2 of Set 11 | doha\n",
      "Processing record 3 of Set 11 | samalaeulu\n",
      "City \u001b[1mnot\u001b[0m found. Skipping...\n",
      "Processing record 4 of Set 11 | lagoa\n",
      "Processing record 5 of Set 11 | hargeysa\n",
      "Processing record 6 of Set 11 | sao felix do xingu\n",
      "Processing record 7 of Set 11 | daura\n",
      "Processing record 8 of Set 11 | clarence town\n",
      "Processing record 9 of Set 11 | kieta\n",
      "Processing record 10 of Set 11 | mutsamudu\n",
      "City \u001b[1mnot\u001b[0m found. Skipping...\n",
      "Processing record 11 of Set 11 | plettenberg bay\n",
      "Processing record 12 of Set 11 | grand centre\n",
      "City \u001b[1mnot\u001b[0m found. Skipping...\n",
      "Processing record 13 of Set 11 | north bend\n",
      "Processing record 14 of Set 11 | mana\n",
      "Processing record 15 of Set 11 | sinnamary\n",
      "Processing record 16 of Set 11 | erenhot\n",
      "Processing record 17 of Set 11 | wulanhaote\n",
      "City \u001b[1mnot\u001b[0m found. Skipping...\n",
      "Processing record 18 of Set 11 | valley city\n",
      "Processing record 19 of Set 11 | lasa\n",
      "Processing record 20 of Set 11 | karpathos\n",
      "Processing record 21 of Set 11 | horsham\n",
      "Processing record 22 of Set 11 | tuytepa\n",
      "Processing record 23 of Set 11 | hami\n",
      "Processing record 24 of Set 11 | lianzhou\n",
      "Processing record 25 of Set 11 | puunsi\n",
      "City \u001b[1mnot\u001b[0m found. Skipping...\n",
      "Processing record 26 of Set 11 | abu zabad\n",
      "Processing record 27 of Set 11 | lumut\n",
      "Processing record 28 of Set 11 | eldikan\n",
      "City \u001b[1mnot\u001b[0m found. Skipping...\n",
      "Processing record 29 of Set 11 | crab hill\n",
      "City \u001b[1mnot\u001b[0m found. Skipping...\n",
      "Processing record 30 of Set 11 | luancheng\n",
      "Processing record 31 of Set 11 | muyezerskiy\n",
      "Processing record 32 of Set 11 | kerki\n",
      "City \u001b[1mnot\u001b[0m found. Skipping...\n",
      "Processing record 33 of Set 11 | hualmay\n",
      "Processing record 34 of Set 11 | pontalina\n",
      "Processing record 35 of Set 11 | washington\n",
      "Processing record 36 of Set 11 | malatya\n",
      "Processing record 37 of Set 11 | severnyy\n",
      "Processing record 38 of Set 11 | uray\n",
      "Processing record 39 of Set 11 | chom bung\n",
      "City \u001b[1mnot\u001b[0m found. Skipping...\n",
      "Processing record 40 of Set 11 | aswan\n",
      "Processing record 41 of Set 11 | taber\n",
      "Processing record 42 of Set 11 | shibarghan\n",
      "City \u001b[1mnot\u001b[0m found. Skipping...\n",
      "Processing record 43 of Set 11 | aleksandrov gay\n",
      "Processing record 44 of Set 11 | luganville\n",
      "Processing record 45 of Set 11 | muros\n",
      "Processing record 46 of Set 11 | gondar\n",
      "Processing record 47 of Set 11 | qasigiannguit\n",
      "Processing record 48 of Set 11 | sepuka\n",
      "Processing record 49 of Set 11 | barra do corda\n",
      "Processing record 50 of Set 11 | mehamn\n",
      "Processing record 1 of Set 12 | macomb\n",
      "Processing record 2 of Set 12 | sarkand\n",
      "Processing record 3 of Set 12 | olafsvik\n",
      "Processing record 4 of Set 12 | maragogi\n",
      "Processing record 5 of Set 12 | ouallam\n",
      "Processing record 6 of Set 12 | half moon bay\n",
      "Processing record 7 of Set 12 | rochelle\n",
      "Processing record 8 of Set 12 | seoul\n",
      "Processing record 9 of Set 12 | susner\n",
      "Processing record 10 of Set 12 | bonthe\n",
      "Processing record 11 of Set 12 | lixourion\n",
      "Processing record 12 of Set 12 | abu samrah\n",
      "Processing record 13 of Set 12 | monticello\n",
      "Processing record 14 of Set 12 | ponta grossa\n",
      "Processing record 15 of Set 12 | khorixas\n",
      "Processing record 16 of Set 12 | marang\n",
      "Processing record 17 of Set 12 | sobolevo\n",
      "Processing record 18 of Set 12 | mahajanga\n",
      "Processing record 19 of Set 12 | haslev\n",
      "Processing record 20 of Set 12 | lebedyn\n",
      "Processing record 21 of Set 12 | tigil\n",
      "Processing record 22 of Set 12 | tambopata\n",
      "Processing record 23 of Set 12 | merauke\n",
      "Processing record 24 of Set 12 | sibolga\n",
      "Processing record 25 of Set 12 | jiddah\n",
      "City \u001b[1mnot\u001b[0m found. Skipping...\n",
      "Processing record 26 of Set 12 | gushikawa\n",
      "Processing record 27 of Set 12 | svetlogorsk\n",
      "Processing record 28 of Set 12 | kushiro\n",
      "Processing record 29 of Set 12 | saint-augustin\n",
      "Processing record 30 of Set 12 | fare\n",
      "Processing record 31 of Set 12 | bambanglipuro\n",
      "Processing record 32 of Set 12 | kumta\n",
      "Processing record 33 of Set 12 | dores do indaia\n",
      "Processing record 34 of Set 12 | genhe\n",
      "Processing record 35 of Set 12 | bolungarvik\n",
      "City \u001b[1mnot\u001b[0m found. Skipping...\n",
      "Processing record 36 of Set 12 | smithers\n",
      "Processing record 37 of Set 12 | amarwara\n",
      "Processing record 38 of Set 12 | umzimvubu\n",
      "City \u001b[1mnot\u001b[0m found. Skipping...\n",
      "Processing record 39 of Set 12 | kagadi\n",
      "Processing record 40 of Set 12 | tiverton\n",
      "Processing record 41 of Set 12 | sochi\n",
      "Processing record 42 of Set 12 | turayf\n",
      "Processing record 43 of Set 12 | marawi\n",
      "Processing record 44 of Set 12 | zhongshu\n",
      "Processing record 45 of Set 12 | yulara\n",
      "Processing record 46 of Set 12 | anadyr\n",
      "Processing record 47 of Set 12 | alto araguaia\n",
      "Processing record 48 of Set 12 | axim\n",
      "Processing record 49 of Set 12 | tazovskiy\n",
      "Processing record 50 of Set 12 | alpena\n",
      "Processing record 1 of Set 13 | dasoguz\n",
      "Processing record 2 of Set 13 | victoria point\n",
      "Processing record 3 of Set 13 | raahe\n",
      "Processing record 4 of Set 13 | galdar\n",
      "Processing record 5 of Set 13 | gore\n",
      "Processing record 6 of Set 13 | rungata\n",
      "City \u001b[1mnot\u001b[0m found. Skipping...\n",
      "Processing record 7 of Set 13 | caramay\n"
     ]
    }
   ],
   "source": [
    "# Import Url.\n",
    "url = \"http://api.openweathermap.org/data/2.5/weather?\"\n",
    "units = \"imperial\"\n",
    "\n",
    "# Build partial query URL\n",
    "query_url = f\"{url}appid={weather_api_key}&units={units}&q=\"\n",
    "\n",
    "# Check response\n",
    "    #city = 'roma'\n",
    "    #response = requests.get(query_url + city).json()\n",
    "    #print(response)\n",
    "# Variables\n",
    "city_weather = []\n",
    "count = 1\n",
    "set_count = 1\n",
    "\n",
    "# Use for loop to retrieve weather data for cities\n",
    "for i, city in enumerate(cities):\n",
    "    # Retrieve cities 50 at a time.  After each set of 50, restart the count at 1 and increase the set count by 1\n",
    "    if i >= 50 and i % 50 == 0:\n",
    "        count = 1\n",
    "        set_count += 1\n",
    "\n",
    "    # Add cities to url\n",
    "    weather_url = query_url + city\n",
    "\n",
    "    print(f'Processing record {count} of Set {set_count} | {city}')\n",
    "    \n",
    "    count += 1\n",
    "\n",
    "    # Add try/except\n",
    "    try:\n",
    "        response = requests.get(query_url + city).json()\n",
    "        lat = response[\"coord\"][\"lat\"]\n",
    "        lng = response[\"coord\"][\"lon\"]\n",
    "        max_temp = response[\"main\"][\"temp_max\"]\n",
    "        humidity = response[\"main\"][\"humidity\"]\n",
    "        cloudiness = response[\"clouds\"][\"all\"]\n",
    "        wind_speed = response[\"wind\"][\"speed\"]\n",
    "        country = response[\"sys\"][\"country\"]\n",
    "        date = response[\"dt\"]\n",
    "\n",
    "        # If these return values, add as dictionary to city_weather\n",
    "        city_weather.append({'City': city, 'Lat': lat, 'Lng': lng, 'Max Temp': max_temp, 'Humidity': humidity, 'Cloudiness': cloudiness, 'Wind Speed': wind_speed, 'Country': country, 'Date': date})\n",
    "        \n",
    "    except (KeyError, IndexError):\n",
    "        print(f'City \\033[1mnot\\033[0m found. Skipping...')\n",
    "        pass\n",
    "    \n"
   ]
  },
  {
   "cell_type": "markdown",
   "metadata": {},
   "source": [
    "### Convert Raw Data to DataFrame\n",
    "* Export the city data into a .csv.\n",
    "* Display the DataFrame"
   ]
  },
  {
   "cell_type": "code",
   "execution_count": 34,
   "metadata": {
    "tags": []
   },
   "outputs": [
    {
     "output_type": "execute_result",
     "data": {
      "text/plain": [
       "               City      Lat       Lng  Max Temp  Humidity  Cloudiness  \\\n",
       "0          ramygala  55.5167   24.3000     50.00        87          75   \n",
       "1           ushuaia -54.8000  -68.3000     39.20        75          90   \n",
       "2      medicine hat  50.0501 -110.6683     59.00        41          75   \n",
       "3            ocampo  21.6500 -101.5000     63.32        40          29   \n",
       "4             avera  33.1940  -82.5271     71.60        68           1   \n",
       "..              ...      ...       ...       ...       ...         ...   \n",
       "547  victoria point -27.5833  153.3000     68.00        88          82   \n",
       "548           raahe  64.6833   24.4833     33.01       100          20   \n",
       "549          galdar  28.1470  -15.6502     63.00        82          20   \n",
       "550            gore -46.1028  168.9436     53.01        72          39   \n",
       "551         caramay  10.1815  119.2360     85.57        61          17   \n",
       "\n",
       "     Wind Speed Country        Date  \n",
       "0          5.75      LT  1619757685  \n",
       "1          5.75      AR  1619757685  \n",
       "2          9.22      CA  1619757605  \n",
       "3          7.63      MX  1619757686  \n",
       "4          9.22      US  1619757609  \n",
       "..          ...     ...         ...  \n",
       "547        1.99      AU  1619757934  \n",
       "548        6.91      FI  1619757935  \n",
       "549        2.30      ES  1619757935  \n",
       "550       10.00      NZ  1619757935  \n",
       "551        9.37      PH  1619757936  \n",
       "\n",
       "[552 rows x 9 columns]"
      ],
      "text/html": "<div>\n<style scoped>\n    .dataframe tbody tr th:only-of-type {\n        vertical-align: middle;\n    }\n\n    .dataframe tbody tr th {\n        vertical-align: top;\n    }\n\n    .dataframe thead th {\n        text-align: right;\n    }\n</style>\n<table border=\"1\" class=\"dataframe\">\n  <thead>\n    <tr style=\"text-align: right;\">\n      <th></th>\n      <th>City</th>\n      <th>Lat</th>\n      <th>Lng</th>\n      <th>Max Temp</th>\n      <th>Humidity</th>\n      <th>Cloudiness</th>\n      <th>Wind Speed</th>\n      <th>Country</th>\n      <th>Date</th>\n    </tr>\n  </thead>\n  <tbody>\n    <tr>\n      <th>0</th>\n      <td>ramygala</td>\n      <td>55.5167</td>\n      <td>24.3000</td>\n      <td>50.00</td>\n      <td>87</td>\n      <td>75</td>\n      <td>5.75</td>\n      <td>LT</td>\n      <td>1619757685</td>\n    </tr>\n    <tr>\n      <th>1</th>\n      <td>ushuaia</td>\n      <td>-54.8000</td>\n      <td>-68.3000</td>\n      <td>39.20</td>\n      <td>75</td>\n      <td>90</td>\n      <td>5.75</td>\n      <td>AR</td>\n      <td>1619757685</td>\n    </tr>\n    <tr>\n      <th>2</th>\n      <td>medicine hat</td>\n      <td>50.0501</td>\n      <td>-110.6683</td>\n      <td>59.00</td>\n      <td>41</td>\n      <td>75</td>\n      <td>9.22</td>\n      <td>CA</td>\n      <td>1619757605</td>\n    </tr>\n    <tr>\n      <th>3</th>\n      <td>ocampo</td>\n      <td>21.6500</td>\n      <td>-101.5000</td>\n      <td>63.32</td>\n      <td>40</td>\n      <td>29</td>\n      <td>7.63</td>\n      <td>MX</td>\n      <td>1619757686</td>\n    </tr>\n    <tr>\n      <th>4</th>\n      <td>avera</td>\n      <td>33.1940</td>\n      <td>-82.5271</td>\n      <td>71.60</td>\n      <td>68</td>\n      <td>1</td>\n      <td>9.22</td>\n      <td>US</td>\n      <td>1619757609</td>\n    </tr>\n    <tr>\n      <th>...</th>\n      <td>...</td>\n      <td>...</td>\n      <td>...</td>\n      <td>...</td>\n      <td>...</td>\n      <td>...</td>\n      <td>...</td>\n      <td>...</td>\n      <td>...</td>\n    </tr>\n    <tr>\n      <th>547</th>\n      <td>victoria point</td>\n      <td>-27.5833</td>\n      <td>153.3000</td>\n      <td>68.00</td>\n      <td>88</td>\n      <td>82</td>\n      <td>1.99</td>\n      <td>AU</td>\n      <td>1619757934</td>\n    </tr>\n    <tr>\n      <th>548</th>\n      <td>raahe</td>\n      <td>64.6833</td>\n      <td>24.4833</td>\n      <td>33.01</td>\n      <td>100</td>\n      <td>20</td>\n      <td>6.91</td>\n      <td>FI</td>\n      <td>1619757935</td>\n    </tr>\n    <tr>\n      <th>549</th>\n      <td>galdar</td>\n      <td>28.1470</td>\n      <td>-15.6502</td>\n      <td>63.00</td>\n      <td>82</td>\n      <td>20</td>\n      <td>2.30</td>\n      <td>ES</td>\n      <td>1619757935</td>\n    </tr>\n    <tr>\n      <th>550</th>\n      <td>gore</td>\n      <td>-46.1028</td>\n      <td>168.9436</td>\n      <td>53.01</td>\n      <td>72</td>\n      <td>39</td>\n      <td>10.00</td>\n      <td>NZ</td>\n      <td>1619757935</td>\n    </tr>\n    <tr>\n      <th>551</th>\n      <td>caramay</td>\n      <td>10.1815</td>\n      <td>119.2360</td>\n      <td>85.57</td>\n      <td>61</td>\n      <td>17</td>\n      <td>9.37</td>\n      <td>PH</td>\n      <td>1619757936</td>\n    </tr>\n  </tbody>\n</table>\n<p>552 rows × 9 columns</p>\n</div>"
     },
     "metadata": {},
     "execution_count": 34
    }
   ],
   "source": [
    "# Create DataFrame\n",
    "city_weather_df = pd.DataFrame(city_weather)\n",
    "city_weather_df.to_csv('City_Weather_Data.csv', index=False)\n",
    "city_weather_df"
   ]
  },
  {
   "cell_type": "markdown",
   "metadata": {},
   "source": [
    "## Inspect the data and remove the cities where the humidity > 100%.\n",
    "----\n",
    "Skip this step if there are no cities that have humidity > 100%. "
   ]
  },
  {
   "cell_type": "code",
   "execution_count": null,
   "metadata": {},
   "outputs": [],
   "source": []
  },
  {
   "cell_type": "code",
   "execution_count": 35,
   "metadata": {},
   "outputs": [
    {
     "output_type": "stream",
     "name": "stdout",
     "text": [
      "[]\n"
     ]
    }
   ],
   "source": [
    "#  Get the indices of cities that have humidity over 100%.\n",
    "# Create list of indices if any exist\n",
    "high_humidity = []\n",
    "\n",
    "for x in city_weather_df.index:\n",
    "    if city_weather_df.iloc[x, 4] > 100:\n",
    "        high_humidity.append(x)\n",
    "print(high_humidity)"
   ]
  },
  {
   "cell_type": "code",
   "execution_count": null,
   "metadata": {},
   "outputs": [],
   "source": [
    "# Make a new DataFrame equal to the city data to drop all humidity outliers by index.\n",
    "# Passing \"inplace=False\" will make a copy of the city_data DataFrame, which we call \"clean_city_data\".\n"
   ]
  },
  {
   "cell_type": "code",
   "execution_count": 41,
   "metadata": {},
   "outputs": [
    {
     "output_type": "stream",
     "name": "stdout",
     "text": [
      "13.78\n105.28\n"
     ]
    }
   ],
   "source": [
    "\n"
   ]
  },
  {
   "cell_type": "markdown",
   "metadata": {},
   "source": [
    "## Plotting the Data\n",
    "* Use proper labeling of the plots using plot titles (including date of analysis) and axes labels.\n",
    "* Save the plotted figures as .pngs."
   ]
  },
  {
   "cell_type": "markdown",
   "metadata": {},
   "source": [
    "## Latitude vs. Temperature Plot"
   ]
  },
  {
   "cell_type": "code",
   "execution_count": 46,
   "metadata": {
    "scrolled": true
   },
   "outputs": [
    {
     "output_type": "display_data",
     "data": {
      "text/plain": "<Figure size 432x288 with 1 Axes>",
      "image/svg+xml": "<?xml version=\"1.0\" encoding=\"utf-8\" standalone=\"no\"?>\r\n<!DOCTYPE svg PUBLIC \"-//W3C//DTD SVG 1.1//EN\"\r\n  \"http://www.w3.org/Graphics/SVG/1.1/DTD/svg11.dtd\">\r\n<!-- Created with matplotlib (https://matplotlib.org/) -->\r\n<svg height=\"279.274375pt\" version=\"1.1\" viewBox=\"0 0 424.440625 279.274375\" width=\"424.440625pt\" xmlns=\"http://www.w3.org/2000/svg\" xmlns:xlink=\"http://www.w3.org/1999/xlink\">\r\n <metadata>\r\n  <rdf:RDF xmlns:cc=\"http://creativecommons.org/ns#\" xmlns:dc=\"http://purl.org/dc/elements/1.1/\" xmlns:rdf=\"http://www.w3.org/1999/02/22-rdf-syntax-ns#\">\r\n   <cc:Work>\r\n    <dc:type rdf:resource=\"http://purl.org/dc/dcmitype/StillImage\"/>\r\n    <dc:date>2021-04-29T22:20:08.406266</dc:date>\r\n    <dc:format>image/svg+xml</dc:format>\r\n    <dc:creator>\r\n     <cc:Agent>\r\n      <dc:title>Matplotlib v3.3.2, https://matplotlib.org/</dc:title>\r\n     </cc:Agent>\r\n    </dc:creator>\r\n   </cc:Work>\r\n  </rdf:RDF>\r\n </metadata>\r\n <defs>\r\n  <style type=\"text/css\">*{stroke-linecap:butt;stroke-linejoin:round;}</style>\r\n </defs>\r\n <g id=\"figure_1\">\r\n  <g id=\"patch_1\">\r\n   <path d=\"M 0 279.274375 \r\nL 424.440625 279.274375 \r\nL 424.440625 0 \r\nL 0 0 \r\nz\r\n\" style=\"fill:none;\"/>\r\n  </g>\r\n  <g id=\"axes_1\">\r\n   <g id=\"patch_2\">\r\n    <path d=\"M 46.965625 241.718125 \r\nL 417.240625 241.718125 \r\nL 417.240625 22.318125 \r\nL 46.965625 22.318125 \r\nz\r\n\" style=\"fill:#ffffff;\"/>\r\n   </g>\r\n   <g id=\"PathCollection_1\">\r\n    <defs>\r\n     <path d=\"M 0 3 \r\nC 0.795609 3 1.55874 2.683901 2.12132 2.12132 \r\nC 2.683901 1.55874 3 0.795609 3 0 \r\nC 3 -0.795609 2.683901 -1.55874 2.12132 -2.12132 \r\nC 1.55874 -2.683901 0.795609 -3 0 -3 \r\nC -0.795609 -3 -1.55874 -2.683901 -2.12132 -2.12132 \r\nC -2.683901 -1.55874 -3 -0.795609 -3 0 \r\nC -3 0.795609 -2.683901 1.55874 -2.12132 2.12132 \r\nC -1.55874 2.683901 -0.795609 3 0 3 \r\nz\r\n\" id=\"mcbbc34065a\" style=\"stroke:#800080;\"/>\r\n    </defs>\r\n    <g clip-path=\"url(#p5a8b493412)\">\r\n     <use style=\"fill:#800080;stroke:#800080;\" x=\"342.961067\" xlink:href=\"#mcbbc34065a\" y=\"152.791915\"/>\r\n     <use style=\"fill:#800080;stroke:#800080;\" x=\"63.796307\" xlink:href=\"#mcbbc34065a\" y=\"176.334091\"/>\r\n     <use style=\"fill:#800080;stroke:#800080;\" x=\"329.127422\" xlink:href=\"#mcbbc34065a\" y=\"133.173435\"/>\r\n     <use style=\"fill:#800080;stroke:#800080;\" x=\"257.258819\" xlink:href=\"#mcbbc34065a\" y=\"123.756565\"/>\r\n     <use style=\"fill:#800080;stroke:#800080;\" x=\"286.471785\" xlink:href=\"#mcbbc34065a\" y=\"105.707564\"/>\r\n     <use style=\"fill:#800080;stroke:#800080;\" x=\"383.881741\" xlink:href=\"#mcbbc34065a\" y=\"190.372203\"/>\r\n     <use style=\"fill:#800080;stroke:#800080;\" x=\"381.214767\" xlink:href=\"#mcbbc34065a\" y=\"218.862596\"/>\r\n     <use style=\"fill:#800080;stroke:#800080;\" x=\"398.550982\" xlink:href=\"#mcbbc34065a\" y=\"207.244096\"/>\r\n     <use style=\"fill:#800080;stroke:#800080;\" x=\"135.036821\" xlink:href=\"#mcbbc34065a\" y=\"143.418642\"/>\r\n     <use style=\"fill:#800080;stroke:#800080;\" x=\"311.825116\" xlink:href=\"#mcbbc34065a\" y=\"156.715611\"/>\r\n     <use style=\"fill:#800080;stroke:#800080;\" x=\"148.471141\" xlink:href=\"#mcbbc34065a\" y=\"93.936476\"/>\r\n     <use style=\"fill:#800080;stroke:#800080;\" x=\"216.165306\" xlink:href=\"#mcbbc34065a\" y=\"66.470604\"/>\r\n     <use style=\"fill:#800080;stroke:#800080;\" x=\"85.577731\" xlink:href=\"#mcbbc34065a\" y=\"146.230624\"/>\r\n     <use style=\"fill:#800080;stroke:#800080;\" x=\"360.521491\" xlink:href=\"#mcbbc34065a\" y=\"195.952571\"/>\r\n     <use style=\"fill:#800080;stroke:#800080;\" x=\"359.940977\" xlink:href=\"#mcbbc34065a\" y=\"184.181483\"/>\r\n     <use style=\"fill:#800080;stroke:#800080;\" x=\"331.615484\" xlink:href=\"#mcbbc34065a\" y=\"183.309551\"/>\r\n     <use style=\"fill:#800080;stroke:#800080;\" x=\"400.409943\" xlink:href=\"#mcbbc34065a\" y=\"215.571051\"/>\r\n     <use style=\"fill:#800080;stroke:#800080;\" x=\"148.422554\" xlink:href=\"#mcbbc34065a\" y=\"93.936476\"/>\r\n     <use style=\"fill:#800080;stroke:#800080;\" x=\"276.345686\" xlink:href=\"#mcbbc34065a\" y=\"43.560579\"/>\r\n     <use style=\"fill:#800080;stroke:#800080;\" x=\"317.672265\" xlink:href=\"#mcbbc34065a\" y=\"125.326044\"/>\r\n     <use style=\"fill:#800080;stroke:#800080;\" x=\"117.468299\" xlink:href=\"#mcbbc34065a\" y=\"124.432313\"/>\r\n     <use style=\"fill:#800080;stroke:#800080;\" x=\"244.77473\" xlink:href=\"#mcbbc34065a\" y=\"82.165388\"/>\r\n     <use style=\"fill:#800080;stroke:#800080;\" x=\"112.24013\" xlink:href=\"#mcbbc34065a\" y=\"140.824643\"/>\r\n     <use style=\"fill:#800080;stroke:#800080;\" x=\"351.916521\" xlink:href=\"#mcbbc34065a\" y=\"169.751001\"/>\r\n     <use style=\"fill:#800080;stroke:#800080;\" x=\"300.489403\" xlink:href=\"#mcbbc34065a\" y=\"144.072591\"/>\r\n     <use style=\"fill:#800080;stroke:#800080;\" x=\"364.029881\" xlink:href=\"#mcbbc34065a\" y=\"176.334091\"/>\r\n     <use style=\"fill:#800080;stroke:#800080;\" x=\"216.536036\" xlink:href=\"#mcbbc34065a\" y=\"77.369759\"/>\r\n     <use style=\"fill:#800080;stroke:#800080;\" x=\"360.717104\" xlink:href=\"#mcbbc34065a\" y=\"195.407613\"/>\r\n     <use style=\"fill:#800080;stroke:#800080;\" x=\"270.581541\" xlink:href=\"#mcbbc34065a\" y=\"56.268994\"/>\r\n     <use style=\"fill:#800080;stroke:#800080;\" x=\"273.269518\" xlink:href=\"#mcbbc34065a\" y=\"124.628498\"/>\r\n     <use style=\"fill:#800080;stroke:#800080;\" x=\"354.668775\" xlink:href=\"#mcbbc34065a\" y=\"182.895383\"/>\r\n     <use style=\"fill:#800080;stroke:#800080;\" x=\"245.529854\" xlink:href=\"#mcbbc34065a\" y=\"78.241692\"/>\r\n     <use style=\"fill:#800080;stroke:#800080;\" x=\"303.076157\" xlink:href=\"#mcbbc34065a\" y=\"133.173435\"/>\r\n     <use style=\"fill:#800080;stroke:#800080;\" x=\"225.96825\" xlink:href=\"#mcbbc34065a\" y=\"66.862973\"/>\r\n     <use style=\"fill:#800080;stroke:#800080;\" x=\"204.146337\" xlink:href=\"#mcbbc34065a\" y=\"123.277002\"/>\r\n     <use style=\"fill:#800080;stroke:#800080;\" x=\"310.274633\" xlink:href=\"#mcbbc34065a\" y=\"139.734727\"/>\r\n     <use style=\"fill:#800080;stroke:#800080;\" x=\"115.085509\" xlink:href=\"#mcbbc34065a\" y=\"160.639307\"/>\r\n     <use style=\"fill:#800080;stroke:#800080;\" x=\"106.304158\" xlink:href=\"#mcbbc34065a\" y=\"130.971806\"/>\r\n     <use style=\"fill:#800080;stroke:#800080;\" x=\"176.016204\" xlink:href=\"#mcbbc34065a\" y=\"81.576833\"/>\r\n     <use style=\"fill:#800080;stroke:#800080;\" x=\"210.242494\" xlink:href=\"#mcbbc34065a\" y=\"79.179019\"/>\r\n     <use style=\"fill:#800080;stroke:#800080;\" x=\"177.672213\" xlink:href=\"#mcbbc34065a\" y=\"88.835671\"/>\r\n     <use style=\"fill:#800080;stroke:#800080;\" x=\"148.803912\" xlink:href=\"#mcbbc34065a\" y=\"86.089084\"/>\r\n     <use style=\"fill:#800080;stroke:#800080;\" x=\"115.372729\" xlink:href=\"#mcbbc34065a\" y=\"150.590286\"/>\r\n     <use style=\"fill:#800080;stroke:#800080;\" x=\"115.209254\" xlink:href=\"#mcbbc34065a\" y=\"146.993565\"/>\r\n     <use style=\"fill:#800080;stroke:#800080;\" x=\"304.239463\" xlink:href=\"#mcbbc34065a\" y=\"156.715611\"/>\r\n     <use style=\"fill:#800080;stroke:#800080;\" x=\"116.62005\" xlink:href=\"#mcbbc34065a\" y=\"135.375065\"/>\r\n     <use style=\"fill:#800080;stroke:#800080;\" x=\"114.956197\" xlink:href=\"#mcbbc34065a\" y=\"104.835631\"/>\r\n     <use style=\"fill:#800080;stroke:#800080;\" x=\"144.3544\" xlink:href=\"#mcbbc34065a\" y=\"104.290673\"/>\r\n     <use style=\"fill:#800080;stroke:#800080;\" x=\"113.479859\" xlink:href=\"#mcbbc34065a\" y=\"123.909153\"/>\r\n     <use style=\"fill:#800080;stroke:#800080;\" x=\"142.093078\" xlink:href=\"#mcbbc34065a\" y=\"117.478652\"/>\r\n     <use style=\"fill:#800080;stroke:#800080;\" x=\"143.964186\" xlink:href=\"#mcbbc34065a\" y=\"93.195333\"/>\r\n     <use style=\"fill:#800080;stroke:#800080;\" x=\"259.578598\" xlink:href=\"#mcbbc34065a\" y=\"68.912015\"/>\r\n     <use style=\"fill:#800080;stroke:#800080;\" x=\"277.628435\" xlink:href=\"#mcbbc34065a\" y=\"97.860172\"/>\r\n     <use style=\"fill:#800080;stroke:#800080;\" x=\"388.48663\" xlink:href=\"#mcbbc34065a\" y=\"231.745398\"/>\r\n     <use style=\"fill:#800080;stroke:#800080;\" x=\"355.166793\" xlink:href=\"#mcbbc34065a\" y=\"166.633843\"/>\r\n     <use style=\"fill:#800080;stroke:#800080;\" x=\"67.971757\" xlink:href=\"#mcbbc34065a\" y=\"168.486699\"/>\r\n     <use style=\"fill:#800080;stroke:#800080;\" x=\"252.399354\" xlink:href=\"#mcbbc34065a\" y=\"86.089084\"/>\r\n     <use style=\"fill:#800080;stroke:#800080;\" x=\"139.544788\" xlink:href=\"#mcbbc34065a\" y=\"86.089084\"/>\r\n     <use style=\"fill:#800080;stroke:#800080;\" x=\"353.556081\" xlink:href=\"#mcbbc34065a\" y=\"172.410395\"/>\r\n     <use style=\"fill:#800080;stroke:#800080;\" x=\"139.7361\" xlink:href=\"#mcbbc34065a\" y=\"155.887276\"/>\r\n     <use style=\"fill:#800080;stroke:#800080;\" x=\"165.019335\" xlink:href=\"#mcbbc34065a\" y=\"187.560221\"/>\r\n     <use style=\"fill:#800080;stroke:#800080;\" x=\"117.317983\" xlink:href=\"#mcbbc34065a\" y=\"126.612144\"/>\r\n     <use style=\"fill:#800080;stroke:#800080;\" x=\"84.547028\" xlink:href=\"#mcbbc34065a\" y=\"146.230624\"/>\r\n     <use style=\"fill:#800080;stroke:#800080;\" x=\"367.672898\" xlink:href=\"#mcbbc34065a\" y=\"164.563003\"/>\r\n     <use style=\"fill:#800080;stroke:#800080;\" x=\"384.589037\" xlink:href=\"#mcbbc34065a\" y=\"189.565666\"/>\r\n     <use style=\"fill:#800080;stroke:#800080;\" x=\"243.670893\" xlink:href=\"#mcbbc34065a\" y=\"84.018244\"/>\r\n     <use style=\"fill:#800080;stroke:#800080;\" x=\"301.058529\" xlink:href=\"#mcbbc34065a\" y=\"124.454111\"/>\r\n     <use style=\"fill:#800080;stroke:#800080;\" x=\"150.00467\" xlink:href=\"#mcbbc34065a\" y=\"74.317996\"/>\r\n     <use style=\"fill:#800080;stroke:#800080;\" x=\"197.353513\" xlink:href=\"#mcbbc34065a\" y=\"79.505994\"/>\r\n     <use style=\"fill:#800080;stroke:#800080;\" x=\"331.13847\" xlink:href=\"#mcbbc34065a\" y=\"156.715611\"/>\r\n     <use style=\"fill:#800080;stroke:#800080;\" x=\"286.950823\" xlink:href=\"#mcbbc34065a\" y=\"93.347921\"/>\r\n     <use style=\"fill:#800080;stroke:#800080;\" x=\"325.663823\" xlink:href=\"#mcbbc34065a\" y=\"139.102576\"/>\r\n     <use style=\"fill:#800080;stroke:#800080;\" x=\"93.962287\" xlink:href=\"#mcbbc34065a\" y=\"113.554956\"/>\r\n     <use style=\"fill:#800080;stroke:#800080;\" x=\"200.95351\" xlink:href=\"#mcbbc34065a\" y=\"78.437877\"/>\r\n     <use style=\"fill:#800080;stroke:#800080;\" x=\"378.769978\" xlink:href=\"#mcbbc34065a\" y=\"199.876267\"/>\r\n     <use style=\"fill:#800080;stroke:#800080;\" x=\"306.510148\" xlink:href=\"#mcbbc34065a\" y=\"148.868219\"/>\r\n     <use style=\"fill:#800080;stroke:#800080;\" x=\"148.82365\" xlink:href=\"#mcbbc34065a\" y=\"97.860172\"/>\r\n     <use style=\"fill:#800080;stroke:#800080;\" x=\"162.32908\" xlink:href=\"#mcbbc34065a\" y=\"93.936476\"/>\r\n     <use style=\"fill:#800080;stroke:#800080;\" x=\"259.86101\" xlink:href=\"#mcbbc34065a\" y=\"78.328885\"/>\r\n     <use style=\"fill:#800080;stroke:#800080;\" x=\"116.639789\" xlink:href=\"#mcbbc34065a\" y=\"141.020827\"/>\r\n     <use style=\"fill:#800080;stroke:#800080;\" x=\"243.346979\" xlink:href=\"#mcbbc34065a\" y=\"77.740331\"/>\r\n     <use style=\"fill:#800080;stroke:#800080;\" x=\"126.672762\" xlink:href=\"#mcbbc34065a\" y=\"141.020827\"/>\r\n     <use style=\"fill:#800080;stroke:#800080;\" x=\"371.59858\" xlink:href=\"#mcbbc34065a\" y=\"193.162387\"/>\r\n     <use style=\"fill:#800080;stroke:#800080;\" x=\"366.59715\" xlink:href=\"#mcbbc34065a\" y=\"176.334091\"/>\r\n     <use style=\"fill:#800080;stroke:#800080;\" x=\"87.140362\" xlink:href=\"#mcbbc34065a\" y=\"157.151578\"/>\r\n     <use style=\"fill:#800080;stroke:#800080;\" x=\"348.713825\" xlink:href=\"#mcbbc34065a\" y=\"164.563003\"/>\r\n     <use style=\"fill:#800080;stroke:#800080;\" x=\"126.096297\" xlink:href=\"#mcbbc34065a\" y=\"121.511339\"/>\r\n     <use style=\"fill:#800080;stroke:#800080;\" x=\"256.631742\" xlink:href=\"#mcbbc34065a\" y=\"90.01278\"/>\r\n     <use style=\"fill:#800080;stroke:#800080;\" x=\"197.845203\" xlink:href=\"#mcbbc34065a\" y=\"103.069968\"/>\r\n     <use style=\"fill:#800080;stroke:#800080;\" x=\"355.487416\" xlink:href=\"#mcbbc34065a\" y=\"189.391279\"/>\r\n     <use style=\"fill:#800080;stroke:#800080;\" x=\"151.81808\" xlink:href=\"#mcbbc34065a\" y=\"93.936476\"/>\r\n     <use style=\"fill:#800080;stroke:#800080;\" x=\"212.939075\" xlink:href=\"#mcbbc34065a\" y=\"78.350683\"/>\r\n     <use style=\"fill:#800080;stroke:#800080;\" x=\"147.642631\" xlink:href=\"#mcbbc34065a\" y=\"94.241652\"/>\r\n     <use style=\"fill:#800080;stroke:#800080;\" x=\"150.552793\" xlink:href=\"#mcbbc34065a\" y=\"90.01278\"/>\r\n     <use style=\"fill:#800080;stroke:#800080;\" x=\"213.184541\" xlink:href=\"#mcbbc34065a\" y=\"109.587663\"/>\r\n     <use style=\"fill:#800080;stroke:#800080;\" x=\"293.172496\" xlink:href=\"#mcbbc34065a\" y=\"126.612144\"/>\r\n     <use style=\"fill:#800080;stroke:#800080;\" x=\"380.549732\" xlink:href=\"#mcbbc34065a\" y=\"203.799963\"/>\r\n     <use style=\"fill:#800080;stroke:#800080;\" x=\"230.306922\" xlink:href=\"#mcbbc34065a\" y=\"60.781245\"/>\r\n     <use style=\"fill:#800080;stroke:#800080;\" x=\"85.728047\" xlink:href=\"#mcbbc34065a\" y=\"146.230624\"/>\r\n     <use style=\"fill:#800080;stroke:#800080;\" x=\"268.732955\" xlink:href=\"#mcbbc34065a\" y=\"97.860172\"/>\r\n     <use style=\"fill:#800080;stroke:#800080;\" x=\"308.645448\" xlink:href=\"#mcbbc34065a\" y=\"129.24974\"/>\r\n     <use style=\"fill:#800080;stroke:#800080;\" x=\"264.260163\" xlink:href=\"#mcbbc34065a\" y=\"32.290852\"/>\r\n     <use style=\"fill:#800080;stroke:#800080;\" x=\"298.119012\" xlink:href=\"#mcbbc34065a\" y=\"113.554956\"/>\r\n     <use style=\"fill:#800080;stroke:#800080;\" x=\"160.759617\" xlink:href=\"#mcbbc34065a\" y=\"84.323421\"/>\r\n     <use style=\"fill:#800080;stroke:#800080;\" x=\"118.924139\" xlink:href=\"#mcbbc34065a\" y=\"123.124414\"/>\r\n     <use style=\"fill:#800080;stroke:#800080;\" x=\"167.802968\" xlink:href=\"#mcbbc34065a\" y=\"120.116247\"/>\r\n     <use style=\"fill:#800080;stroke:#800080;\" x=\"272.535145\" xlink:href=\"#mcbbc34065a\" y=\"92.170813\"/>\r\n     <use style=\"fill:#800080;stroke:#800080;\" x=\"254.218838\" xlink:href=\"#mcbbc34065a\" y=\"88.399705\"/>\r\n     <use style=\"fill:#800080;stroke:#800080;\" x=\"222.758721\" xlink:href=\"#mcbbc34065a\" y=\"91.42967\"/>\r\n     <use style=\"fill:#800080;stroke:#800080;\" x=\"355.262448\" xlink:href=\"#mcbbc34065a\" y=\"182.524812\"/>\r\n     <use style=\"fill:#800080;stroke:#800080;\" x=\"285.137412\" xlink:href=\"#mcbbc34065a\" y=\"139.734727\"/>\r\n     <use style=\"fill:#800080;stroke:#800080;\" x=\"350.164097\" xlink:href=\"#mcbbc34065a\" y=\"160.290534\"/>\r\n     <use style=\"fill:#800080;stroke:#800080;\" x=\"322.066862\" xlink:href=\"#mcbbc34065a\" y=\"144.944523\"/>\r\n     <use style=\"fill:#800080;stroke:#800080;\" x=\"371.437635\" xlink:href=\"#mcbbc34065a\" y=\"189.325885\"/>\r\n     <use style=\"fill:#800080;stroke:#800080;\" x=\"135.200802\" xlink:href=\"#mcbbc34065a\" y=\"156.432233\"/>\r\n     <use style=\"fill:#800080;stroke:#800080;\" x=\"147.709438\" xlink:href=\"#mcbbc34065a\" y=\"116.650316\"/>\r\n     <use style=\"fill:#800080;stroke:#800080;\" x=\"195.175446\" xlink:href=\"#mcbbc34065a\" y=\"71.41882\"/>\r\n     <use style=\"fill:#800080;stroke:#800080;\" x=\"304.411795\" xlink:href=\"#mcbbc34065a\" y=\"89.925587\"/>\r\n     <use style=\"fill:#800080;stroke:#800080;\" x=\"175.605492\" xlink:href=\"#mcbbc34065a\" y=\"84.999168\"/>\r\n     <use style=\"fill:#800080;stroke:#800080;\" x=\"368.514314\" xlink:href=\"#mcbbc34065a\" y=\"199.876267\"/>\r\n     <use style=\"fill:#800080;stroke:#800080;\" x=\"365.398669\" xlink:href=\"#mcbbc34065a\" y=\"203.799963\"/>\r\n     <use style=\"fill:#800080;stroke:#800080;\" x=\"256.491801\" xlink:href=\"#mcbbc34065a\" y=\"86.089084\"/>\r\n     <use style=\"fill:#800080;stroke:#800080;\" x=\"107.279948\" xlink:href=\"#mcbbc34065a\" y=\"141.50039\"/>\r\n     <use style=\"fill:#800080;stroke:#800080;\" x=\"301.628415\" xlink:href=\"#mcbbc34065a\" y=\"144.072591\"/>\r\n     <use style=\"fill:#800080;stroke:#800080;\" x=\"260.39901\" xlink:href=\"#mcbbc34065a\" y=\"106.993664\"/>\r\n     <use style=\"fill:#800080;stroke:#800080;\" x=\"369.489851\" xlink:href=\"#mcbbc34065a\" y=\"194.143311\"/>\r\n     <use style=\"fill:#800080;stroke:#800080;\" x=\"287.836524\" xlink:href=\"#mcbbc34065a\" y=\"113.554956\"/>\r\n     <use style=\"fill:#800080;stroke:#800080;\" x=\"249.076708\" xlink:href=\"#mcbbc34065a\" y=\"62.437916\"/>\r\n     <use style=\"fill:#800080;stroke:#800080;\" x=\"368.43536\" xlink:href=\"#mcbbc34065a\" y=\"207.026113\"/>\r\n     <use style=\"fill:#800080;stroke:#800080;\" x=\"323.444255\" xlink:href=\"#mcbbc34065a\" y=\"135.287872\"/>\r\n     <use style=\"fill:#800080;stroke:#800080;\" x=\"282.680223\" xlink:href=\"#mcbbc34065a\" y=\"78.241692\"/>\r\n     <use style=\"fill:#800080;stroke:#800080;\" x=\"309.0015\" xlink:href=\"#mcbbc34065a\" y=\"163.691071\"/>\r\n     <use style=\"fill:#800080;stroke:#800080;\" x=\"273.370994\" xlink:href=\"#mcbbc34065a\" y=\"96.138105\"/>\r\n     <use style=\"fill:#800080;stroke:#800080;\" x=\"116.42393\" xlink:href=\"#mcbbc34065a\" y=\"141.89276\"/>\r\n     <use style=\"fill:#800080;stroke:#800080;\" x=\"268.582386\" xlink:href=\"#mcbbc34065a\" y=\"97.860172\"/>\r\n     <use style=\"fill:#800080;stroke:#800080;\" x=\"299.699104\" xlink:href=\"#mcbbc34065a\" y=\"105.707564\"/>\r\n     <use style=\"fill:#800080;stroke:#800080;\" x=\"356.626176\" xlink:href=\"#mcbbc34065a\" y=\"180.257787\"/>\r\n     <use style=\"fill:#800080;stroke:#800080;\" x=\"129.634295\" xlink:href=\"#mcbbc34065a\" y=\"112.530435\"/>\r\n     <use style=\"fill:#800080;stroke:#800080;\" x=\"313.058013\" xlink:href=\"#mcbbc34065a\" y=\"148.432253\"/>\r\n     <use style=\"fill:#800080;stroke:#800080;\" x=\"341.653518\" xlink:href=\"#mcbbc34065a\" y=\"144.944523\"/>\r\n     <use style=\"fill:#800080;stroke:#800080;\" x=\"104.924994\" xlink:href=\"#mcbbc34065a\" y=\"139.734727\"/>\r\n     <use style=\"fill:#800080;stroke:#800080;\" x=\"203.821411\" xlink:href=\"#mcbbc34065a\" y=\"79.767574\"/>\r\n     <use style=\"fill:#800080;stroke:#800080;\" x=\"343.535001\" xlink:href=\"#mcbbc34065a\" y=\"207.723659\"/>\r\n     <use style=\"fill:#800080;stroke:#800080;\" x=\"315.450166\" xlink:href=\"#mcbbc34065a\" y=\"157.151578\"/>\r\n     <use style=\"fill:#800080;stroke:#800080;\" x=\"135.077057\" xlink:href=\"#mcbbc34065a\" y=\"124.454111\"/>\r\n     <use style=\"fill:#800080;stroke:#800080;\" x=\"365.696771\" xlink:href=\"#mcbbc34065a\" y=\"203.799963\"/>\r\n     <use style=\"fill:#800080;stroke:#800080;\" x=\"359.643634\" xlink:href=\"#mcbbc34065a\" y=\"178.7973\"/>\r\n     <use style=\"fill:#800080;stroke:#800080;\" x=\"200.601\" xlink:href=\"#mcbbc34065a\" y=\"97.772978\"/>\r\n     <use style=\"fill:#800080;stroke:#800080;\" x=\"304.775945\" xlink:href=\"#mcbbc34065a\" y=\"78.241692\"/>\r\n     <use style=\"fill:#800080;stroke:#800080;\" x=\"306.37375\" xlink:href=\"#mcbbc34065a\" y=\"141.020827\"/>\r\n     <use style=\"fill:#800080;stroke:#800080;\" x=\"366.548816\" xlink:href=\"#mcbbc34065a\" y=\"176.334091\"/>\r\n     <use style=\"fill:#800080;stroke:#800080;\" x=\"176.848258\" xlink:href=\"#mcbbc34065a\" y=\"96.290693\"/>\r\n     <use style=\"fill:#800080;stroke:#800080;\" x=\"118.933249\" xlink:href=\"#mcbbc34065a\" y=\"141.020827\"/>\r\n     <use style=\"fill:#800080;stroke:#800080;\" x=\"308.227397\" xlink:href=\"#mcbbc34065a\" y=\"150.590286\"/>\r\n     <use style=\"fill:#800080;stroke:#800080;\" x=\"305.208673\" xlink:href=\"#mcbbc34065a\" y=\"154.993545\"/>\r\n     <use style=\"fill:#800080;stroke:#800080;\" x=\"342.429899\" xlink:href=\"#mcbbc34065a\" y=\"147.843699\"/>\r\n     <use style=\"fill:#800080;stroke:#800080;\" x=\"300.87987\" xlink:href=\"#mcbbc34065a\" y=\"111.353326\"/>\r\n     <use style=\"fill:#800080;stroke:#800080;\" x=\"114.57661\" xlink:href=\"#mcbbc34065a\" y=\"101.10812\"/>\r\n     <use style=\"fill:#800080;stroke:#800080;\" x=\"328.663567\" xlink:href=\"#mcbbc34065a\" y=\"133.173435\"/>\r\n     <use style=\"fill:#800080;stroke:#800080;\" x=\"320.107185\" xlink:href=\"#mcbbc34065a\" y=\"136.944543\"/>\r\n     <use style=\"fill:#800080;stroke:#800080;\" x=\"346.849043\" xlink:href=\"#mcbbc34065a\" y=\"164.563003\"/>\r\n     <use style=\"fill:#800080;stroke:#800080;\" x=\"347.43057\" xlink:href=\"#mcbbc34065a\" y=\"168.770077\"/>\r\n     <use style=\"fill:#800080;stroke:#800080;\" x=\"289.905017\" xlink:href=\"#mcbbc34065a\" y=\"113.554956\"/>\r\n     <use style=\"fill:#800080;stroke:#800080;\" x=\"299.94128\" xlink:href=\"#mcbbc34065a\" y=\"136.421384\"/>\r\n     <use style=\"fill:#800080;stroke:#800080;\" x=\"338.044664\" xlink:href=\"#mcbbc34065a\" y=\"187.080659\"/>\r\n     <use style=\"fill:#800080;stroke:#800080;\" x=\"192.854655\" xlink:href=\"#mcbbc34065a\" y=\"83.822059\"/>\r\n     <use style=\"fill:#800080;stroke:#800080;\" x=\"179.882418\" xlink:href=\"#mcbbc34065a\" y=\"105.031816\"/>\r\n     <use style=\"fill:#800080;stroke:#800080;\" x=\"323.095794\" xlink:href=\"#mcbbc34065a\" y=\"183.309551\"/>\r\n     <use style=\"fill:#800080;stroke:#800080;\" x=\"232.455381\" xlink:href=\"#mcbbc34065a\" y=\"82.165388\"/>\r\n     <use style=\"fill:#800080;stroke:#800080;\" x=\"117.107186\" xlink:href=\"#mcbbc34065a\" y=\"126.612144\"/>\r\n     <use style=\"fill:#800080;stroke:#800080;\" x=\"305.746168\" xlink:href=\"#mcbbc34065a\" y=\"156.715611\"/>\r\n     <use style=\"fill:#800080;stroke:#800080;\" x=\"182.204727\" xlink:href=\"#mcbbc34065a\" y=\"101.783868\"/>\r\n     <use style=\"fill:#800080;stroke:#800080;\" x=\"357.537183\" xlink:href=\"#mcbbc34065a\" y=\"175.70194\"/>\r\n     <use style=\"fill:#800080;stroke:#800080;\" x=\"277.334635\" xlink:href=\"#mcbbc34065a\" y=\"144.007196\"/>\r\n     <use style=\"fill:#800080;stroke:#800080;\" x=\"384.462508\" xlink:href=\"#mcbbc34065a\" y=\"187.603818\"/>\r\n     <use style=\"fill:#800080;stroke:#800080;\" x=\"377.629954\" xlink:href=\"#mcbbc34065a\" y=\"195.952571\"/>\r\n     <use style=\"fill:#800080;stroke:#800080;\" x=\"296.366589\" xlink:href=\"#mcbbc34065a\" y=\"97.860172\"/>\r\n     <use style=\"fill:#800080;stroke:#800080;\" x=\"235.917715\" xlink:href=\"#mcbbc34065a\" y=\"90.01278\"/>\r\n     <use style=\"fill:#800080;stroke:#800080;\" x=\"306.3034\" xlink:href=\"#mcbbc34065a\" y=\"133.173435\"/>\r\n     <use style=\"fill:#800080;stroke:#800080;\" x=\"94.207247\" xlink:href=\"#mcbbc34065a\" y=\"113.554956\"/>\r\n     <use style=\"fill:#800080;stroke:#800080;\" x=\"150.827613\" xlink:href=\"#mcbbc34065a\" y=\"90.01278\"/>\r\n     <use style=\"fill:#800080;stroke:#800080;\" x=\"127.35374\" xlink:href=\"#mcbbc34065a\" y=\"147.211548\"/>\r\n     <use style=\"fill:#800080;stroke:#800080;\" x=\"129.675543\" xlink:href=\"#mcbbc34065a\" y=\"105.707564\"/>\r\n     <use style=\"fill:#800080;stroke:#800080;\" x=\"258.33482\" xlink:href=\"#mcbbc34065a\" y=\"97.860172\"/>\r\n     <use style=\"fill:#800080;stroke:#800080;\" x=\"340.219441\" xlink:href=\"#mcbbc34065a\" y=\"153.685646\"/>\r\n     <use style=\"fill:#800080;stroke:#800080;\" x=\"220.669984\" xlink:href=\"#mcbbc34065a\" y=\"97.707584\"/>\r\n     <use style=\"fill:#800080;stroke:#800080;\" x=\"151.269958\" xlink:href=\"#mcbbc34065a\" y=\"93.50051\"/>\r\n     <use style=\"fill:#800080;stroke:#800080;\" x=\"340.810077\" xlink:href=\"#mcbbc34065a\" y=\"159.57119\"/>\r\n     <use style=\"fill:#800080;stroke:#800080;\" x=\"296.962033\" xlink:href=\"#mcbbc34065a\" y=\"126.612144\"/>\r\n     <use style=\"fill:#800080;stroke:#800080;\" x=\"86.402699\" xlink:href=\"#mcbbc34065a\" y=\"125.326044\"/>\r\n     <use style=\"fill:#800080;stroke:#800080;\" x=\"309.390197\" xlink:href=\"#mcbbc34065a\" y=\"148.432253\"/>\r\n     <use style=\"fill:#800080;stroke:#800080;\" x=\"179.480816\" xlink:href=\"#mcbbc34065a\" y=\"119.353306\"/>\r\n     <use style=\"fill:#800080;stroke:#800080;\" x=\"274.583646\" xlink:href=\"#mcbbc34065a\" y=\"87.571369\"/>\r\n     <use style=\"fill:#800080;stroke:#800080;\" x=\"176.993766\" xlink:href=\"#mcbbc34065a\" y=\"115.320619\"/>\r\n     <use style=\"fill:#800080;stroke:#800080;\" x=\"307.164808\" xlink:href=\"#mcbbc34065a\" y=\"117.914618\"/>\r\n     <use style=\"fill:#800080;stroke:#800080;\" x=\"341.12564\" xlink:href=\"#mcbbc34065a\" y=\"147.996287\"/>\r\n     <use style=\"fill:#800080;stroke:#800080;\" x=\"375.900558\" xlink:href=\"#mcbbc34065a\" y=\"193.947126\"/>\r\n     <use style=\"fill:#800080;stroke:#800080;\" x=\"382.878115\" xlink:href=\"#mcbbc34065a\" y=\"219.494747\"/>\r\n     <use style=\"fill:#800080;stroke:#800080;\" x=\"274.994359\" xlink:href=\"#mcbbc34065a\" y=\"125.326044\"/>\r\n     <use style=\"fill:#800080;stroke:#800080;\" x=\"188.426654\" xlink:href=\"#mcbbc34065a\" y=\"82.121791\"/>\r\n     <use style=\"fill:#800080;stroke:#800080;\" x=\"352.071139\" xlink:href=\"#mcbbc34065a\" y=\"194.230505\"/>\r\n     <use style=\"fill:#800080;stroke:#800080;\" x=\"106.731825\" xlink:href=\"#mcbbc34065a\" y=\"93.936476\"/>\r\n     <use style=\"fill:#800080;stroke:#800080;\" x=\"316.748098\" xlink:href=\"#mcbbc34065a\" y=\"135.375065\"/>\r\n     <use style=\"fill:#800080;stroke:#800080;\" x=\"352.074935\" xlink:href=\"#mcbbc34065a\" y=\"178.92809\"/>\r\n     <use style=\"fill:#800080;stroke:#800080;\" x=\"374.689172\" xlink:href=\"#mcbbc34065a\" y=\"208.61739\"/>\r\n     <use style=\"fill:#800080;stroke:#800080;\" x=\"175.801105\" xlink:href=\"#mcbbc34065a\" y=\"86.089084\"/>\r\n     <use style=\"fill:#800080;stroke:#800080;\" x=\"218.415747\" xlink:href=\"#mcbbc34065a\" y=\"93.936476\"/>\r\n     <use style=\"fill:#800080;stroke:#800080;\" x=\"381.782882\" xlink:href=\"#mcbbc34065a\" y=\"199.876267\"/>\r\n     <use style=\"fill:#800080;stroke:#800080;\" x=\"209.230517\" xlink:href=\"#mcbbc34065a\" y=\"79.963758\"/>\r\n     <use style=\"fill:#800080;stroke:#800080;\" x=\"146.099992\" xlink:href=\"#mcbbc34065a\" y=\"85.217151\"/>\r\n     <use style=\"fill:#800080;stroke:#800080;\" x=\"254.354224\" xlink:href=\"#mcbbc34065a\" y=\"98.841096\"/>\r\n     <use style=\"fill:#800080;stroke:#800080;\" x=\"179.503591\" xlink:href=\"#mcbbc34065a\" y=\"81.293455\"/>\r\n     <use style=\"fill:#800080;stroke:#800080;\" x=\"295.656762\" xlink:href=\"#mcbbc34065a\" y=\"137.097131\"/>\r\n     <use style=\"fill:#800080;stroke:#800080;\" x=\"242.454951\" xlink:href=\"#mcbbc34065a\" y=\"87.898344\"/>\r\n     <use style=\"fill:#800080;stroke:#800080;\" x=\"299.688222\" xlink:href=\"#mcbbc34065a\" y=\"83.189908\"/>\r\n     <use style=\"fill:#800080;stroke:#800080;\" x=\"360.042453\" xlink:href=\"#mcbbc34065a\" y=\"191.680102\"/>\r\n     <use style=\"fill:#800080;stroke:#800080;\" x=\"214.955944\" xlink:href=\"#mcbbc34065a\" y=\"91.734846\"/>\r\n     <use style=\"fill:#800080;stroke:#800080;\" x=\"309.156877\" xlink:href=\"#mcbbc34065a\" y=\"146.230624\"/>\r\n     <use style=\"fill:#800080;stroke:#800080;\" x=\"316.853876\" xlink:href=\"#mcbbc34065a\" y=\"141.129819\"/>\r\n     <use style=\"fill:#800080;stroke:#800080;\" x=\"276.553699\" xlink:href=\"#mcbbc34065a\" y=\"122.688448\"/>\r\n     <use style=\"fill:#800080;stroke:#800080;\" x=\"186.740025\" xlink:href=\"#mcbbc34065a\" y=\"79.614985\"/>\r\n     <use style=\"fill:#800080;stroke:#800080;\" x=\"276.132105\" xlink:href=\"#mcbbc34065a\" y=\"88.552293\"/>\r\n     <use style=\"fill:#800080;stroke:#800080;\" x=\"356.12006\" xlink:href=\"#mcbbc34065a\" y=\"180.257787\"/>\r\n     <use style=\"fill:#800080;stroke:#800080;\" x=\"151.334487\" xlink:href=\"#mcbbc34065a\" y=\"87.375184\"/>\r\n     <use style=\"fill:#800080;stroke:#800080;\" x=\"271.075762\" xlink:href=\"#mcbbc34065a\" y=\"75.734886\"/>\r\n     <use style=\"fill:#800080;stroke:#800080;\" x=\"359.352365\" xlink:href=\"#mcbbc34065a\" y=\"182.699198\"/>\r\n     <use style=\"fill:#800080;stroke:#800080;\" x=\"223.138308\" xlink:href=\"#mcbbc34065a\" y=\"102.721195\"/>\r\n     <use style=\"fill:#800080;stroke:#800080;\" x=\"323.045942\" xlink:href=\"#mcbbc34065a\" y=\"134.742914\"/>\r\n     <use style=\"fill:#800080;stroke:#800080;\" x=\"258.867\" xlink:href=\"#mcbbc34065a\" y=\"82.165388\"/>\r\n     <use style=\"fill:#800080;stroke:#800080;\" x=\"195.957141\" xlink:href=\"#mcbbc34065a\" y=\"76.955591\"/>\r\n     <use style=\"fill:#800080;stroke:#800080;\" x=\"243.59371\" xlink:href=\"#mcbbc34065a\" y=\"72.116366\"/>\r\n     <use style=\"fill:#800080;stroke:#800080;\" x=\"386.664362\" xlink:href=\"#mcbbc34065a\" y=\"214.284951\"/>\r\n     <use style=\"fill:#800080;stroke:#800080;\" x=\"366.763156\" xlink:href=\"#mcbbc34065a\" y=\"189.587464\"/>\r\n     <use style=\"fill:#800080;stroke:#800080;\" x=\"92.897421\" xlink:href=\"#mcbbc34065a\" y=\"122.27428\"/>\r\n     <use style=\"fill:#800080;stroke:#800080;\" x=\"378.051548\" xlink:href=\"#mcbbc34065a\" y=\"211.603758\"/>\r\n     <use style=\"fill:#800080;stroke:#800080;\" x=\"279.857619\" xlink:href=\"#mcbbc34065a\" y=\"92.84656\"/>\r\n     <use style=\"fill:#800080;stroke:#800080;\" x=\"270.586602\" xlink:href=\"#mcbbc34065a\" y=\"78.982834\"/>\r\n     <use style=\"fill:#800080;stroke:#800080;\" x=\"376.448934\" xlink:href=\"#mcbbc34065a\" y=\"217.249521\"/>\r\n     <use style=\"fill:#800080;stroke:#800080;\" x=\"365.862777\" xlink:href=\"#mcbbc34065a\" y=\"180.170594\"/>\r\n     <use style=\"fill:#800080;stroke:#800080;\" x=\"365.071213\" xlink:href=\"#mcbbc34065a\" y=\"175.898125\"/>\r\n     <use style=\"fill:#800080;stroke:#800080;\" x=\"307.338406\" xlink:href=\"#mcbbc34065a\" y=\"128.813773\"/>\r\n     <use style=\"fill:#800080;stroke:#800080;\" x=\"291.37933\" xlink:href=\"#mcbbc34065a\" y=\"93.936476\"/>\r\n     <use style=\"fill:#800080;stroke:#800080;\" x=\"139.291731\" xlink:href=\"#mcbbc34065a\" y=\"140.148895\"/>\r\n     <use style=\"fill:#800080;stroke:#800080;\" x=\"200.493451\" xlink:href=\"#mcbbc34065a\" y=\"123.080817\"/>\r\n     <use style=\"fill:#800080;stroke:#800080;\" x=\"312.045783\" xlink:href=\"#mcbbc34065a\" y=\"125.217052\"/>\r\n     <use style=\"fill:#800080;stroke:#800080;\" x=\"235.365037\" xlink:href=\"#mcbbc34065a\" y=\"93.23893\"/>\r\n     <use style=\"fill:#800080;stroke:#800080;\" x=\"378.230712\" xlink:href=\"#mcbbc34065a\" y=\"207.723659\"/>\r\n     <use style=\"fill:#800080;stroke:#800080;\" x=\"368.857207\" xlink:href=\"#mcbbc34065a\" y=\"186.971667\"/>\r\n     <use style=\"fill:#800080;stroke:#800080;\" x=\"249.162242\" xlink:href=\"#mcbbc34065a\" y=\"102.6558\"/>\r\n     <use style=\"fill:#800080;stroke:#800080;\" x=\"377.840751\" xlink:href=\"#mcbbc34065a\" y=\"208.028835\"/>\r\n     <use style=\"fill:#800080;stroke:#800080;\" x=\"340.401643\" xlink:href=\"#mcbbc34065a\" y=\"141.020827\"/>\r\n     <use style=\"fill:#800080;stroke:#800080;\" x=\"180.109664\" xlink:href=\"#mcbbc34065a\" y=\"97.860172\"/>\r\n     <use style=\"fill:#800080;stroke:#800080;\" x=\"295.763046\" xlink:href=\"#mcbbc34065a\" y=\"133.173435\"/>\r\n     <use style=\"fill:#800080;stroke:#800080;\" x=\"297.958827\" xlink:href=\"#mcbbc34065a\" y=\"141.020827\"/>\r\n     <use style=\"fill:#800080;stroke:#800080;\" x=\"380.21848\" xlink:href=\"#mcbbc34065a\" y=\"199.876267\"/>\r\n     <use style=\"fill:#800080;stroke:#800080;\" x=\"301.010701\" xlink:href=\"#mcbbc34065a\" y=\"122.971826\"/>\r\n     <use style=\"fill:#800080;stroke:#800080;\" x=\"148.444064\" xlink:href=\"#mcbbc34065a\" y=\"94.634022\"/>\r\n     <use style=\"fill:#800080;stroke:#800080;\" x=\"236.669296\" xlink:href=\"#mcbbc34065a\" y=\"66.470604\"/>\r\n     <use style=\"fill:#800080;stroke:#800080;\" x=\"171.995626\" xlink:href=\"#mcbbc34065a\" y=\"120.116247\"/>\r\n     <use style=\"fill:#800080;stroke:#800080;\" x=\"320.270154\" xlink:href=\"#mcbbc34065a\" y=\"150.873664\"/>\r\n     <use style=\"fill:#800080;stroke:#800080;\" x=\"240.167564\" xlink:href=\"#mcbbc34065a\" y=\"104.639446\"/>\r\n     <use style=\"fill:#800080;stroke:#800080;\" x=\"342.984095\" xlink:href=\"#mcbbc34065a\" y=\"164.08344\"/>\r\n     <use style=\"fill:#800080;stroke:#800080;\" x=\"166.362058\" xlink:href=\"#mcbbc34065a\" y=\"175.985318\"/>\r\n     <use style=\"fill:#800080;stroke:#800080;\" x=\"226.602666\" xlink:href=\"#mcbbc34065a\" y=\"66.470604\"/>\r\n     <use style=\"fill:#800080;stroke:#800080;\" x=\"200.069833\" xlink:href=\"#mcbbc34065a\" y=\"74.317996\"/>\r\n     <use style=\"fill:#800080;stroke:#800080;\" x=\"349.27207\" xlink:href=\"#mcbbc34065a\" y=\"176.443083\"/>\r\n     <use style=\"fill:#800080;stroke:#800080;\" x=\"317.739578\" xlink:href=\"#mcbbc34065a\" y=\"130.078075\"/>\r\n     <use style=\"fill:#800080;stroke:#800080;\" x=\"369.603474\" xlink:href=\"#mcbbc34065a\" y=\"184.181483\"/>\r\n     <use style=\"fill:#800080;stroke:#800080;\" x=\"317.514863\" xlink:href=\"#mcbbc34065a\" y=\"150.590286\"/>\r\n     <use style=\"fill:#800080;stroke:#800080;\" x=\"280.300723\" xlink:href=\"#mcbbc34065a\" y=\"87.309789\"/>\r\n     <use style=\"fill:#800080;stroke:#800080;\" x=\"198.487211\" xlink:href=\"#mcbbc34065a\" y=\"97.772978\"/>\r\n     <use style=\"fill:#800080;stroke:#800080;\" x=\"362.024653\" xlink:href=\"#mcbbc34065a\" y=\"199.527494\"/>\r\n     <use style=\"fill:#800080;stroke:#800080;\" x=\"119.679769\" xlink:href=\"#mcbbc34065a\" y=\"102.6558\"/>\r\n     <use style=\"fill:#800080;stroke:#800080;\" x=\"373.741977\" xlink:href=\"#mcbbc34065a\" y=\"193.794538\"/>\r\n     <use style=\"fill:#800080;stroke:#800080;\" x=\"363.01841\" xlink:href=\"#mcbbc34065a\" y=\"168.181523\"/>\r\n     <use style=\"fill:#800080;stroke:#800080;\" x=\"340.429479\" xlink:href=\"#mcbbc34065a\" y=\"160.639307\"/>\r\n     <use style=\"fill:#800080;stroke:#800080;\" x=\"235.914425\" xlink:href=\"#mcbbc34065a\" y=\"90.557738\"/>\r\n     <use style=\"fill:#800080;stroke:#800080;\" x=\"363.797574\" xlink:href=\"#mcbbc34065a\" y=\"188.105179\"/>\r\n     <use style=\"fill:#800080;stroke:#800080;\" x=\"234.066093\" xlink:href=\"#mcbbc34065a\" y=\"105.903748\"/>\r\n     <use style=\"fill:#800080;stroke:#800080;\" x=\"375.105452\" xlink:href=\"#mcbbc34065a\" y=\"168.486699\"/>\r\n     <use style=\"fill:#800080;stroke:#800080;\" x=\"220.291916\" xlink:href=\"#mcbbc34065a\" y=\"74.317996\"/>\r\n     <use style=\"fill:#800080;stroke:#800080;\" x=\"246.79919\" xlink:href=\"#mcbbc34065a\" y=\"94.9174\"/>\r\n     <use style=\"fill:#800080;stroke:#800080;\" x=\"358.532458\" xlink:href=\"#mcbbc34065a\" y=\"168.682884\"/>\r\n     <use style=\"fill:#800080;stroke:#800080;\" x=\"342.772539\" xlink:href=\"#mcbbc34065a\" y=\"152.791915\"/>\r\n     <use style=\"fill:#800080;stroke:#800080;\" x=\"248.569834\" xlink:href=\"#mcbbc34065a\" y=\"125.326044\"/>\r\n     <use style=\"fill:#800080;stroke:#800080;\" x=\"290.12872\" xlink:href=\"#mcbbc34065a\" y=\"144.944523\"/>\r\n     <use style=\"fill:#800080;stroke:#800080;\" x=\"322.083817\" xlink:href=\"#mcbbc34065a\" y=\"159.353207\"/>\r\n     <use style=\"fill:#800080;stroke:#800080;\" x=\"228.199459\" xlink:href=\"#mcbbc34065a\" y=\"98.993684\"/>\r\n     <use style=\"fill:#800080;stroke:#800080;\" x=\"260.464299\" xlink:href=\"#mcbbc34065a\" y=\"82.121791\"/>\r\n     <use style=\"fill:#800080;stroke:#800080;\" x=\"267.051641\" xlink:href=\"#mcbbc34065a\" y=\"48.70498\"/>\r\n     <use style=\"fill:#800080;stroke:#800080;\" x=\"223.391618\" xlink:href=\"#mcbbc34065a\" y=\"92.84656\"/>\r\n     <use style=\"fill:#800080;stroke:#800080;\" x=\"117.198793\" xlink:href=\"#mcbbc34065a\" y=\"142.394121\"/>\r\n     <use style=\"fill:#800080;stroke:#800080;\" x=\"258.75034\" xlink:href=\"#mcbbc34065a\" y=\"75.996466\"/>\r\n     <use style=\"fill:#800080;stroke:#800080;\" x=\"373.719202\" xlink:href=\"#mcbbc34065a\" y=\"193.51116\"/>\r\n     <use style=\"fill:#800080;stroke:#800080;\" x=\"332.496124\" xlink:href=\"#mcbbc34065a\" y=\"170.208766\"/>\r\n     <use style=\"fill:#800080;stroke:#800080;\" x=\"116.769607\" xlink:href=\"#mcbbc34065a\" y=\"133.173435\"/>\r\n     <use style=\"fill:#800080;stroke:#800080;\" x=\"109.304409\" xlink:href=\"#mcbbc34065a\" y=\"124.454111\"/>\r\n     <use style=\"fill:#800080;stroke:#800080;\" x=\"291.095906\" xlink:href=\"#mcbbc34065a\" y=\"102.328825\"/>\r\n     <use style=\"fill:#800080;stroke:#800080;\" x=\"113.058265\" xlink:href=\"#mcbbc34065a\" y=\"144.246977\"/>\r\n     <use style=\"fill:#800080;stroke:#800080;\" x=\"194.955792\" xlink:href=\"#mcbbc34065a\" y=\"79.898363\"/>\r\n     <use style=\"fill:#800080;stroke:#800080;\" x=\"146.505643\" xlink:href=\"#mcbbc34065a\" y=\"135.375065\"/>\r\n     <use style=\"fill:#800080;stroke:#800080;\" x=\"290.459466\" xlink:href=\"#mcbbc34065a\" y=\"113.554956\"/>\r\n     <use style=\"fill:#800080;stroke:#800080;\" x=\"308.860041\" xlink:href=\"#mcbbc34065a\" y=\"137.097131\"/>\r\n     <use style=\"fill:#800080;stroke:#800080;\" x=\"248.458742\" xlink:href=\"#mcbbc34065a\" y=\"74.317996\"/>\r\n     <use style=\"fill:#800080;stroke:#800080;\" x=\"180.088154\" xlink:href=\"#mcbbc34065a\" y=\"131.56036\"/>\r\n     <use style=\"fill:#800080;stroke:#800080;\" x=\"167.516254\" xlink:href=\"#mcbbc34065a\" y=\"115.124434\"/>\r\n     <use style=\"fill:#800080;stroke:#800080;\" x=\"356.370334\" xlink:href=\"#mcbbc34065a\" y=\"172.410395\"/>\r\n     <use style=\"fill:#800080;stroke:#800080;\" x=\"167.427684\" xlink:href=\"#mcbbc34065a\" y=\"70.3943\"/>\r\n     <use style=\"fill:#800080;stroke:#800080;\" x=\"260.431149\" xlink:href=\"#mcbbc34065a\" y=\"97.424205\"/>\r\n     <use style=\"fill:#800080;stroke:#800080;\" x=\"356.572021\" xlink:href=\"#mcbbc34065a\" y=\"173.89268\"/>\r\n     <use style=\"fill:#800080;stroke:#800080;\" x=\"250.047437\" xlink:href=\"#mcbbc34065a\" y=\"84.672194\"/>\r\n     <use style=\"fill:#800080;stroke:#800080;\" x=\"364.89306\" xlink:href=\"#mcbbc34065a\" y=\"199.876267\"/>\r\n     <use style=\"fill:#800080;stroke:#800080;\" x=\"130.223919\" xlink:href=\"#mcbbc34065a\" y=\"147.211548\"/>\r\n     <use style=\"fill:#800080;stroke:#800080;\" x=\"282.438047\" xlink:href=\"#mcbbc34065a\" y=\"90.01278\"/>\r\n     <use style=\"fill:#800080;stroke:#800080;\" x=\"248.996742\" xlink:href=\"#mcbbc34065a\" y=\"125.326044\"/>\r\n     <use style=\"fill:#800080;stroke:#800080;\" x=\"330.488871\" xlink:href=\"#mcbbc34065a\" y=\"158.786451\"/>\r\n     <use style=\"fill:#800080;stroke:#800080;\" x=\"301.469748\" xlink:href=\"#mcbbc34065a\" y=\"125.326044\"/>\r\n     <use style=\"fill:#800080;stroke:#800080;\" x=\"255.347475\" xlink:href=\"#mcbbc34065a\" y=\"93.936476\"/>\r\n     <use style=\"fill:#800080;stroke:#800080;\" x=\"309.051352\" xlink:href=\"#mcbbc34065a\" y=\"145.620271\"/>\r\n     <use style=\"fill:#800080;stroke:#800080;\" x=\"155.99353\" xlink:href=\"#mcbbc34065a\" y=\"124.454111\"/>\r\n     <use style=\"fill:#800080;stroke:#800080;\" x=\"175.374197\" xlink:href=\"#mcbbc34065a\" y=\"101.783868\"/>\r\n     <use style=\"fill:#800080;stroke:#800080;\" x=\"233.033365\" xlink:href=\"#mcbbc34065a\" y=\"93.936476\"/>\r\n     <use style=\"fill:#800080;stroke:#800080;\" x=\"86.698017\" xlink:href=\"#mcbbc34065a\" y=\"137.533098\"/>\r\n     <use style=\"fill:#800080;stroke:#800080;\" x=\"305.381512\" xlink:href=\"#mcbbc34065a\" y=\"154.993545\"/>\r\n     <use style=\"fill:#800080;stroke:#800080;\" x=\"364.066068\" xlink:href=\"#mcbbc34065a\" y=\"181.587484\"/>\r\n     <use style=\"fill:#800080;stroke:#800080;\" x=\"239.056894\" xlink:href=\"#mcbbc34065a\" y=\"62.982874\"/>\r\n     <use style=\"fill:#800080;stroke:#800080;\" x=\"296.229685\" xlink:href=\"#mcbbc34065a\" y=\"124.454111\"/>\r\n     <use style=\"fill:#800080;stroke:#800080;\" x=\"337.731126\" xlink:href=\"#mcbbc34065a\" y=\"178.143351\"/>\r\n     <use style=\"fill:#800080;stroke:#800080;\" x=\"237.85816\" xlink:href=\"#mcbbc34065a\" y=\"95.898324\"/>\r\n     <use style=\"fill:#800080;stroke:#800080;\" x=\"286.19165\" xlink:href=\"#mcbbc34065a\" y=\"137.097131\"/>\r\n     <use style=\"fill:#800080;stroke:#800080;\" x=\"345.87958\" xlink:href=\"#mcbbc34065a\" y=\"160.399526\"/>\r\n     <use style=\"fill:#800080;stroke:#800080;\" x=\"278.938008\" xlink:href=\"#mcbbc34065a\" y=\"90.01278\"/>\r\n     <use style=\"fill:#800080;stroke:#800080;\" x=\"359.335916\" xlink:href=\"#mcbbc34065a\" y=\"174.612025\"/>\r\n     <use style=\"fill:#800080;stroke:#800080;\" x=\"284.008775\" xlink:href=\"#mcbbc34065a\" y=\"125.326044\"/>\r\n     <use style=\"fill:#800080;stroke:#800080;\" x=\"305.761604\" xlink:href=\"#mcbbc34065a\" y=\"148.868219\"/>\r\n     <use style=\"fill:#800080;stroke:#800080;\" x=\"239.249471\" xlink:href=\"#mcbbc34065a\" y=\"87.113604\"/>\r\n     <use style=\"fill:#800080;stroke:#800080;\" x=\"355.360888\" xlink:href=\"#mcbbc34065a\" y=\"161.860013\"/>\r\n     <use style=\"fill:#800080;stroke:#800080;\" x=\"302.556377\" xlink:href=\"#mcbbc34065a\" y=\"115.756585\"/>\r\n     <use style=\"fill:#800080;stroke:#800080;\" x=\"350.341744\" xlink:href=\"#mcbbc34065a\" y=\"184.181483\"/>\r\n     <use style=\"fill:#800080;stroke:#800080;\" x=\"305.719343\" xlink:href=\"#mcbbc34065a\" y=\"141.020827\"/>\r\n     <use style=\"fill:#800080;stroke:#800080;\" x=\"292.897676\" xlink:href=\"#mcbbc34065a\" y=\"89.576814\"/>\r\n     <use style=\"fill:#800080;stroke:#800080;\" x=\"180.582375\" xlink:href=\"#mcbbc34065a\" y=\"74.317996\"/>\r\n     <use style=\"fill:#800080;stroke:#800080;\" x=\"304.218459\" xlink:href=\"#mcbbc34065a\" y=\"144.944523\"/>\r\n     <use style=\"fill:#800080;stroke:#800080;\" x=\"318.66754\" xlink:href=\"#mcbbc34065a\" y=\"154.993545\"/>\r\n     <use style=\"fill:#800080;stroke:#800080;\" x=\"156.767887\" xlink:href=\"#mcbbc34065a\" y=\"125.129859\"/>\r\n     <use style=\"fill:#800080;stroke:#800080;\" x=\"245.145965\" xlink:href=\"#mcbbc34065a\" y=\"91.473267\"/>\r\n     <use style=\"fill:#800080;stroke:#800080;\" x=\"198.011715\" xlink:href=\"#mcbbc34065a\" y=\"97.860172\"/>\r\n     <use style=\"fill:#800080;stroke:#800080;\" x=\"370.291284\" xlink:href=\"#mcbbc34065a\" y=\"209.402129\"/>\r\n     <use style=\"fill:#800080;stroke:#800080;\" x=\"118.222411\" xlink:href=\"#mcbbc34065a\" y=\"160.290534\"/>\r\n     <use style=\"fill:#800080;stroke:#800080;\" x=\"276.450705\" xlink:href=\"#mcbbc34065a\" y=\"119.985457\"/>\r\n     <use style=\"fill:#800080;stroke:#800080;\" x=\"320.987066\" xlink:href=\"#mcbbc34065a\" y=\"152.791915\"/>\r\n     <use style=\"fill:#800080;stroke:#800080;\" x=\"312.105504\" xlink:href=\"#mcbbc34065a\" y=\"168.486699\"/>\r\n     <use style=\"fill:#800080;stroke:#800080;\" x=\"330.718648\" xlink:href=\"#mcbbc34065a\" y=\"173.740092\"/>\r\n     <use style=\"fill:#800080;stroke:#800080;\" x=\"157.221619\" xlink:href=\"#mcbbc34065a\" y=\"126.197976\"/>\r\n     <use style=\"fill:#800080;stroke:#800080;\" x=\"381.290938\" xlink:href=\"#mcbbc34065a\" y=\"207.723659\"/>\r\n     <use style=\"fill:#800080;stroke:#800080;\" x=\"378.312703\" xlink:href=\"#mcbbc34065a\" y=\"192.137867\"/>\r\n     <use style=\"fill:#800080;stroke:#800080;\" x=\"154.240348\" xlink:href=\"#mcbbc34065a\" y=\"78.241692\"/>\r\n     <use style=\"fill:#800080;stroke:#800080;\" x=\"179.097433\" xlink:href=\"#mcbbc34065a\" y=\"101.783868\"/>\r\n     <use style=\"fill:#800080;stroke:#800080;\" x=\"269.747463\" xlink:href=\"#mcbbc34065a\" y=\"69.609561\"/>\r\n     <use style=\"fill:#800080;stroke:#800080;\" x=\"105.635074\" xlink:href=\"#mcbbc34065a\" y=\"98.732104\"/>\r\n     <use style=\"fill:#800080;stroke:#800080;\" x=\"292.39156\" xlink:href=\"#mcbbc34065a\" y=\"133.173435\"/>\r\n     <use style=\"fill:#800080;stroke:#800080;\" x=\"280.160529\" xlink:href=\"#mcbbc34065a\" y=\"111.353326\"/>\r\n     <use style=\"fill:#800080;stroke:#800080;\" x=\"98.549462\" xlink:href=\"#mcbbc34065a\" y=\"133.173435\"/>\r\n     <use style=\"fill:#800080;stroke:#800080;\" x=\"273.088582\" xlink:href=\"#mcbbc34065a\" y=\"122.27428\"/>\r\n     <use style=\"fill:#800080;stroke:#800080;\" x=\"290.24133\" xlink:href=\"#mcbbc34065a\" y=\"74.165408\"/>\r\n     <use style=\"fill:#800080;stroke:#800080;\" x=\"334.299159\" xlink:href=\"#mcbbc34065a\" y=\"146.230624\"/>\r\n     <use style=\"fill:#800080;stroke:#800080;\" x=\"187.003711\" xlink:href=\"#mcbbc34065a\" y=\"102.372422\"/>\r\n     <use style=\"fill:#800080;stroke:#800080;\" x=\"319.929538\" xlink:href=\"#mcbbc34065a\" y=\"159.353207\"/>\r\n     <use style=\"fill:#800080;stroke:#800080;\" x=\"335.201309\" xlink:href=\"#mcbbc34065a\" y=\"143.331448\"/>\r\n     <use style=\"fill:#800080;stroke:#800080;\" x=\"269.765177\" xlink:href=\"#mcbbc34065a\" y=\"87.571369\"/>\r\n     <use style=\"fill:#800080;stroke:#800080;\" x=\"246.737697\" xlink:href=\"#mcbbc34065a\" y=\"105.707564\"/>\r\n     <use style=\"fill:#800080;stroke:#800080;\" x=\"256.330857\" xlink:href=\"#mcbbc34065a\" y=\"78.241692\"/>\r\n     <use style=\"fill:#800080;stroke:#800080;\" x=\"235.580136\" xlink:href=\"#mcbbc34065a\" y=\"74.012819\"/>\r\n     <use style=\"fill:#800080;stroke:#800080;\" x=\"193.192993\" xlink:href=\"#mcbbc34065a\" y=\"74.361592\"/>\r\n     <use style=\"fill:#800080;stroke:#800080;\" x=\"150.99286\" xlink:href=\"#mcbbc34065a\" y=\"87.375184\"/>\r\n     <use style=\"fill:#800080;stroke:#800080;\" x=\"329.084908\" xlink:href=\"#mcbbc34065a\" y=\"185.467584\"/>\r\n     <use style=\"fill:#800080;stroke:#800080;\" x=\"344.390336\" xlink:href=\"#mcbbc34065a\" y=\"169.816396\"/>\r\n     <use style=\"fill:#800080;stroke:#800080;\" x=\"234.318391\" xlink:href=\"#mcbbc34065a\" y=\"86.089084\"/>\r\n     <use style=\"fill:#800080;stroke:#800080;\" x=\"314.239033\" xlink:href=\"#mcbbc34065a\" y=\"116.846501\"/>\r\n     <use style=\"fill:#800080;stroke:#800080;\" x=\"249.886999\" xlink:href=\"#mcbbc34065a\" y=\"80.879287\"/>\r\n     <use style=\"fill:#800080;stroke:#800080;\" x=\"283.051459\" xlink:href=\"#mcbbc34065a\" y=\"141.020827\"/>\r\n     <use style=\"fill:#800080;stroke:#800080;\" x=\"164.016974\" xlink:href=\"#mcbbc34065a\" y=\"101.980052\"/>\r\n     <use style=\"fill:#800080;stroke:#800080;\" x=\"378.855006\" xlink:href=\"#mcbbc34065a\" y=\"214.197757\"/>\r\n     <use style=\"fill:#800080;stroke:#800080;\" x=\"303.528624\" xlink:href=\"#mcbbc34065a\" y=\"101.783868\"/>\r\n     <use style=\"fill:#800080;stroke:#800080;\" x=\"364.236882\" xlink:href=\"#mcbbc34065a\" y=\"181.979854\"/>\r\n     <use style=\"fill:#800080;stroke:#800080;\" x=\"195.482658\" xlink:href=\"#mcbbc34065a\" y=\"96.247097\"/>\r\n     <use style=\"fill:#800080;stroke:#800080;\" x=\"205.002431\" xlink:href=\"#mcbbc34065a\" y=\"109.478671\"/>\r\n     <use style=\"fill:#800080;stroke:#800080;\" x=\"250.311882\" xlink:href=\"#mcbbc34065a\" y=\"65.773058\"/>\r\n     <use style=\"fill:#800080;stroke:#800080;\" x=\"244.571018\" xlink:href=\"#mcbbc34065a\" y=\"77.565944\"/>\r\n     <use style=\"fill:#800080;stroke:#800080;\" x=\"309.528113\" xlink:href=\"#mcbbc34065a\" y=\"164.563003\"/>\r\n     <use style=\"fill:#800080;stroke:#800080;\" x=\"290.3671\" xlink:href=\"#mcbbc34065a\" y=\"113.554956\"/>\r\n     <use style=\"fill:#800080;stroke:#800080;\" x=\"296.164902\" xlink:href=\"#mcbbc34065a\" y=\"109.195293\"/>\r\n     <use style=\"fill:#800080;stroke:#800080;\" x=\"220.523211\" xlink:href=\"#mcbbc34065a\" y=\"128.377807\"/>\r\n     <use style=\"fill:#800080;stroke:#800080;\" x=\"337.917629\" xlink:href=\"#mcbbc34065a\" y=\"181.12972\"/>\r\n     <use style=\"fill:#800080;stroke:#800080;\" x=\"122.92751\" xlink:href=\"#mcbbc34065a\" y=\"104.835631\"/>\r\n     <use style=\"fill:#800080;stroke:#800080;\" x=\"192.980172\" xlink:href=\"#mcbbc34065a\" y=\"81.075472\"/>\r\n     <use style=\"fill:#800080;stroke:#800080;\" x=\"189.593249\" xlink:href=\"#mcbbc34065a\" y=\"110.808368\"/>\r\n     <use style=\"fill:#800080;stroke:#800080;\" x=\"223.756274\" xlink:href=\"#mcbbc34065a\" y=\"98.296138\"/>\r\n     <use style=\"fill:#800080;stroke:#800080;\" x=\"206.234821\" xlink:href=\"#mcbbc34065a\" y=\"82.165388\"/>\r\n     <use style=\"fill:#800080;stroke:#800080;\" x=\"178.011816\" xlink:href=\"#mcbbc34065a\" y=\"101.783868\"/>\r\n     <use style=\"fill:#800080;stroke:#800080;\" x=\"233.471407\" xlink:href=\"#mcbbc34065a\" y=\"66.470604\"/>\r\n     <use style=\"fill:#800080;stroke:#800080;\" x=\"251.296276\" xlink:href=\"#mcbbc34065a\" y=\"86.089084\"/>\r\n     <use style=\"fill:#800080;stroke:#800080;\" x=\"196.103155\" xlink:href=\"#mcbbc34065a\" y=\"112.85741\"/>\r\n     <use style=\"fill:#800080;stroke:#800080;\" x=\"355.309517\" xlink:href=\"#mcbbc34065a\" y=\"180.257787\"/>\r\n     <use style=\"fill:#800080;stroke:#800080;\" x=\"326.090225\" xlink:href=\"#mcbbc34065a\" y=\"172.410395\"/>\r\n     <use style=\"fill:#800080;stroke:#800080;\" x=\"321.830507\" xlink:href=\"#mcbbc34065a\" y=\"183.636525\"/>\r\n     <use style=\"fill:#800080;stroke:#800080;\" x=\"229.338218\" xlink:href=\"#mcbbc34065a\" y=\"70.3943\"/>\r\n     <use style=\"fill:#800080;stroke:#800080;\" x=\"183.791904\" xlink:href=\"#mcbbc34065a\" y=\"70.241712\"/>\r\n     <use style=\"fill:#800080;stroke:#800080;\" x=\"222.126583\" xlink:href=\"#mcbbc34065a\" y=\"117.783828\"/>\r\n     <use style=\"fill:#800080;stroke:#800080;\" x=\"85.35251\" xlink:href=\"#mcbbc34065a\" y=\"146.230624\"/>\r\n     <use style=\"fill:#800080;stroke:#800080;\" x=\"268.234685\" xlink:href=\"#mcbbc34065a\" y=\"89.576814\"/>\r\n     <use style=\"fill:#800080;stroke:#800080;\" x=\"309.434988\" xlink:href=\"#mcbbc34065a\" y=\"142.677499\"/>\r\n     <use style=\"fill:#800080;stroke:#800080;\" x=\"195.070427\" xlink:href=\"#mcbbc34065a\" y=\"97.424205\"/>\r\n     <use style=\"fill:#800080;stroke:#800080;\" x=\"157.427608\" xlink:href=\"#mcbbc34065a\" y=\"125.326044\"/>\r\n     <use style=\"fill:#800080;stroke:#800080;\" x=\"215.006556\" xlink:href=\"#mcbbc34065a\" y=\"97.947365\"/>\r\n     <use style=\"fill:#800080;stroke:#800080;\" x=\"290.471866\" xlink:href=\"#mcbbc34065a\" y=\"74.710365\"/>\r\n     <use style=\"fill:#800080;stroke:#800080;\" x=\"197.031117\" xlink:href=\"#mcbbc34065a\" y=\"110.176217\"/>\r\n     <use style=\"fill:#800080;stroke:#800080;\" x=\"144.376163\" xlink:href=\"#mcbbc34065a\" y=\"156.715611\"/>\r\n     <use style=\"fill:#800080;stroke:#800080;\" x=\"370.908492\" xlink:href=\"#mcbbc34065a\" y=\"202.230485\"/>\r\n     <use style=\"fill:#800080;stroke:#800080;\" x=\"335.666176\" xlink:href=\"#mcbbc34065a\" y=\"178.971687\"/>\r\n     <use style=\"fill:#800080;stroke:#800080;\" x=\"326.976179\" xlink:href=\"#mcbbc34065a\" y=\"164.061642\"/>\r\n     <use style=\"fill:#800080;stroke:#800080;\" x=\"193.922811\" xlink:href=\"#mcbbc34065a\" y=\"105.424186\"/>\r\n     <use style=\"fill:#800080;stroke:#800080;\" x=\"248.571352\" xlink:href=\"#mcbbc34065a\" y=\"89.576814\"/>\r\n     <use style=\"fill:#800080;stroke:#800080;\" x=\"134.591439\" xlink:href=\"#mcbbc34065a\" y=\"133.173435\"/>\r\n     <use style=\"fill:#800080;stroke:#800080;\" x=\"138.195232\" xlink:href=\"#mcbbc34065a\" y=\"128.116227\"/>\r\n     <use style=\"fill:#800080;stroke:#800080;\" x=\"189.315645\" xlink:href=\"#mcbbc34065a\" y=\"101.783868\"/>\r\n     <use style=\"fill:#800080;stroke:#800080;\" x=\"185.05036\" xlink:href=\"#mcbbc34065a\" y=\"72.988299\"/>\r\n     <use style=\"fill:#800080;stroke:#800080;\" x=\"280.196969\" xlink:href=\"#mcbbc34065a\" y=\"63.026471\"/>\r\n     <use style=\"fill:#800080;stroke:#800080;\" x=\"224.574156\" xlink:href=\"#mcbbc34065a\" y=\"66.470604\"/>\r\n     <use style=\"fill:#800080;stroke:#800080;\" x=\"284.336485\" xlink:href=\"#mcbbc34065a\" y=\"105.707564\"/>\r\n     <use style=\"fill:#800080;stroke:#800080;\" x=\"217.969354\" xlink:href=\"#mcbbc34065a\" y=\"74.317996\"/>\r\n     <use style=\"fill:#800080;stroke:#800080;\" x=\"118.372474\" xlink:href=\"#mcbbc34065a\" y=\"148.868219\"/>\r\n     <use style=\"fill:#800080;stroke:#800080;\" x=\"261.064552\" xlink:href=\"#mcbbc34065a\" y=\"97.860172\"/>\r\n     <use style=\"fill:#800080;stroke:#800080;\" x=\"354.283875\" xlink:href=\"#mcbbc34065a\" y=\"174.612025\"/>\r\n     <use style=\"fill:#800080;stroke:#800080;\" x=\"287.061409\" xlink:href=\"#mcbbc34065a\" y=\"117.914618\"/>\r\n     <use style=\"fill:#800080;stroke:#800080;\" x=\"351.149504\" xlink:href=\"#mcbbc34065a\" y=\"173.783689\"/>\r\n     <use style=\"fill:#800080;stroke:#800080;\" x=\"147.937949\" xlink:href=\"#mcbbc34065a\" y=\"96.181702\"/>\r\n     <use style=\"fill:#800080;stroke:#800080;\" x=\"270.112119\" xlink:href=\"#mcbbc34065a\" y=\"97.860172\"/>\r\n     <use style=\"fill:#800080;stroke:#800080;\" x=\"161.729839\" xlink:href=\"#mcbbc34065a\" y=\"84.519605\"/>\r\n     <use style=\"fill:#800080;stroke:#800080;\" x=\"352.86574\" xlink:href=\"#mcbbc34065a\" y=\"171.146093\"/>\r\n     <use style=\"fill:#800080;stroke:#800080;\" x=\"283.761032\" xlink:href=\"#mcbbc34065a\" y=\"72.268955\"/>\r\n     <use style=\"fill:#800080;stroke:#800080;\" x=\"356.209896\" xlink:href=\"#mcbbc34065a\" y=\"172.410395\"/>\r\n     <use style=\"fill:#800080;stroke:#800080;\" x=\"362.141059\" xlink:href=\"#mcbbc34065a\" y=\"183.309551\"/>\r\n     <use style=\"fill:#800080;stroke:#800080;\" x=\"212.107528\" xlink:href=\"#mcbbc34065a\" y=\"70.3943\"/>\r\n     <use style=\"fill:#800080;stroke:#800080;\" x=\"339.922858\" xlink:href=\"#mcbbc34065a\" y=\"156.715611\"/>\r\n     <use style=\"fill:#800080;stroke:#800080;\" x=\"164.765518\" xlink:href=\"#mcbbc34065a\" y=\"87.702159\"/>\r\n     <use style=\"fill:#800080;stroke:#800080;\" x=\"350.5533\" xlink:href=\"#mcbbc34065a\" y=\"168.486699\"/>\r\n     <use style=\"fill:#800080;stroke:#800080;\" x=\"335.372123\" xlink:href=\"#mcbbc34065a\" y=\"171.974429\"/>\r\n     <use style=\"fill:#800080;stroke:#800080;\" x=\"271.134725\" xlink:href=\"#mcbbc34065a\" y=\"46.372561\"/>\r\n     <use style=\"fill:#800080;stroke:#800080;\" x=\"309.810019\" xlink:href=\"#mcbbc34065a\" y=\"101.783868\"/>\r\n     <use style=\"fill:#800080;stroke:#800080;\" x=\"357.469616\" xlink:href=\"#mcbbc34065a\" y=\"180.257787\"/>\r\n     <use style=\"fill:#800080;stroke:#800080;\" x=\"186.842766\" xlink:href=\"#mcbbc34065a\" y=\"122.862834\"/>\r\n     <use style=\"fill:#800080;stroke:#800080;\" x=\"322.52515\" xlink:href=\"#mcbbc34065a\" y=\"159.353207\"/>\r\n     <use style=\"fill:#800080;stroke:#800080;\" x=\"183.28174\" xlink:href=\"#mcbbc34065a\" y=\"133.76199\"/>\r\n     <use style=\"fill:#800080;stroke:#800080;\" x=\"330.771031\" xlink:href=\"#mcbbc34065a\" y=\"152.791915\"/>\r\n     <use style=\"fill:#800080;stroke:#800080;\" x=\"163.941056\" xlink:href=\"#mcbbc34065a\" y=\"119.396903\"/>\r\n     <use style=\"fill:#800080;stroke:#800080;\" x=\"212.045782\" xlink:href=\"#mcbbc34065a\" y=\"80.159943\"/>\r\n     <use style=\"fill:#800080;stroke:#800080;\" x=\"151.844145\" xlink:href=\"#mcbbc34065a\" y=\"87.375184\"/>\r\n     <use style=\"fill:#800080;stroke:#800080;\" x=\"256.693741\" xlink:href=\"#mcbbc34065a\" y=\"58.339834\"/>\r\n     <use style=\"fill:#800080;stroke:#800080;\" x=\"215.818364\" xlink:href=\"#mcbbc34065a\" y=\"86.089084\"/>\r\n     <use style=\"fill:#800080;stroke:#800080;\" x=\"266.461763\" xlink:href=\"#mcbbc34065a\" y=\"72.116366\"/>\r\n     <use style=\"fill:#800080;stroke:#800080;\" x=\"301.290836\" xlink:href=\"#mcbbc34065a\" y=\"138.949988\"/>\r\n     <use style=\"fill:#800080;stroke:#800080;\" x=\"226.664159\" xlink:href=\"#mcbbc34065a\" y=\"109.282487\"/>\r\n     <use style=\"fill:#800080;stroke:#800080;\" x=\"185.656939\" xlink:href=\"#mcbbc34065a\" y=\"108.933714\"/>\r\n     <use style=\"fill:#800080;stroke:#800080;\" x=\"231.70962\" xlink:href=\"#mcbbc34065a\" y=\"96.181702\"/>\r\n     <use style=\"fill:#800080;stroke:#800080;\" x=\"120.017348\" xlink:href=\"#mcbbc34065a\" y=\"102.6558\"/>\r\n     <use style=\"fill:#800080;stroke:#800080;\" x=\"186.740025\" xlink:href=\"#mcbbc34065a\" y=\"83.625875\"/>\r\n     <use style=\"fill:#800080;stroke:#800080;\" x=\"116.29892\" xlink:href=\"#mcbbc34065a\" y=\"133.609402\"/>\r\n     <use style=\"fill:#800080;stroke:#800080;\" x=\"312.315289\" xlink:href=\"#mcbbc34065a\" y=\"148.868219\"/>\r\n     <use style=\"fill:#800080;stroke:#800080;\" x=\"216.792889\" xlink:href=\"#mcbbc34065a\" y=\"96.835651\"/>\r\n     <use style=\"fill:#800080;stroke:#800080;\" x=\"216.094703\" xlink:href=\"#mcbbc34065a\" y=\"94.219854\"/>\r\n     <use style=\"fill:#800080;stroke:#800080;\" x=\"312.925158\" xlink:href=\"#mcbbc34065a\" y=\"152.050773\"/>\r\n     <use style=\"fill:#800080;stroke:#800080;\" x=\"321.214818\" xlink:href=\"#mcbbc34065a\" y=\"172.410395\"/>\r\n     <use style=\"fill:#800080;stroke:#800080;\" x=\"320.43869\" xlink:href=\"#mcbbc34065a\" y=\"146.230624\"/>\r\n     <use style=\"fill:#800080;stroke:#800080;\" x=\"292.325006\" xlink:href=\"#mcbbc34065a\" y=\"121.402348\"/>\r\n     <use style=\"fill:#800080;stroke:#800080;\" x=\"331.693172\" xlink:href=\"#mcbbc34065a\" y=\"181.12972\"/>\r\n     <use style=\"fill:#800080;stroke:#800080;\" x=\"306.30669\" xlink:href=\"#mcbbc34065a\" y=\"97.860172\"/>\r\n     <use style=\"fill:#800080;stroke:#800080;\" x=\"310.780495\" xlink:href=\"#mcbbc34065a\" y=\"79.571389\"/>\r\n     <use style=\"fill:#800080;stroke:#800080;\" x=\"265.182304\" xlink:href=\"#mcbbc34065a\" y=\"76.911995\"/>\r\n     <use style=\"fill:#800080;stroke:#800080;\" x=\"233.724465\" xlink:href=\"#mcbbc34065a\" y=\"84.71579\"/>\r\n     <use style=\"fill:#800080;stroke:#800080;\" x=\"213.182011\" xlink:href=\"#mcbbc34065a\" y=\"66.470604\"/>\r\n     <use style=\"fill:#800080;stroke:#800080;\" x=\"298.328038\" xlink:href=\"#mcbbc34065a\" y=\"129.24974\"/>\r\n     <use style=\"fill:#800080;stroke:#800080;\" x=\"364.25991\" xlink:href=\"#mcbbc34065a\" y=\"190.742775\"/>\r\n     <use style=\"fill:#800080;stroke:#800080;\" x=\"174.391575\" xlink:href=\"#mcbbc34065a\" y=\"118.263391\"/>\r\n     <use style=\"fill:#800080;stroke:#800080;\" x=\"158.123516\" xlink:href=\"#mcbbc34065a\" y=\"119.745676\"/>\r\n     <use style=\"fill:#800080;stroke:#800080;\" x=\"322.674454\" xlink:href=\"#mcbbc34065a\" y=\"109.63126\"/>\r\n     <use style=\"fill:#800080;stroke:#800080;\" x=\"299.899019\" xlink:href=\"#mcbbc34065a\" y=\"129.24974\"/>\r\n     <use style=\"fill:#800080;stroke:#800080;\" x=\"330.71384\" xlink:href=\"#mcbbc34065a\" y=\"152.791915\"/>\r\n     <use style=\"fill:#800080;stroke:#800080;\" x=\"354.62196\" xlink:href=\"#mcbbc34065a\" y=\"173.304126\"/>\r\n     <use style=\"fill:#800080;stroke:#800080;\" x=\"263.442027\" xlink:href=\"#mcbbc34065a\" y=\"71.767593\"/>\r\n     <use style=\"fill:#800080;stroke:#800080;\" x=\"328.536785\" xlink:href=\"#mcbbc34065a\" y=\"125.326044\"/>\r\n     <use style=\"fill:#800080;stroke:#800080;\" x=\"329.372634\" xlink:href=\"#mcbbc34065a\" y=\"143.069869\"/>\r\n     <use style=\"fill:#800080;stroke:#800080;\" x=\"163.163664\" xlink:href=\"#mcbbc34065a\" y=\"84.606799\"/>\r\n     <use style=\"fill:#800080;stroke:#800080;\" x=\"310.720267\" xlink:href=\"#mcbbc34065a\" y=\"170.208766\"/>\r\n     <use style=\"fill:#800080;stroke:#800080;\" x=\"234.357109\" xlink:href=\"#mcbbc34065a\" y=\"117.042685\"/>\r\n     <use style=\"fill:#800080;stroke:#800080;\" x=\"376.624303\" xlink:href=\"#mcbbc34065a\" y=\"195.952571\"/>\r\n     <use style=\"fill:#800080;stroke:#800080;\" x=\"190.45162\" xlink:href=\"#mcbbc34065a\" y=\"122.14349\"/>\r\n     <use style=\"fill:#800080;stroke:#800080;\" x=\"188.553689\" xlink:href=\"#mcbbc34065a\" y=\"106.579496\"/>\r\n     <use style=\"fill:#800080;stroke:#800080;\" x=\"382.233071\" xlink:href=\"#mcbbc34065a\" y=\"199.876267\"/>\r\n     <use style=\"fill:#800080;stroke:#800080;\" x=\"304.856923\" xlink:href=\"#mcbbc34065a\" y=\"148.868219\"/>\r\n     <use style=\"fill:#800080;stroke:#800080;\" x=\"317.385297\" xlink:href=\"#mcbbc34065a\" y=\"77.740331\"/>\r\n     <use style=\"fill:#800080;stroke:#800080;\" x=\"366.6923\" xlink:href=\"#mcbbc34065a\" y=\"175.047991\"/>\r\n     <use style=\"fill:#800080;stroke:#800080;\" x=\"179.665801\" xlink:href=\"#mcbbc34065a\" y=\"95.658542\"/>\r\n     <use style=\"fill:#800080;stroke:#800080;\" x=\"238.706662\" xlink:href=\"#mcbbc34065a\" y=\"73.685845\"/>\r\n     <use style=\"fill:#800080;stroke:#800080;\" x=\"297.276331\" xlink:href=\"#mcbbc34065a\" y=\"135.375065\"/>\r\n     <use style=\"fill:#800080;stroke:#800080;\" x=\"319.510981\" xlink:href=\"#mcbbc34065a\" y=\"156.715611\"/>\r\n     <use style=\"fill:#800080;stroke:#800080;\" x=\"297.541282\" xlink:href=\"#mcbbc34065a\" y=\"137.097131\"/>\r\n     <use style=\"fill:#800080;stroke:#800080;\" x=\"263.079143\" xlink:href=\"#mcbbc34065a\" y=\"45.435234\"/>\r\n     <use style=\"fill:#800080;stroke:#800080;\" x=\"221.51798\" xlink:href=\"#mcbbc34065a\" y=\"87.353386\"/>\r\n     <use style=\"fill:#800080;stroke:#800080;\" x=\"299.144655\" xlink:href=\"#mcbbc34065a\" y=\"120.116247\"/>\r\n     <use style=\"fill:#800080;stroke:#800080;\" x=\"291.808516\" xlink:href=\"#mcbbc34065a\" y=\"98.01276\"/>\r\n     <use style=\"fill:#800080;stroke:#800080;\" x=\"317.120852\" xlink:href=\"#mcbbc34065a\" y=\"137.097131\"/>\r\n     <use style=\"fill:#800080;stroke:#800080;\" x=\"138.967058\" xlink:href=\"#mcbbc34065a\" y=\"155.843679\"/>\r\n     <use style=\"fill:#800080;stroke:#800080;\" x=\"150.932379\" xlink:href=\"#mcbbc34065a\" y=\"124.693893\"/>\r\n     <use style=\"fill:#800080;stroke:#800080;\" x=\"215.64502\" xlink:href=\"#mcbbc34065a\" y=\"66.470604\"/>\r\n     <use style=\"fill:#800080;stroke:#800080;\" x=\"340.210837\" xlink:href=\"#mcbbc34065a\" y=\"159.549392\"/>\r\n     <use style=\"fill:#800080;stroke:#800080;\" x=\"162.699556\" xlink:href=\"#mcbbc34065a\" y=\"93.936476\"/>\r\n     <use style=\"fill:#800080;stroke:#800080;\" x=\"342.47216\" xlink:href=\"#mcbbc34065a\" y=\"163.691071\"/>\r\n     <use style=\"fill:#800080;stroke:#800080;\" x=\"330.481533\" xlink:href=\"#mcbbc34065a\" y=\"147.974489\"/>\r\n     <use style=\"fill:#800080;stroke:#800080;\" x=\"348.73913\" xlink:href=\"#mcbbc34065a\" y=\"167.069809\"/>\r\n     <use style=\"fill:#800080;stroke:#800080;\" x=\"170.249275\" xlink:href=\"#mcbbc34065a\" y=\"128.312412\"/>\r\n     <use style=\"fill:#800080;stroke:#800080;\" x=\"181.04623\" xlink:href=\"#mcbbc34065a\" y=\"82.950127\"/>\r\n     <use style=\"fill:#800080;stroke:#800080;\" x=\"206.881889\" xlink:href=\"#mcbbc34065a\" y=\"79.179019\"/>\r\n     <use style=\"fill:#800080;stroke:#800080;\" x=\"269.163659\" xlink:href=\"#mcbbc34065a\" y=\"97.860172\"/>\r\n     <use style=\"fill:#800080;stroke:#800080;\" x=\"335.664405\" xlink:href=\"#mcbbc34065a\" y=\"148.432253\"/>\r\n     <use style=\"fill:#800080;stroke:#800080;\" x=\"311.223346\" xlink:href=\"#mcbbc34065a\" y=\"172.410395\"/>\r\n     <use style=\"fill:#800080;stroke:#800080;\" x=\"332.103126\" xlink:href=\"#mcbbc34065a\" y=\"176.682864\"/>\r\n     <use style=\"fill:#800080;stroke:#800080;\" x=\"160.211241\" xlink:href=\"#mcbbc34065a\" y=\"84.519605\"/>\r\n     <use style=\"fill:#800080;stroke:#800080;\" x=\"182.353778\" xlink:href=\"#mcbbc34065a\" y=\"78.089104\"/>\r\n     <use style=\"fill:#800080;stroke:#800080;\" x=\"238.954406\" xlink:href=\"#mcbbc34065a\" y=\"64.617747\"/>\r\n     <use style=\"fill:#800080;stroke:#800080;\" x=\"153.218501\" xlink:href=\"#mcbbc34065a\" y=\"125.413237\"/>\r\n     <use style=\"fill:#800080;stroke:#800080;\" x=\"330.98284\" xlink:href=\"#mcbbc34065a\" y=\"178.143351\"/>\r\n     <use style=\"fill:#800080;stroke:#800080;\" x=\"341.097804\" xlink:href=\"#mcbbc34065a\" y=\"152.791915\"/>\r\n     <use style=\"fill:#800080;stroke:#800080;\" x=\"258.903693\" xlink:href=\"#mcbbc34065a\" y=\"51.080996\"/>\r\n     <use style=\"fill:#800080;stroke:#800080;\" x=\"204.902726\" xlink:href=\"#mcbbc34065a\" y=\"117.195274\"/>\r\n     <use style=\"fill:#800080;stroke:#800080;\" x=\"331.278158\" xlink:href=\"#mcbbc34065a\" y=\"192.028875\"/>\r\n     <use style=\"fill:#800080;stroke:#800080;\" x=\"312.804955\" xlink:href=\"#mcbbc34065a\" y=\"129.24974\"/>\r\n     <use style=\"fill:#800080;stroke:#800080;\" x=\"282.621514\" xlink:href=\"#mcbbc34065a\" y=\"105.707564\"/>\r\n     <use style=\"fill:#800080;stroke:#800080;\" x=\"222.712918\" xlink:href=\"#mcbbc34065a\" y=\"76.519625\"/>\r\n     <use style=\"fill:#800080;stroke:#800080;\" x=\"264.51322\" xlink:href=\"#mcbbc34065a\" y=\"93.631299\"/>\r\n     <use style=\"fill:#800080;stroke:#800080;\" x=\"138.598606\" xlink:href=\"#mcbbc34065a\" y=\"90.01278\"/>\r\n     <use style=\"fill:#800080;stroke:#800080;\" x=\"366.326631\" xlink:href=\"#mcbbc34065a\" y=\"203.799963\"/>\r\n     <use style=\"fill:#800080;stroke:#800080;\" x=\"158.655696\" xlink:href=\"#mcbbc34065a\" y=\"120.225239\"/>\r\n     <use style=\"fill:#800080;stroke:#800080;\" x=\"214.795506\" xlink:href=\"#mcbbc34065a\" y=\"88.486898\"/>\r\n     <use style=\"fill:#800080;stroke:#800080;\" x=\"373.201446\" xlink:href=\"#mcbbc34065a\" y=\"194.535681\"/>\r\n     <use style=\"fill:#800080;stroke:#800080;\" x=\"316.503898\" xlink:href=\"#mcbbc34065a\" y=\"159.353207\"/>\r\n     <use style=\"fill:#800080;stroke:#800080;\" x=\"308.341779\" xlink:href=\"#mcbbc34065a\" y=\"129.24974\"/>\r\n     <use style=\"fill:#800080;stroke:#800080;\" x=\"132.670226\" xlink:href=\"#mcbbc34065a\" y=\"113.554956\"/>\r\n     <use style=\"fill:#800080;stroke:#800080;\" x=\"366.157842\" xlink:href=\"#mcbbc34065a\" y=\"189.827246\"/>\r\n     <use style=\"fill:#800080;stroke:#800080;\" x=\"273.699969\" xlink:href=\"#mcbbc34065a\" y=\"124.454111\"/>\r\n     <use style=\"fill:#800080;stroke:#800080;\" x=\"85.80523\" xlink:href=\"#mcbbc34065a\" y=\"146.230624\"/>\r\n     <use style=\"fill:#800080;stroke:#800080;\" x=\"228.236911\" xlink:href=\"#mcbbc34065a\" y=\"75.255323\"/>\r\n    </g>\r\n   </g>\r\n   <g id=\"matplotlib.axis_1\">\r\n    <g id=\"xtick_1\">\r\n     <g id=\"line2d_1\">\r\n      <defs>\r\n       <path d=\"M 0 0 \r\nL 0 3.5 \r\n\" id=\"m1e239f200c\" style=\"stroke:#000000;stroke-width:0.8;\"/>\r\n      </defs>\r\n      <g>\r\n       <use style=\"stroke:#000000;stroke-width:0.8;\" x=\"50.637313\" xlink:href=\"#m1e239f200c\" y=\"241.718125\"/>\r\n      </g>\r\n     </g>\r\n     <g id=\"text_1\">\r\n      <!-- −60 -->\r\n      <g transform=\"translate(40.084969 256.316563)scale(0.1 -0.1)\">\r\n       <defs>\r\n        <path d=\"M 10.59375 35.5 \r\nL 73.1875 35.5 \r\nL 73.1875 27.203125 \r\nL 10.59375 27.203125 \r\nz\r\n\" id=\"DejaVuSans-8722\"/>\r\n        <path d=\"M 33.015625 40.375 \r\nQ 26.375 40.375 22.484375 35.828125 \r\nQ 18.609375 31.296875 18.609375 23.390625 \r\nQ 18.609375 15.53125 22.484375 10.953125 \r\nQ 26.375 6.390625 33.015625 6.390625 \r\nQ 39.65625 6.390625 43.53125 10.953125 \r\nQ 47.40625 15.53125 47.40625 23.390625 \r\nQ 47.40625 31.296875 43.53125 35.828125 \r\nQ 39.65625 40.375 33.015625 40.375 \r\nz\r\nM 52.59375 71.296875 \r\nL 52.59375 62.3125 \r\nQ 48.875 64.0625 45.09375 64.984375 \r\nQ 41.3125 65.921875 37.59375 65.921875 \r\nQ 27.828125 65.921875 22.671875 59.328125 \r\nQ 17.53125 52.734375 16.796875 39.40625 \r\nQ 19.671875 43.65625 24.015625 45.921875 \r\nQ 28.375 48.1875 33.59375 48.1875 \r\nQ 44.578125 48.1875 50.953125 41.515625 \r\nQ 57.328125 34.859375 57.328125 23.390625 \r\nQ 57.328125 12.15625 50.6875 5.359375 \r\nQ 44.046875 -1.421875 33.015625 -1.421875 \r\nQ 20.359375 -1.421875 13.671875 8.265625 \r\nQ 6.984375 17.96875 6.984375 36.375 \r\nQ 6.984375 53.65625 15.1875 63.9375 \r\nQ 23.390625 74.21875 37.203125 74.21875 \r\nQ 40.921875 74.21875 44.703125 73.484375 \r\nQ 48.484375 72.75 52.59375 71.296875 \r\nz\r\n\" id=\"DejaVuSans-54\"/>\r\n        <path d=\"M 31.78125 66.40625 \r\nQ 24.171875 66.40625 20.328125 58.90625 \r\nQ 16.5 51.421875 16.5 36.375 \r\nQ 16.5 21.390625 20.328125 13.890625 \r\nQ 24.171875 6.390625 31.78125 6.390625 \r\nQ 39.453125 6.390625 43.28125 13.890625 \r\nQ 47.125 21.390625 47.125 36.375 \r\nQ 47.125 51.421875 43.28125 58.90625 \r\nQ 39.453125 66.40625 31.78125 66.40625 \r\nz\r\nM 31.78125 74.21875 \r\nQ 44.046875 74.21875 50.515625 64.515625 \r\nQ 56.984375 54.828125 56.984375 36.375 \r\nQ 56.984375 17.96875 50.515625 8.265625 \r\nQ 44.046875 -1.421875 31.78125 -1.421875 \r\nQ 19.53125 -1.421875 13.0625 8.265625 \r\nQ 6.59375 17.96875 6.59375 36.375 \r\nQ 6.59375 54.828125 13.0625 64.515625 \r\nQ 19.53125 74.21875 31.78125 74.21875 \r\nz\r\n\" id=\"DejaVuSans-48\"/>\r\n       </defs>\r\n       <use xlink:href=\"#DejaVuSans-8722\"/>\r\n       <use x=\"83.789062\" xlink:href=\"#DejaVuSans-54\"/>\r\n       <use x=\"147.412109\" xlink:href=\"#DejaVuSans-48\"/>\r\n      </g>\r\n     </g>\r\n    </g>\r\n    <g id=\"xtick_2\">\r\n     <g id=\"line2d_2\">\r\n      <g>\r\n       <use style=\"stroke:#000000;stroke-width:0.8;\" x=\"101.248827\" xlink:href=\"#m1e239f200c\" y=\"241.718125\"/>\r\n      </g>\r\n     </g>\r\n     <g id=\"text_2\">\r\n      <!-- −40 -->\r\n      <g transform=\"translate(90.696483 256.316563)scale(0.1 -0.1)\">\r\n       <defs>\r\n        <path d=\"M 37.796875 64.3125 \r\nL 12.890625 25.390625 \r\nL 37.796875 25.390625 \r\nz\r\nM 35.203125 72.90625 \r\nL 47.609375 72.90625 \r\nL 47.609375 25.390625 \r\nL 58.015625 25.390625 \r\nL 58.015625 17.1875 \r\nL 47.609375 17.1875 \r\nL 47.609375 0 \r\nL 37.796875 0 \r\nL 37.796875 17.1875 \r\nL 4.890625 17.1875 \r\nL 4.890625 26.703125 \r\nz\r\n\" id=\"DejaVuSans-52\"/>\r\n       </defs>\r\n       <use xlink:href=\"#DejaVuSans-8722\"/>\r\n       <use x=\"83.789062\" xlink:href=\"#DejaVuSans-52\"/>\r\n       <use x=\"147.412109\" xlink:href=\"#DejaVuSans-48\"/>\r\n      </g>\r\n     </g>\r\n    </g>\r\n    <g id=\"xtick_3\">\r\n     <g id=\"line2d_3\">\r\n      <g>\r\n       <use style=\"stroke:#000000;stroke-width:0.8;\" x=\"151.860341\" xlink:href=\"#m1e239f200c\" y=\"241.718125\"/>\r\n      </g>\r\n     </g>\r\n     <g id=\"text_3\">\r\n      <!-- −20 -->\r\n      <g transform=\"translate(141.307997 256.316563)scale(0.1 -0.1)\">\r\n       <defs>\r\n        <path d=\"M 19.1875 8.296875 \r\nL 53.609375 8.296875 \r\nL 53.609375 0 \r\nL 7.328125 0 \r\nL 7.328125 8.296875 \r\nQ 12.9375 14.109375 22.625 23.890625 \r\nQ 32.328125 33.6875 34.8125 36.53125 \r\nQ 39.546875 41.84375 41.421875 45.53125 \r\nQ 43.3125 49.21875 43.3125 52.78125 \r\nQ 43.3125 58.59375 39.234375 62.25 \r\nQ 35.15625 65.921875 28.609375 65.921875 \r\nQ 23.96875 65.921875 18.8125 64.3125 \r\nQ 13.671875 62.703125 7.8125 59.421875 \r\nL 7.8125 69.390625 \r\nQ 13.765625 71.78125 18.9375 73 \r\nQ 24.125 74.21875 28.421875 74.21875 \r\nQ 39.75 74.21875 46.484375 68.546875 \r\nQ 53.21875 62.890625 53.21875 53.421875 \r\nQ 53.21875 48.921875 51.53125 44.890625 \r\nQ 49.859375 40.875 45.40625 35.40625 \r\nQ 44.1875 33.984375 37.640625 27.21875 \r\nQ 31.109375 20.453125 19.1875 8.296875 \r\nz\r\n\" id=\"DejaVuSans-50\"/>\r\n       </defs>\r\n       <use xlink:href=\"#DejaVuSans-8722\"/>\r\n       <use x=\"83.789062\" xlink:href=\"#DejaVuSans-50\"/>\r\n       <use x=\"147.412109\" xlink:href=\"#DejaVuSans-48\"/>\r\n      </g>\r\n     </g>\r\n    </g>\r\n    <g id=\"xtick_4\">\r\n     <g id=\"line2d_4\">\r\n      <g>\r\n       <use style=\"stroke:#000000;stroke-width:0.8;\" x=\"202.471855\" xlink:href=\"#m1e239f200c\" y=\"241.718125\"/>\r\n      </g>\r\n     </g>\r\n     <g id=\"text_4\">\r\n      <!-- 0 -->\r\n      <g transform=\"translate(199.290605 256.316563)scale(0.1 -0.1)\">\r\n       <use xlink:href=\"#DejaVuSans-48\"/>\r\n      </g>\r\n     </g>\r\n    </g>\r\n    <g id=\"xtick_5\">\r\n     <g id=\"line2d_5\">\r\n      <g>\r\n       <use style=\"stroke:#000000;stroke-width:0.8;\" x=\"253.083369\" xlink:href=\"#m1e239f200c\" y=\"241.718125\"/>\r\n      </g>\r\n     </g>\r\n     <g id=\"text_5\">\r\n      <!-- 20 -->\r\n      <g transform=\"translate(246.720869 256.316563)scale(0.1 -0.1)\">\r\n       <use xlink:href=\"#DejaVuSans-50\"/>\r\n       <use x=\"63.623047\" xlink:href=\"#DejaVuSans-48\"/>\r\n      </g>\r\n     </g>\r\n    </g>\r\n    <g id=\"xtick_6\">\r\n     <g id=\"line2d_6\">\r\n      <g>\r\n       <use style=\"stroke:#000000;stroke-width:0.8;\" x=\"303.694883\" xlink:href=\"#m1e239f200c\" y=\"241.718125\"/>\r\n      </g>\r\n     </g>\r\n     <g id=\"text_6\">\r\n      <!-- 40 -->\r\n      <g transform=\"translate(297.332383 256.316563)scale(0.1 -0.1)\">\r\n       <use xlink:href=\"#DejaVuSans-52\"/>\r\n       <use x=\"63.623047\" xlink:href=\"#DejaVuSans-48\"/>\r\n      </g>\r\n     </g>\r\n    </g>\r\n    <g id=\"xtick_7\">\r\n     <g id=\"line2d_7\">\r\n      <g>\r\n       <use style=\"stroke:#000000;stroke-width:0.8;\" x=\"354.306397\" xlink:href=\"#m1e239f200c\" y=\"241.718125\"/>\r\n      </g>\r\n     </g>\r\n     <g id=\"text_7\">\r\n      <!-- 60 -->\r\n      <g transform=\"translate(347.943897 256.316563)scale(0.1 -0.1)\">\r\n       <use xlink:href=\"#DejaVuSans-54\"/>\r\n       <use x=\"63.623047\" xlink:href=\"#DejaVuSans-48\"/>\r\n      </g>\r\n     </g>\r\n    </g>\r\n    <g id=\"xtick_8\">\r\n     <g id=\"line2d_8\">\r\n      <g>\r\n       <use style=\"stroke:#000000;stroke-width:0.8;\" x=\"404.917911\" xlink:href=\"#m1e239f200c\" y=\"241.718125\"/>\r\n      </g>\r\n     </g>\r\n     <g id=\"text_8\">\r\n      <!-- 80 -->\r\n      <g transform=\"translate(398.555411 256.316563)scale(0.1 -0.1)\">\r\n       <defs>\r\n        <path d=\"M 31.78125 34.625 \r\nQ 24.75 34.625 20.71875 30.859375 \r\nQ 16.703125 27.09375 16.703125 20.515625 \r\nQ 16.703125 13.921875 20.71875 10.15625 \r\nQ 24.75 6.390625 31.78125 6.390625 \r\nQ 38.8125 6.390625 42.859375 10.171875 \r\nQ 46.921875 13.96875 46.921875 20.515625 \r\nQ 46.921875 27.09375 42.890625 30.859375 \r\nQ 38.875 34.625 31.78125 34.625 \r\nz\r\nM 21.921875 38.8125 \r\nQ 15.578125 40.375 12.03125 44.71875 \r\nQ 8.5 49.078125 8.5 55.328125 \r\nQ 8.5 64.0625 14.71875 69.140625 \r\nQ 20.953125 74.21875 31.78125 74.21875 \r\nQ 42.671875 74.21875 48.875 69.140625 \r\nQ 55.078125 64.0625 55.078125 55.328125 \r\nQ 55.078125 49.078125 51.53125 44.71875 \r\nQ 48 40.375 41.703125 38.8125 \r\nQ 48.828125 37.15625 52.796875 32.3125 \r\nQ 56.78125 27.484375 56.78125 20.515625 \r\nQ 56.78125 9.90625 50.3125 4.234375 \r\nQ 43.84375 -1.421875 31.78125 -1.421875 \r\nQ 19.734375 -1.421875 13.25 4.234375 \r\nQ 6.78125 9.90625 6.78125 20.515625 \r\nQ 6.78125 27.484375 10.78125 32.3125 \r\nQ 14.796875 37.15625 21.921875 38.8125 \r\nz\r\nM 18.3125 54.390625 \r\nQ 18.3125 48.734375 21.84375 45.5625 \r\nQ 25.390625 42.390625 31.78125 42.390625 \r\nQ 38.140625 42.390625 41.71875 45.5625 \r\nQ 45.3125 48.734375 45.3125 54.390625 \r\nQ 45.3125 60.0625 41.71875 63.234375 \r\nQ 38.140625 66.40625 31.78125 66.40625 \r\nQ 25.390625 66.40625 21.84375 63.234375 \r\nQ 18.3125 60.0625 18.3125 54.390625 \r\nz\r\n\" id=\"DejaVuSans-56\"/>\r\n       </defs>\r\n       <use xlink:href=\"#DejaVuSans-56\"/>\r\n       <use x=\"63.623047\" xlink:href=\"#DejaVuSans-48\"/>\r\n      </g>\r\n     </g>\r\n    </g>\r\n    <g id=\"text_9\">\r\n     <!-- Latitude -->\r\n     <g transform=\"translate(211.524219 269.994688)scale(0.1 -0.1)\">\r\n      <defs>\r\n       <path d=\"M 9.8125 72.90625 \r\nL 19.671875 72.90625 \r\nL 19.671875 8.296875 \r\nL 55.171875 8.296875 \r\nL 55.171875 0 \r\nL 9.8125 0 \r\nz\r\n\" id=\"DejaVuSans-76\"/>\r\n       <path d=\"M 34.28125 27.484375 \r\nQ 23.390625 27.484375 19.1875 25 \r\nQ 14.984375 22.515625 14.984375 16.5 \r\nQ 14.984375 11.71875 18.140625 8.90625 \r\nQ 21.296875 6.109375 26.703125 6.109375 \r\nQ 34.1875 6.109375 38.703125 11.40625 \r\nQ 43.21875 16.703125 43.21875 25.484375 \r\nL 43.21875 27.484375 \r\nz\r\nM 52.203125 31.203125 \r\nL 52.203125 0 \r\nL 43.21875 0 \r\nL 43.21875 8.296875 \r\nQ 40.140625 3.328125 35.546875 0.953125 \r\nQ 30.953125 -1.421875 24.3125 -1.421875 \r\nQ 15.921875 -1.421875 10.953125 3.296875 \r\nQ 6 8.015625 6 15.921875 \r\nQ 6 25.140625 12.171875 29.828125 \r\nQ 18.359375 34.515625 30.609375 34.515625 \r\nL 43.21875 34.515625 \r\nL 43.21875 35.40625 \r\nQ 43.21875 41.609375 39.140625 45 \r\nQ 35.0625 48.390625 27.6875 48.390625 \r\nQ 23 48.390625 18.546875 47.265625 \r\nQ 14.109375 46.140625 10.015625 43.890625 \r\nL 10.015625 52.203125 \r\nQ 14.9375 54.109375 19.578125 55.046875 \r\nQ 24.21875 56 28.609375 56 \r\nQ 40.484375 56 46.34375 49.84375 \r\nQ 52.203125 43.703125 52.203125 31.203125 \r\nz\r\n\" id=\"DejaVuSans-97\"/>\r\n       <path d=\"M 18.3125 70.21875 \r\nL 18.3125 54.6875 \r\nL 36.8125 54.6875 \r\nL 36.8125 47.703125 \r\nL 18.3125 47.703125 \r\nL 18.3125 18.015625 \r\nQ 18.3125 11.328125 20.140625 9.421875 \r\nQ 21.96875 7.515625 27.59375 7.515625 \r\nL 36.8125 7.515625 \r\nL 36.8125 0 \r\nL 27.59375 0 \r\nQ 17.1875 0 13.234375 3.875 \r\nQ 9.28125 7.765625 9.28125 18.015625 \r\nL 9.28125 47.703125 \r\nL 2.6875 47.703125 \r\nL 2.6875 54.6875 \r\nL 9.28125 54.6875 \r\nL 9.28125 70.21875 \r\nz\r\n\" id=\"DejaVuSans-116\"/>\r\n       <path d=\"M 9.421875 54.6875 \r\nL 18.40625 54.6875 \r\nL 18.40625 0 \r\nL 9.421875 0 \r\nz\r\nM 9.421875 75.984375 \r\nL 18.40625 75.984375 \r\nL 18.40625 64.59375 \r\nL 9.421875 64.59375 \r\nz\r\n\" id=\"DejaVuSans-105\"/>\r\n       <path d=\"M 8.5 21.578125 \r\nL 8.5 54.6875 \r\nL 17.484375 54.6875 \r\nL 17.484375 21.921875 \r\nQ 17.484375 14.15625 20.5 10.265625 \r\nQ 23.53125 6.390625 29.59375 6.390625 \r\nQ 36.859375 6.390625 41.078125 11.03125 \r\nQ 45.3125 15.671875 45.3125 23.6875 \r\nL 45.3125 54.6875 \r\nL 54.296875 54.6875 \r\nL 54.296875 0 \r\nL 45.3125 0 \r\nL 45.3125 8.40625 \r\nQ 42.046875 3.421875 37.71875 1 \r\nQ 33.40625 -1.421875 27.6875 -1.421875 \r\nQ 18.265625 -1.421875 13.375 4.4375 \r\nQ 8.5 10.296875 8.5 21.578125 \r\nz\r\nM 31.109375 56 \r\nz\r\n\" id=\"DejaVuSans-117\"/>\r\n       <path d=\"M 45.40625 46.390625 \r\nL 45.40625 75.984375 \r\nL 54.390625 75.984375 \r\nL 54.390625 0 \r\nL 45.40625 0 \r\nL 45.40625 8.203125 \r\nQ 42.578125 3.328125 38.25 0.953125 \r\nQ 33.9375 -1.421875 27.875 -1.421875 \r\nQ 17.96875 -1.421875 11.734375 6.484375 \r\nQ 5.515625 14.40625 5.515625 27.296875 \r\nQ 5.515625 40.1875 11.734375 48.09375 \r\nQ 17.96875 56 27.875 56 \r\nQ 33.9375 56 38.25 53.625 \r\nQ 42.578125 51.265625 45.40625 46.390625 \r\nz\r\nM 14.796875 27.296875 \r\nQ 14.796875 17.390625 18.875 11.75 \r\nQ 22.953125 6.109375 30.078125 6.109375 \r\nQ 37.203125 6.109375 41.296875 11.75 \r\nQ 45.40625 17.390625 45.40625 27.296875 \r\nQ 45.40625 37.203125 41.296875 42.84375 \r\nQ 37.203125 48.484375 30.078125 48.484375 \r\nQ 22.953125 48.484375 18.875 42.84375 \r\nQ 14.796875 37.203125 14.796875 27.296875 \r\nz\r\n\" id=\"DejaVuSans-100\"/>\r\n       <path d=\"M 56.203125 29.59375 \r\nL 56.203125 25.203125 \r\nL 14.890625 25.203125 \r\nQ 15.484375 15.921875 20.484375 11.0625 \r\nQ 25.484375 6.203125 34.421875 6.203125 \r\nQ 39.59375 6.203125 44.453125 7.46875 \r\nQ 49.3125 8.734375 54.109375 11.28125 \r\nL 54.109375 2.78125 \r\nQ 49.265625 0.734375 44.1875 -0.34375 \r\nQ 39.109375 -1.421875 33.890625 -1.421875 \r\nQ 20.796875 -1.421875 13.15625 6.1875 \r\nQ 5.515625 13.8125 5.515625 26.8125 \r\nQ 5.515625 40.234375 12.765625 48.109375 \r\nQ 20.015625 56 32.328125 56 \r\nQ 43.359375 56 49.78125 48.890625 \r\nQ 56.203125 41.796875 56.203125 29.59375 \r\nz\r\nM 47.21875 32.234375 \r\nQ 47.125 39.59375 43.09375 43.984375 \r\nQ 39.0625 48.390625 32.421875 48.390625 \r\nQ 24.90625 48.390625 20.390625 44.140625 \r\nQ 15.875 39.890625 15.1875 32.171875 \r\nz\r\n\" id=\"DejaVuSans-101\"/>\r\n      </defs>\r\n      <use xlink:href=\"#DejaVuSans-76\"/>\r\n      <use x=\"55.712891\" xlink:href=\"#DejaVuSans-97\"/>\r\n      <use x=\"116.992188\" xlink:href=\"#DejaVuSans-116\"/>\r\n      <use x=\"156.201172\" xlink:href=\"#DejaVuSans-105\"/>\r\n      <use x=\"183.984375\" xlink:href=\"#DejaVuSans-116\"/>\r\n      <use x=\"223.193359\" xlink:href=\"#DejaVuSans-117\"/>\r\n      <use x=\"286.572266\" xlink:href=\"#DejaVuSans-100\"/>\r\n      <use x=\"350.048828\" xlink:href=\"#DejaVuSans-101\"/>\r\n     </g>\r\n    </g>\r\n   </g>\r\n   <g id=\"matplotlib.axis_2\">\r\n    <g id=\"ytick_1\">\r\n     <g id=\"line2d_9\">\r\n      <defs>\r\n       <path d=\"M 0 0 \r\nL -3.5 0 \r\n\" id=\"m9ed896ef2d\" style=\"stroke:#000000;stroke-width:0.8;\"/>\r\n      </defs>\r\n      <g>\r\n       <use style=\"stroke:#000000;stroke-width:0.8;\" x=\"46.965625\" xlink:href=\"#m9ed896ef2d\" y=\"218.186848\"/>\r\n      </g>\r\n     </g>\r\n     <g id=\"text_10\">\r\n      <!-- 20 -->\r\n      <g transform=\"translate(27.240625 221.986067)scale(0.1 -0.1)\">\r\n       <use xlink:href=\"#DejaVuSans-50\"/>\r\n       <use x=\"63.623047\" xlink:href=\"#DejaVuSans-48\"/>\r\n      </g>\r\n     </g>\r\n    </g>\r\n    <g id=\"ytick_2\">\r\n     <g id=\"line2d_10\">\r\n      <g>\r\n       <use style=\"stroke:#000000;stroke-width:0.8;\" x=\"46.965625\" xlink:href=\"#m9ed896ef2d\" y=\"174.590226\"/>\r\n      </g>\r\n     </g>\r\n     <g id=\"text_11\">\r\n      <!-- 40 -->\r\n      <g transform=\"translate(27.240625 178.389445)scale(0.1 -0.1)\">\r\n       <use xlink:href=\"#DejaVuSans-52\"/>\r\n       <use x=\"63.623047\" xlink:href=\"#DejaVuSans-48\"/>\r\n      </g>\r\n     </g>\r\n    </g>\r\n    <g id=\"ytick_3\">\r\n     <g id=\"line2d_11\">\r\n      <g>\r\n       <use style=\"stroke:#000000;stroke-width:0.8;\" x=\"46.965625\" xlink:href=\"#m9ed896ef2d\" y=\"130.993604\"/>\r\n      </g>\r\n     </g>\r\n     <g id=\"text_12\">\r\n      <!-- 60 -->\r\n      <g transform=\"translate(27.240625 134.792823)scale(0.1 -0.1)\">\r\n       <use xlink:href=\"#DejaVuSans-54\"/>\r\n       <use x=\"63.623047\" xlink:href=\"#DejaVuSans-48\"/>\r\n      </g>\r\n     </g>\r\n    </g>\r\n    <g id=\"ytick_4\">\r\n     <g id=\"line2d_12\">\r\n      <g>\r\n       <use style=\"stroke:#000000;stroke-width:0.8;\" x=\"46.965625\" xlink:href=\"#m9ed896ef2d\" y=\"87.396982\"/>\r\n      </g>\r\n     </g>\r\n     <g id=\"text_13\">\r\n      <!-- 80 -->\r\n      <g transform=\"translate(27.240625 91.196201)scale(0.1 -0.1)\">\r\n       <use xlink:href=\"#DejaVuSans-56\"/>\r\n       <use x=\"63.623047\" xlink:href=\"#DejaVuSans-48\"/>\r\n      </g>\r\n     </g>\r\n    </g>\r\n    <g id=\"ytick_5\">\r\n     <g id=\"line2d_13\">\r\n      <g>\r\n       <use style=\"stroke:#000000;stroke-width:0.8;\" x=\"46.965625\" xlink:href=\"#m9ed896ef2d\" y=\"43.80036\"/>\r\n      </g>\r\n     </g>\r\n     <g id=\"text_14\">\r\n      <!-- 100 -->\r\n      <g transform=\"translate(20.878125 47.599579)scale(0.1 -0.1)\">\r\n       <defs>\r\n        <path d=\"M 12.40625 8.296875 \r\nL 28.515625 8.296875 \r\nL 28.515625 63.921875 \r\nL 10.984375 60.40625 \r\nL 10.984375 69.390625 \r\nL 28.421875 72.90625 \r\nL 38.28125 72.90625 \r\nL 38.28125 8.296875 \r\nL 54.390625 8.296875 \r\nL 54.390625 0 \r\nL 12.40625 0 \r\nz\r\n\" id=\"DejaVuSans-49\"/>\r\n       </defs>\r\n       <use xlink:href=\"#DejaVuSans-49\"/>\r\n       <use x=\"63.623047\" xlink:href=\"#DejaVuSans-48\"/>\r\n       <use x=\"127.246094\" xlink:href=\"#DejaVuSans-48\"/>\r\n      </g>\r\n     </g>\r\n    </g>\r\n    <g id=\"text_15\">\r\n     <!-- Max Temperatures (F) -->\r\n     <g transform=\"translate(14.798438 186.585313)rotate(-90)scale(0.1 -0.1)\">\r\n      <defs>\r\n       <path d=\"M 9.8125 72.90625 \r\nL 24.515625 72.90625 \r\nL 43.109375 23.296875 \r\nL 61.8125 72.90625 \r\nL 76.515625 72.90625 \r\nL 76.515625 0 \r\nL 66.890625 0 \r\nL 66.890625 64.015625 \r\nL 48.09375 14.015625 \r\nL 38.1875 14.015625 \r\nL 19.390625 64.015625 \r\nL 19.390625 0 \r\nL 9.8125 0 \r\nz\r\n\" id=\"DejaVuSans-77\"/>\r\n       <path d=\"M 54.890625 54.6875 \r\nL 35.109375 28.078125 \r\nL 55.90625 0 \r\nL 45.3125 0 \r\nL 29.390625 21.484375 \r\nL 13.484375 0 \r\nL 2.875 0 \r\nL 24.125 28.609375 \r\nL 4.6875 54.6875 \r\nL 15.28125 54.6875 \r\nL 29.78125 35.203125 \r\nL 44.28125 54.6875 \r\nz\r\n\" id=\"DejaVuSans-120\"/>\r\n       <path id=\"DejaVuSans-32\"/>\r\n       <path d=\"M -0.296875 72.90625 \r\nL 61.375 72.90625 \r\nL 61.375 64.59375 \r\nL 35.5 64.59375 \r\nL 35.5 0 \r\nL 25.59375 0 \r\nL 25.59375 64.59375 \r\nL -0.296875 64.59375 \r\nz\r\n\" id=\"DejaVuSans-84\"/>\r\n       <path d=\"M 52 44.1875 \r\nQ 55.375 50.25 60.0625 53.125 \r\nQ 64.75 56 71.09375 56 \r\nQ 79.640625 56 84.28125 50.015625 \r\nQ 88.921875 44.046875 88.921875 33.015625 \r\nL 88.921875 0 \r\nL 79.890625 0 \r\nL 79.890625 32.71875 \r\nQ 79.890625 40.578125 77.09375 44.375 \r\nQ 74.3125 48.1875 68.609375 48.1875 \r\nQ 61.625 48.1875 57.5625 43.546875 \r\nQ 53.515625 38.921875 53.515625 30.90625 \r\nL 53.515625 0 \r\nL 44.484375 0 \r\nL 44.484375 32.71875 \r\nQ 44.484375 40.625 41.703125 44.40625 \r\nQ 38.921875 48.1875 33.109375 48.1875 \r\nQ 26.21875 48.1875 22.15625 43.53125 \r\nQ 18.109375 38.875 18.109375 30.90625 \r\nL 18.109375 0 \r\nL 9.078125 0 \r\nL 9.078125 54.6875 \r\nL 18.109375 54.6875 \r\nL 18.109375 46.1875 \r\nQ 21.1875 51.21875 25.484375 53.609375 \r\nQ 29.78125 56 35.6875 56 \r\nQ 41.65625 56 45.828125 52.96875 \r\nQ 50 49.953125 52 44.1875 \r\nz\r\n\" id=\"DejaVuSans-109\"/>\r\n       <path d=\"M 18.109375 8.203125 \r\nL 18.109375 -20.796875 \r\nL 9.078125 -20.796875 \r\nL 9.078125 54.6875 \r\nL 18.109375 54.6875 \r\nL 18.109375 46.390625 \r\nQ 20.953125 51.265625 25.265625 53.625 \r\nQ 29.59375 56 35.59375 56 \r\nQ 45.5625 56 51.78125 48.09375 \r\nQ 58.015625 40.1875 58.015625 27.296875 \r\nQ 58.015625 14.40625 51.78125 6.484375 \r\nQ 45.5625 -1.421875 35.59375 -1.421875 \r\nQ 29.59375 -1.421875 25.265625 0.953125 \r\nQ 20.953125 3.328125 18.109375 8.203125 \r\nz\r\nM 48.6875 27.296875 \r\nQ 48.6875 37.203125 44.609375 42.84375 \r\nQ 40.53125 48.484375 33.40625 48.484375 \r\nQ 26.265625 48.484375 22.1875 42.84375 \r\nQ 18.109375 37.203125 18.109375 27.296875 \r\nQ 18.109375 17.390625 22.1875 11.75 \r\nQ 26.265625 6.109375 33.40625 6.109375 \r\nQ 40.53125 6.109375 44.609375 11.75 \r\nQ 48.6875 17.390625 48.6875 27.296875 \r\nz\r\n\" id=\"DejaVuSans-112\"/>\r\n       <path d=\"M 41.109375 46.296875 \r\nQ 39.59375 47.171875 37.8125 47.578125 \r\nQ 36.03125 48 33.890625 48 \r\nQ 26.265625 48 22.1875 43.046875 \r\nQ 18.109375 38.09375 18.109375 28.8125 \r\nL 18.109375 0 \r\nL 9.078125 0 \r\nL 9.078125 54.6875 \r\nL 18.109375 54.6875 \r\nL 18.109375 46.1875 \r\nQ 20.953125 51.171875 25.484375 53.578125 \r\nQ 30.03125 56 36.53125 56 \r\nQ 37.453125 56 38.578125 55.875 \r\nQ 39.703125 55.765625 41.0625 55.515625 \r\nz\r\n\" id=\"DejaVuSans-114\"/>\r\n       <path d=\"M 44.28125 53.078125 \r\nL 44.28125 44.578125 \r\nQ 40.484375 46.53125 36.375 47.5 \r\nQ 32.28125 48.484375 27.875 48.484375 \r\nQ 21.1875 48.484375 17.84375 46.4375 \r\nQ 14.5 44.390625 14.5 40.28125 \r\nQ 14.5 37.15625 16.890625 35.375 \r\nQ 19.28125 33.59375 26.515625 31.984375 \r\nL 29.59375 31.296875 \r\nQ 39.15625 29.25 43.1875 25.515625 \r\nQ 47.21875 21.78125 47.21875 15.09375 \r\nQ 47.21875 7.46875 41.1875 3.015625 \r\nQ 35.15625 -1.421875 24.609375 -1.421875 \r\nQ 20.21875 -1.421875 15.453125 -0.5625 \r\nQ 10.6875 0.296875 5.421875 2 \r\nL 5.421875 11.28125 \r\nQ 10.40625 8.6875 15.234375 7.390625 \r\nQ 20.0625 6.109375 24.8125 6.109375 \r\nQ 31.15625 6.109375 34.5625 8.28125 \r\nQ 37.984375 10.453125 37.984375 14.40625 \r\nQ 37.984375 18.0625 35.515625 20.015625 \r\nQ 33.0625 21.96875 24.703125 23.78125 \r\nL 21.578125 24.515625 \r\nQ 13.234375 26.265625 9.515625 29.90625 \r\nQ 5.8125 33.546875 5.8125 39.890625 \r\nQ 5.8125 47.609375 11.28125 51.796875 \r\nQ 16.75 56 26.8125 56 \r\nQ 31.78125 56 36.171875 55.265625 \r\nQ 40.578125 54.546875 44.28125 53.078125 \r\nz\r\n\" id=\"DejaVuSans-115\"/>\r\n       <path d=\"M 31 75.875 \r\nQ 24.46875 64.65625 21.28125 53.65625 \r\nQ 18.109375 42.671875 18.109375 31.390625 \r\nQ 18.109375 20.125 21.3125 9.0625 \r\nQ 24.515625 -2 31 -13.1875 \r\nL 23.1875 -13.1875 \r\nQ 15.875 -1.703125 12.234375 9.375 \r\nQ 8.59375 20.453125 8.59375 31.390625 \r\nQ 8.59375 42.28125 12.203125 53.3125 \r\nQ 15.828125 64.359375 23.1875 75.875 \r\nz\r\n\" id=\"DejaVuSans-40\"/>\r\n       <path d=\"M 9.8125 72.90625 \r\nL 51.703125 72.90625 \r\nL 51.703125 64.59375 \r\nL 19.671875 64.59375 \r\nL 19.671875 43.109375 \r\nL 48.578125 43.109375 \r\nL 48.578125 34.8125 \r\nL 19.671875 34.8125 \r\nL 19.671875 0 \r\nL 9.8125 0 \r\nz\r\n\" id=\"DejaVuSans-70\"/>\r\n       <path d=\"M 8.015625 75.875 \r\nL 15.828125 75.875 \r\nQ 23.140625 64.359375 26.78125 53.3125 \r\nQ 30.421875 42.28125 30.421875 31.390625 \r\nQ 30.421875 20.453125 26.78125 9.375 \r\nQ 23.140625 -1.703125 15.828125 -13.1875 \r\nL 8.015625 -13.1875 \r\nQ 14.5 -2 17.703125 9.0625 \r\nQ 20.90625 20.125 20.90625 31.390625 \r\nQ 20.90625 42.671875 17.703125 53.65625 \r\nQ 14.5 64.65625 8.015625 75.875 \r\nz\r\n\" id=\"DejaVuSans-41\"/>\r\n      </defs>\r\n      <use xlink:href=\"#DejaVuSans-77\"/>\r\n      <use x=\"86.279297\" xlink:href=\"#DejaVuSans-97\"/>\r\n      <use x=\"147.558594\" xlink:href=\"#DejaVuSans-120\"/>\r\n      <use x=\"206.738281\" xlink:href=\"#DejaVuSans-32\"/>\r\n      <use x=\"238.525391\" xlink:href=\"#DejaVuSans-84\"/>\r\n      <use x=\"282.609375\" xlink:href=\"#DejaVuSans-101\"/>\r\n      <use x=\"344.132812\" xlink:href=\"#DejaVuSans-109\"/>\r\n      <use x=\"441.544922\" xlink:href=\"#DejaVuSans-112\"/>\r\n      <use x=\"505.021484\" xlink:href=\"#DejaVuSans-101\"/>\r\n      <use x=\"566.544922\" xlink:href=\"#DejaVuSans-114\"/>\r\n      <use x=\"607.658203\" xlink:href=\"#DejaVuSans-97\"/>\r\n      <use x=\"668.9375\" xlink:href=\"#DejaVuSans-116\"/>\r\n      <use x=\"708.146484\" xlink:href=\"#DejaVuSans-117\"/>\r\n      <use x=\"771.525391\" xlink:href=\"#DejaVuSans-114\"/>\r\n      <use x=\"810.388672\" xlink:href=\"#DejaVuSans-101\"/>\r\n      <use x=\"871.912109\" xlink:href=\"#DejaVuSans-115\"/>\r\n      <use x=\"924.011719\" xlink:href=\"#DejaVuSans-32\"/>\r\n      <use x=\"955.798828\" xlink:href=\"#DejaVuSans-40\"/>\r\n      <use x=\"994.8125\" xlink:href=\"#DejaVuSans-70\"/>\r\n      <use x=\"1052.332031\" xlink:href=\"#DejaVuSans-41\"/>\r\n     </g>\r\n    </g>\r\n   </g>\r\n   <g id=\"patch_3\">\r\n    <path d=\"M 46.965625 241.718125 \r\nL 46.965625 22.318125 \r\n\" style=\"fill:none;stroke:#000000;stroke-linecap:square;stroke-linejoin:miter;stroke-width:0.8;\"/>\r\n   </g>\r\n   <g id=\"patch_4\">\r\n    <path d=\"M 417.240625 241.718125 \r\nL 417.240625 22.318125 \r\n\" style=\"fill:none;stroke:#000000;stroke-linecap:square;stroke-linejoin:miter;stroke-width:0.8;\"/>\r\n   </g>\r\n   <g id=\"patch_5\">\r\n    <path d=\"M 46.965625 241.718125 \r\nL 417.240625 241.718125 \r\n\" style=\"fill:none;stroke:#000000;stroke-linecap:square;stroke-linejoin:miter;stroke-width:0.8;\"/>\r\n   </g>\r\n   <g id=\"patch_6\">\r\n    <path d=\"M 46.965625 22.318125 \r\nL 417.240625 22.318125 \r\n\" style=\"fill:none;stroke:#000000;stroke-linecap:square;stroke-linejoin:miter;stroke-width:0.8;\"/>\r\n   </g>\r\n   <g id=\"text_16\">\r\n    <!-- Latitude vs Max Temperatures -->\r\n    <g transform=\"translate(141.476875 16.318125)scale(0.12 -0.12)\">\r\n     <defs>\r\n      <path d=\"M 2.984375 54.6875 \r\nL 12.5 54.6875 \r\nL 29.59375 8.796875 \r\nL 46.6875 54.6875 \r\nL 56.203125 54.6875 \r\nL 35.6875 0 \r\nL 23.484375 0 \r\nz\r\n\" id=\"DejaVuSans-118\"/>\r\n     </defs>\r\n     <use xlink:href=\"#DejaVuSans-76\"/>\r\n     <use x=\"55.712891\" xlink:href=\"#DejaVuSans-97\"/>\r\n     <use x=\"116.992188\" xlink:href=\"#DejaVuSans-116\"/>\r\n     <use x=\"156.201172\" xlink:href=\"#DejaVuSans-105\"/>\r\n     <use x=\"183.984375\" xlink:href=\"#DejaVuSans-116\"/>\r\n     <use x=\"223.193359\" xlink:href=\"#DejaVuSans-117\"/>\r\n     <use x=\"286.572266\" xlink:href=\"#DejaVuSans-100\"/>\r\n     <use x=\"350.048828\" xlink:href=\"#DejaVuSans-101\"/>\r\n     <use x=\"411.572266\" xlink:href=\"#DejaVuSans-32\"/>\r\n     <use x=\"443.359375\" xlink:href=\"#DejaVuSans-118\"/>\r\n     <use x=\"502.539062\" xlink:href=\"#DejaVuSans-115\"/>\r\n     <use x=\"554.638672\" xlink:href=\"#DejaVuSans-32\"/>\r\n     <use x=\"586.425781\" xlink:href=\"#DejaVuSans-77\"/>\r\n     <use x=\"672.705078\" xlink:href=\"#DejaVuSans-97\"/>\r\n     <use x=\"733.984375\" xlink:href=\"#DejaVuSans-120\"/>\r\n     <use x=\"793.164062\" xlink:href=\"#DejaVuSans-32\"/>\r\n     <use x=\"824.951172\" xlink:href=\"#DejaVuSans-84\"/>\r\n     <use x=\"869.035156\" xlink:href=\"#DejaVuSans-101\"/>\r\n     <use x=\"930.558594\" xlink:href=\"#DejaVuSans-109\"/>\r\n     <use x=\"1027.970703\" xlink:href=\"#DejaVuSans-112\"/>\r\n     <use x=\"1091.447266\" xlink:href=\"#DejaVuSans-101\"/>\r\n     <use x=\"1152.970703\" xlink:href=\"#DejaVuSans-114\"/>\r\n     <use x=\"1194.083984\" xlink:href=\"#DejaVuSans-97\"/>\r\n     <use x=\"1255.363281\" xlink:href=\"#DejaVuSans-116\"/>\r\n     <use x=\"1294.572266\" xlink:href=\"#DejaVuSans-117\"/>\r\n     <use x=\"1357.951172\" xlink:href=\"#DejaVuSans-114\"/>\r\n     <use x=\"1396.814453\" xlink:href=\"#DejaVuSans-101\"/>\r\n     <use x=\"1458.337891\" xlink:href=\"#DejaVuSans-115\"/>\r\n    </g>\r\n   </g>\r\n  </g>\r\n </g>\r\n <defs>\r\n  <clipPath id=\"p5a8b493412\">\r\n   <rect height=\"219.4\" width=\"370.275\" x=\"46.965625\" y=\"22.318125\"/>\r\n  </clipPath>\r\n </defs>\r\n</svg>\r\n",
      "image/png": "[encoded data removed]"
     },
     "metadata": {
      "needs_background": "light"
     }
    }
   ],
   "source": [
    "\n",
    "plt.scatter(city_weather_df['Lat'], city_weather_df['Max Temp'], color='purple')\n",
    "plt.xlabel('Latitude')\n",
    "plt.ylabel('Max Temperatures (F)')\n",
    "plt.title('Latitude vs Max Temperatures')\n",
    "plt.tight_layout()\n",
    "plt.savefig('Images/lat_vs_temp.png', facecolor ='w' )\n",
    "plt.show()"
   ]
  },
  {
   "source": [
    "This scatter plot shows exactly what we expect with latitude and max temperatures.  The cities farthest from the equator are the coldest, and the max temperatures rise as you get closer to 0 degrees latitude."
   ],
   "cell_type": "markdown",
   "metadata": {}
  },
  {
   "cell_type": "markdown",
   "metadata": {},
   "source": [
    "## Latitude vs. Humidity Plot"
   ]
  },
  {
   "cell_type": "code",
   "execution_count": null,
   "metadata": {},
   "outputs": [],
   "source": []
  },
  {
   "cell_type": "markdown",
   "metadata": {},
   "source": [
    "## Latitude vs. Cloudiness Plot"
   ]
  },
  {
   "cell_type": "code",
   "execution_count": null,
   "metadata": {},
   "outputs": [],
   "source": []
  },
  {
   "cell_type": "markdown",
   "metadata": {},
   "source": [
    "## Latitude vs. Wind Speed Plot"
   ]
  },
  {
   "cell_type": "code",
   "execution_count": null,
   "metadata": {},
   "outputs": [],
   "source": []
  },
  {
   "cell_type": "markdown",
   "metadata": {},
   "source": [
    "## Linear Regression"
   ]
  },
  {
   "cell_type": "code",
   "execution_count": null,
   "metadata": {},
   "outputs": [],
   "source": []
  },
  {
   "cell_type": "markdown",
   "metadata": {},
   "source": [
    "####  Northern Hemisphere - Max Temp vs. Latitude Linear Regression"
   ]
  },
  {
   "cell_type": "code",
   "execution_count": null,
   "metadata": {},
   "outputs": [],
   "source": []
  },
  {
   "cell_type": "markdown",
   "metadata": {},
   "source": [
    "####  Southern Hemisphere - Max Temp vs. Latitude Linear Regression"
   ]
  },
  {
   "cell_type": "code",
   "execution_count": null,
   "metadata": {},
   "outputs": [],
   "source": []
  },
  {
   "cell_type": "markdown",
   "metadata": {},
   "source": [
    "####  Northern Hemisphere - Humidity (%) vs. Latitude Linear Regression"
   ]
  },
  {
   "cell_type": "code",
   "execution_count": null,
   "metadata": {},
   "outputs": [],
   "source": []
  },
  {
   "cell_type": "markdown",
   "metadata": {},
   "source": [
    "####  Southern Hemisphere - Humidity (%) vs. Latitude Linear Regression"
   ]
  },
  {
   "cell_type": "code",
   "execution_count": null,
   "metadata": {},
   "outputs": [],
   "source": []
  },
  {
   "cell_type": "markdown",
   "metadata": {},
   "source": [
    "####  Northern Hemisphere - Cloudiness (%) vs. Latitude Linear Regression"
   ]
  },
  {
   "cell_type": "code",
   "execution_count": null,
   "metadata": {},
   "outputs": [],
   "source": []
  },
  {
   "cell_type": "markdown",
   "metadata": {},
   "source": [
    "####  Southern Hemisphere - Cloudiness (%) vs. Latitude Linear Regression"
   ]
  },
  {
   "cell_type": "code",
   "execution_count": null,
   "metadata": {},
   "outputs": [],
   "source": []
  },
  {
   "cell_type": "markdown",
   "metadata": {},
   "source": [
    "####  Northern Hemisphere - Wind Speed (mph) vs. Latitude Linear Regression"
   ]
  },
  {
   "cell_type": "code",
   "execution_count": null,
   "metadata": {},
   "outputs": [],
   "source": []
  },
  {
   "cell_type": "markdown",
   "metadata": {},
   "source": [
    "####  Southern Hemisphere - Wind Speed (mph) vs. Latitude Linear Regression"
   ]
  },
  {
   "cell_type": "code",
   "execution_count": null,
   "metadata": {},
   "outputs": [],
   "source": []
  },
  {
   "cell_type": "code",
   "execution_count": null,
   "metadata": {},
   "outputs": [],
   "source": []
  }
 ],
 "metadata": {
  "anaconda-cloud": {},
  "kernel_info": {
   "name": "python3"
  },
  "kernelspec": {
   "name": "python3",
   "display_name": "Python 3.7.9 64-bit ('PythonData': conda)",
   "metadata": {
    "interpreter": {
     "hash": "09b9fd081e3d0d3e582ec8770b3e1541d577f0aa57c748b8ddd47553873ffc88"
    }
   }
  },
  "language_info": {
   "codemirror_mode": {
    "name": "ipython",
    "version": 3
   },
   "file_extension": ".py",
   "mimetype": "text/x-python",
   "name": "python",
   "nbconvert_exporter": "python",
   "pygments_lexer": "ipython3",
   "version": "3.7.9-final"
  },
  "latex_envs": {
   "LaTeX_envs_menu_present": true,
   "autoclose": false,
   "autocomplete": true,
   "bibliofile": "biblio.bib",
   "cite_by": "apalike",
   "current_citInitial": 1,
   "eqLabelWithNumbers": true,
   "eqNumInitial": 1,
   "hotkeys": {
    "equation": "Ctrl-E",
    "itemize": "Ctrl-I"
   },
   "labels_anchors": false,
   "latex_user_defs": false,
   "report_style_numbering": false,
   "user_envs_cfg": false
  },
  "nteract": {
   "version": "0.12.3"
  }
 },
 "nbformat": 4,
 "nbformat_minor": 2
}