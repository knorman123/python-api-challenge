{
 "cells": [
  {
   "cell_type": "markdown",
   "metadata": {},
   "source": [
    "# WeatherPy\n",
    "----\n",
    "\n",
    "#### Note\n",
    "* Instructions have been included for each segment. You do not have to follow them exactly, but they are included to help you think through the steps."
   ]
  },
  {
   "cell_type": "code",
   "execution_count": 12,
   "metadata": {
    "scrolled": true
   },
   "outputs": [],
   "source": [
    "# Dependencies and Setup\n",
    "import matplotlib.pyplot as plt\n",
    "import pandas as pd\n",
    "import numpy as np\n",
    "import requests\n",
    "import time\n",
    "from scipy.stats import linregress\n",
    "\n",
    "# Import API key\n",
    "from api_keys import weather_api_key\n",
    "\n",
    "# Incorporated citipy to determine city based on latitude and longitude\n",
    "from citipy import citipy\n",
    "\n",
    "# Output File (CSV)\n",
    "output_data_file = \"output_data/cities.csv\"\n",
    "\n",
    "# Range of latitudes and longitudes\n",
    "lat_range = (-90, 90)\n",
    "lng_range = (-180, 180)"
   ]
  },
  {
   "cell_type": "markdown",
   "metadata": {},
   "source": [
    "## Generate Cities List"
   ]
  },
  {
   "cell_type": "code",
   "execution_count": 14,
   "metadata": {},
   "outputs": [
    {
     "output_type": "stream",
     "name": "stdout",
     "text": [
      "['ramygala', 'ushuaia', 'medicine hat', 'ocampo', 'avera', 'tiksi', 'chokurdakh', 'karaul', 'qaanaaq', 'luderitz', 'roma', 'saint-pierre', 'georgetown', 'mataura', 'yellowknife', 'klaksvik', 'northam', 'longyearbyen', 'saint-philippe', 'fort abbas', 'portland', 'port alfred', 'chanal', 'general pico', 'kargasok', 'praia da vitoria', 'grindavik', 'banda aceh', 'omsukchan', 'jaisalmer', 'guerrero negro', 'nanortalik', 'salalah', 'golden', 'bac lieu', 'fort portal', 'albany', 'bredasdorp', 'mar del plata', 'kirakira', 'butaritari', 'atuona', 'avarua', 'hermanus', 'rocha', 'karacabey', 'cape town', 'flinders', 'arraial do cabo', 'ahipara', 'maxixe', 'rikitea', 'sur', 'morgan city', 'dikson', 'vanavara', 'punta arenas', 'hilo', 'carnarvon', 'nikolskoye', 'castro', 'nizhneyansk', 'tambo', 'busselton', 'bluff', 'norman wells', 'tsihombe', 'khatanga', 'kaset sombun', 'clearlake', 'mount isa', 'lorengau', 'spornoye', 'khowst', 'atasu', 'hobart', 'hithadhoo', 'bjornevatn', 'elbasan', 'vaini', 'belmonte', 'taoudenni', 'port elizabeth', 'wagar', 'taolanaro', 'coquimbo', 'yar-sale', 'sentyabrskiy', 'college', 'haibowan', 'illoqqortoormiut', 'coihaique', 'kodiak', 'cidreira', 'kailua', 'cururupu', 'tilichiki', 'bowen', 'meulaboh', 'beroroha', 'souillac', 'doume', 'marsaxlokk', 'vardo', 'dingle', 'tuatapere', 'nishihara', 'utiroa', 'khani', 'obra', 'marsala', 'faanui', 'east london', 'pisco', 'zunyi', 'basco', 'boca de parita', 'teya', 'ponta do sol', 'togur', 'aksay', 'zhigansk', 'tumannyy', 'belushya guba', 'keetmanshoop', 'sao joao da barra', 'manggar', 'yumen', 'samarai', 'tasiilaq', 'samusu', 'provideniya', 'makakilo city', 'lebu', 'hamilton', 'cabo san lucas', 'aykhal', 'shingu', 'kazalinsk', 'narasannapeta', 'lavrentiya', 'fort saint john', 'zhezkazgan', 'maanshan', 'jamestown', 'san patricio', 'kruisfontein', 'itoman', 'laguna', 'narsaq', 'richards bay', 'vetovo', 'omsk', 'necochea', 'thinadhoo', 'thompson', 'halifax', 'barra velha', 'barentsburg', 'nome', 'amderma', 'shenkursk', 'puerto ayora', 'komsomolskiy', 'creston', 'fairbanks', 'macaboboni', 'coruripe', 'saldanha', 'rawlins', 'fortuna', 'ubinskoye', 'mayo', 'port lincoln', 'bow island', 'vostok', 'sitka', 'osa', 'west helena', 'ribeira grande', 'okha', 'bengkulu', 'airai', 'torbay', 'san rafael del sur', 'buin', 'hohhot', 'olinda', 'yerbogachen', 'tiznit', 'saskylakh', 'ilulissat', 'saint george', 'wolmaranstad', 'bathsheba', 'gorele', 'new norfolk', 'mahebourg', 'santa maria', 'geraldton', 'kapaa', 'fort saint james', 'otukpo', 'poum', 'cheremshan', 'san jose', 'attawapiskat', 'comodoro rivadavia', 'broome', 'chimbote', 'beni mazar', 'huarmey', 'bethel', 'polovinnoye', 'belaya gora', 'barrow', 'los llanos de aridane', 'kimbe', 'palana', 'mount gambier', 'zaozerne', 'slantsy', 'bilibino', 'ribeiropolis', 'monrovia', 'berlevag', 'kudahuvadhoo', 'noumea', 'adrar', 'daru', 'alora', 'barra patuca', 'shache', 'orotukan', 'vaitupu', 'cayenne', 'palmer', 'armenis', 'jumla', 'kandrian', 'awjilah', 'qaqortoq', 'quatre cocos', 'hongjiang', 'paamiut', 'manowa', 'makat', 'victoria', 'kavieng', 'phichit', 'upernavik', 'tarko-sale', 'rawson', 'leningradskiy', 'pishin', 'ilam', 'cherskiy', 'ust-nera', 'hofn', 'ledyard', 'katsuura', 'kanye', 'katete', 'zhanaozen', 'magaria', 'tuktoyaktuk', 'halalo', 'zyryanka', 'barceloneta', 'deputatskiy', 'zavyalovo', 'luanda', 'hopkinsville', 'cazaje', 'ponta delgada', 'oksfjord', 'sereflikochisar', 'poya', 'niamey', 'lima', 'sinkat', 'meyungs', 'longfeng', 'sao filipe', 'pokosnoye', 'sicuani', 'ko samui', 'padang', 'hunza', 'balakhninskiy', 'mishan', 'husavik', 'bose', 'ajdabiya', 'omboue', 'beringovskiy', 'nelson bay', 'iskateley', 'vestmannaeyjar', 'terrace', 'ati', 'iqaluit', 'oussouye', 'aklavik', 'kloulklubed', 'petatlan', 'baykit', 'domodedovo', 'abha', 'lompoc', 'mittersill', 'boffa', 'falam', 'tura', 'beboto', 'chuy', 'dwarka', 'naryan-mar', 'margate', 'esperance', 'muriwai beach', 'saveh', 'constitucion', 'gorkovskoye', 'rantepao', 'henties bay', 'dalton', 'evanston', 'san nicolas', 'makambako', 'ituacu', 'hay river', 'alyangula', 'bahia honda', 'amga', 'wanning', 'nuuk', 'oranjemund', 'nichinan', 'aflu', 'grand river south east', 'faya', 'bichura', 'bergama', 'kahului', 'mujiayingzi', 'shakawe', 'porto nacional', 'kousseri', 'waitati', 'humboldt', 'vuktyl', 'tenenkou', 'ye', 'iwaki', 'ust-barguzin', 'goure', 'camacha', 'aban', 'umm jarr', 'ascension', 'raudeberg', 'stephenville', 'ashland', 'biltine', 'ust-maya', 'carroll', 'wick', 'lincoln', 'hasaki', 'denpasar', 'ichinohe', 'rochefort', 'opuwo', 'acapulco', 'ipixuna', 'egvekinot', 'willowmore', 'baft', 'sancraiu', 'nemuro', 'severo-kurilsk', 'jatai', 'hammerfest', 'talnakh', 'alofi', 'passo de camaragibe', 'panzhihua', 'codrington', 'toyooka', 'pitiquito', 'burnie', 'tarudant', 'aguimes', 'luoyang', 'konstancin-jeziorna', 'pau dos ferros', 'barawe', 'saint-francois', 'kushmurun', 'burkhala', 'awbari', 'warqla', 'najran', 'progreso', 'tuy hoa', 'namatanai', 'bambous virieux', 'wunsiedel', 'lolua', 'chunskiy', 'san andres', 'shieli', 'arlit', 'west odessa', 'namibe', 'pevek', 'romitan', 'sangar', 'tutoia', 'amapa', 'araouane', 'gao', 'paradwip', 'calahorra', 'santa barbara', 'jiexiu', 'ginir', 'saleaula', 'atherton', 'port macquarie', 'payo', 'gazion', 'paita', 'ndele', 'manado', 'maceio', 'nha trang', 'chiang klang', 'mwanza', 'brae', 'hare bay', 'marystown', 'kampot', 'tasbuget', 'kawalu', 'san cristobal', 'kaitangata', 'miramar', 'chifeng', 'itarema', 'santa cruz', 'pizarro', 'sanmenxia', 'kibara', 'walvis bay', 'aksarka', 'tamworth', 'hailar', 'sao paulo de olivenca', 'the valley', 'tucuman', 'taltal', 'touros', 'labuhan', 'yichang', 'varkkallai', 'russell', 'hambantota', 'treinta y tres', 'santa cruz del norte', 'lahti', 'san clemente', 'chukhloma', 'tadine', 'safaga', 'lakatoro', 'gari', 'xinyang', 'haines junction', 'mys shmidta', 'vaasa', 'kuantan', 'prince rupert', 'antalaha', 'high level', 'karkaralinsk', 'orlik', 'phalodi', 'jackson', 'surgut', 'mendi', 'baie-saint-paul', 'chala', 'port hardy', 'pontes e lacerda', 'mahibadhoo', 'grand gaube', 'mecca', 'bonoua', 'barbar', 'doha', 'samalaeulu', 'lagoa', 'hargeysa', 'sao felix do xingu', 'daura', 'clarence town', 'kieta', 'mutsamudu', 'plettenberg bay', 'grand centre', 'north bend', 'mana', 'sinnamary', 'erenhot', 'wulanhaote', 'valley city', 'lasa', 'karpathos', 'horsham', 'tuytepa', 'hami', 'lianzhou', 'puunsi', 'abu zabad', 'lumut', 'eldikan', 'crab hill', 'luancheng', 'muyezerskiy', 'kerki', 'hualmay', 'pontalina', 'washington', 'malatya', 'severnyy', 'uray', 'chom bung', 'aswan', 'taber', 'shibarghan', 'aleksandrov gay', 'luganville', 'muros', 'gondar', 'qasigiannguit', 'sepuka', 'barra do corda', 'mehamn', 'macomb', 'sarkand', 'olafsvik', 'maragogi', 'ouallam', 'half moon bay', 'rochelle', 'seoul', 'susner', 'bonthe', 'lixourion', 'abu samrah', 'monticello', 'ponta grossa', 'khorixas', 'marang', 'sobolevo', 'mahajanga', 'haslev', 'lebedyn', 'tigil', 'tambopata', 'merauke', 'sibolga', 'jiddah', 'gushikawa', 'svetlogorsk', 'kushiro', 'saint-augustin', 'fare', 'bambanglipuro', 'kumta', 'dores do indaia', 'genhe', 'bolungarvik', 'smithers', 'amarwara', 'umzimvubu', 'kagadi', 'tiverton', 'sochi', 'turayf', 'marawi', 'zhongshu', 'yulara', 'anadyr', 'alto araguaia', 'axim', 'tazovskiy', 'alpena', 'dasoguz', 'victoria point', 'raahe', 'galdar', 'gore', 'rungata', 'caramay']\n"
     ]
    }
   ],
   "source": [
    "# List for holding lat_lngs and cities\n",
    "lat_lngs = []\n",
    "cities = []\n",
    "\n",
    "# Create a set of random lat and lng combinations\n",
    "lats = np.random.uniform(lat_range[0], lat_range[1], size=1500)\n",
    "lngs = np.random.uniform(lng_range[0], lng_range[1], size=1500)\n",
    "lat_lngs = zip(lats, lngs)\n",
    "\n",
    "# Identify nearest city for each lat, lng combination\n",
    "for lat_lng in lat_lngs:\n",
    "    city = citipy.nearest_city(lat_lng[0], lat_lng[1]).city_name\n",
    "    \n",
    "    # If the city is unique, then add it to a our cities list\n",
    "    if city not in cities:\n",
    "        cities.append(city)\n",
    "\n",
    "# Print the city count to confirm sufficient count\n",
    "len(cities)\n",
    "print(cities)"
   ]
  },
  {
   "cell_type": "markdown",
   "metadata": {},
   "source": [
    "### Perform API Calls\n",
    "* Perform a weather check on each city using a series of successive API calls.\n",
    "* Include a print log of each city as it'sbeing processed (with the city number and city name).\n"
   ]
  },
  {
   "cell_type": "code",
   "execution_count": 23,
   "metadata": {
    "scrolled": true
   },
   "outputs": [
    {
     "output_type": "stream",
     "name": "stdout",
     "text": [
      "ushuaia\n"
     ]
    }
   ],
   "source": [
    "# Import Url.\n",
    "url = \"http://api.openweathermap.org/data/2.5/weather?\"\n",
    "units = \"imperial\"\n",
    "\n",
    "# Build partial query URL\n",
    "query_url = f\"{url}appid={weather_api_key}&units={units}&q=\"\n",
    "\n",
    "# Check response\n",
    "    #city = 'roma'\n",
    "    #response = requests.get(query_url + city).json()\n",
    "    #print(response)\n",
    "# Variables\n",
    "city_weather = []\n",
    "count = 1\n",
    "set_count = 1\n",
    "\n",
    "# Use for loop to retrieve weather data for cities\n",
    "\n",
    "for index, city in enumerate(cities):\n",
    "    if index == 1:\n",
    "        print(city)\n",
    "    \n"
   ]
  },
  {
   "cell_type": "markdown",
   "metadata": {},
   "source": [
    "### Convert Raw Data to DataFrame\n",
    "* Export the city data into a .csv.\n",
    "* Display the DataFrame"
   ]
  },
  {
   "cell_type": "code",
   "execution_count": null,
   "metadata": {},
   "outputs": [],
   "source": []
  },
  {
   "cell_type": "code",
   "execution_count": null,
   "metadata": {},
   "outputs": [],
   "source": []
  },
  {
   "cell_type": "markdown",
   "metadata": {},
   "source": [
    "## Inspect the data and remove the cities where the humidity > 100%.\n",
    "----\n",
    "Skip this step if there are no cities that have humidity > 100%. "
   ]
  },
  {
   "cell_type": "code",
   "execution_count": null,
   "metadata": {},
   "outputs": [],
   "source": []
  },
  {
   "cell_type": "code",
   "execution_count": null,
   "metadata": {},
   "outputs": [],
   "source": [
    "#  Get the indices of cities that have humidity over 100%.\n"
   ]
  },
  {
   "cell_type": "code",
   "execution_count": null,
   "metadata": {},
   "outputs": [],
   "source": [
    "# Make a new DataFrame equal to the city data to drop all humidity outliers by index.\n",
    "# Passing \"inplace=False\" will make a copy of the city_data DataFrame, which we call \"clean_city_data\".\n"
   ]
  },
  {
   "cell_type": "code",
   "execution_count": null,
   "metadata": {},
   "outputs": [],
   "source": [
    "\n"
   ]
  },
  {
   "cell_type": "markdown",
   "metadata": {},
   "source": [
    "## Plotting the Data\n",
    "* Use proper labeling of the plots using plot titles (including date of analysis) and axes labels.\n",
    "* Save the plotted figures as .pngs."
   ]
  },
  {
   "cell_type": "markdown",
   "metadata": {},
   "source": [
    "## Latitude vs. Temperature Plot"
   ]
  },
  {
   "cell_type": "code",
   "execution_count": null,
   "metadata": {
    "scrolled": true
   },
   "outputs": [],
   "source": []
  },
  {
   "cell_type": "markdown",
   "metadata": {},
   "source": [
    "## Latitude vs. Humidity Plot"
   ]
  },
  {
   "cell_type": "code",
   "execution_count": null,
   "metadata": {},
   "outputs": [],
   "source": []
  },
  {
   "cell_type": "markdown",
   "metadata": {},
   "source": [
    "## Latitude vs. Cloudiness Plot"
   ]
  },
  {
   "cell_type": "code",
   "execution_count": null,
   "metadata": {},
   "outputs": [],
   "source": []
  },
  {
   "cell_type": "markdown",
   "metadata": {},
   "source": [
    "## Latitude vs. Wind Speed Plot"
   ]
  },
  {
   "cell_type": "code",
   "execution_count": null,
   "metadata": {},
   "outputs": [],
   "source": []
  },
  {
   "cell_type": "markdown",
   "metadata": {},
   "source": [
    "## Linear Regression"
   ]
  },
  {
   "cell_type": "code",
   "execution_count": null,
   "metadata": {},
   "outputs": [],
   "source": []
  },
  {
   "cell_type": "markdown",
   "metadata": {},
   "source": [
    "####  Northern Hemisphere - Max Temp vs. Latitude Linear Regression"
   ]
  },
  {
   "cell_type": "code",
   "execution_count": null,
   "metadata": {},
   "outputs": [],
   "source": []
  },
  {
   "cell_type": "markdown",
   "metadata": {},
   "source": [
    "####  Southern Hemisphere - Max Temp vs. Latitude Linear Regression"
   ]
  },
  {
   "cell_type": "code",
   "execution_count": null,
   "metadata": {},
   "outputs": [],
   "source": []
  },
  {
   "cell_type": "markdown",
   "metadata": {},
   "source": [
    "####  Northern Hemisphere - Humidity (%) vs. Latitude Linear Regression"
   ]
  },
  {
   "cell_type": "code",
   "execution_count": null,
   "metadata": {},
   "outputs": [],
   "source": []
  },
  {
   "cell_type": "markdown",
   "metadata": {},
   "source": [
    "####  Southern Hemisphere - Humidity (%) vs. Latitude Linear Regression"
   ]
  },
  {
   "cell_type": "code",
   "execution_count": null,
   "metadata": {},
   "outputs": [],
   "source": []
  },
  {
   "cell_type": "markdown",
   "metadata": {},
   "source": [
    "####  Northern Hemisphere - Cloudiness (%) vs. Latitude Linear Regression"
   ]
  },
  {
   "cell_type": "code",
   "execution_count": null,
   "metadata": {},
   "outputs": [],
   "source": []
  },
  {
   "cell_type": "markdown",
   "metadata": {},
   "source": [
    "####  Southern Hemisphere - Cloudiness (%) vs. Latitude Linear Regression"
   ]
  },
  {
   "cell_type": "code",
   "execution_count": null,
   "metadata": {},
   "outputs": [],
   "source": []
  },
  {
   "cell_type": "markdown",
   "metadata": {},
   "source": [
    "####  Northern Hemisphere - Wind Speed (mph) vs. Latitude Linear Regression"
   ]
  },
  {
   "cell_type": "code",
   "execution_count": null,
   "metadata": {},
   "outputs": [],
   "source": []
  },
  {
   "cell_type": "markdown",
   "metadata": {},
   "source": [
    "####  Southern Hemisphere - Wind Speed (mph) vs. Latitude Linear Regression"
   ]
  },
  {
   "cell_type": "code",
   "execution_count": null,
   "metadata": {},
   "outputs": [],
   "source": []
  },
  {
   "cell_type": "code",
   "execution_count": null,
   "metadata": {},
   "outputs": [],
   "source": []
  }
 ],
 "metadata": {
  "anaconda-cloud": {},
  "kernel_info": {
   "name": "python3"
  },
  "kernelspec": {
   "name": "python3",
   "display_name": "Python 3.7.9 64-bit ('PythonData': conda)",
   "metadata": {
    "interpreter": {
     "hash": "09b9fd081e3d0d3e582ec8770b3e1541d577f0aa57c748b8ddd47553873ffc88"
    }
   }
  },
  "language_info": {
   "codemirror_mode": {
    "name": "ipython",
    "version": 3
   },
   "file_extension": ".py",
   "mimetype": "text/x-python",
   "name": "python",
   "nbconvert_exporter": "python",
   "pygments_lexer": "ipython3",
   "version": "3.7.9-final"
  },
  "latex_envs": {
   "LaTeX_envs_menu_present": true,
   "autoclose": false,
   "autocomplete": true,
   "bibliofile": "biblio.bib",
   "cite_by": "apalike",
   "current_citInitial": 1,
   "eqLabelWithNumbers": true,
   "eqNumInitial": 1,
   "hotkeys": {
    "equation": "Ctrl-E",
    "itemize": "Ctrl-I"
   },
   "labels_anchors": false,
   "latex_user_defs": false,
   "report_style_numbering": false,
   "user_envs_cfg": false
  },
  "nteract": {
   "version": "0.12.3"
  }
 },
 "nbformat": 4,
 "nbformat_minor": 2
}